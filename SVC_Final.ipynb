{
 "cells": [
  {
   "cell_type": "markdown",
   "metadata": {},
   "source": [
    "# Classification of DNA Sequences to identify invasive species with semi-supervised training\n",
    "\n",
    "## Machine Learning at Berkeley Research Project\n",
    "\n",
    "### Background\n",
    "\n",
    "We attempt to solve the classification problem of identifying invasive species given binary labels and a novel DNA dataset from the island of Morea.\n",
    "\n",
    "By: Daniel Geng, Daniel Ho, Tracy Lou, Utkarsh Singhal"
   ]
  },
  {
   "cell_type": "markdown",
   "metadata": {},
   "source": [
    "### Method\n",
    "\n",
    "We use a semi-supervised method to take advantage of unlabeled DNA (no invasive/native label), which makes up over two thirds of the dataset.\n",
    "\n",
    "First, we load the DNA sequences and compute a similarity matrix which is easier to work with compared to DNA bases. \n",
    "\n",
    "Note that we can add in the unlabeled data in generating this matrix, because the matrix only uses the DNA sequqences, and not the invasive/native label.\n",
    "\n",
    "Then, we can use a clustering, supervised algorithm like SVC to perform classification on the processed matrix. We are doing supervised learning, so we simply discard the rows of our data matrix corresponding to the unlabeled data."
   ]
  },
  {
   "cell_type": "markdown",
   "metadata": {},
   "source": [
    "## Data processing "
   ]
  },
  {
   "cell_type": "code",
   "execution_count": 67,
   "metadata": {
    "collapsed": true
   },
   "outputs": [],
   "source": [
    "# import libraries\n",
    "%matplotlib inline\n",
    "import numpy as np\n",
    "import pandas as pd\n",
    "import matplotlib.pyplot as plt\n",
    "import scipy\n",
    "import sklearn as sk\n",
    "from __future__ import division\n",
    "from sklearn.cross_validation import train_test_split\n",
    "import math\n",
    "\n",
    "import collections\n",
    "from tqdm import trange\n",
    "from sklearn.svm import SVC\n",
    "import random"
   ]
  },
  {
   "cell_type": "markdown",
   "metadata": {},
   "source": [
    "Here, we use pandas to read the excel sheet, and then extract features and convert the data to numpy arrays."
   ]
  },
  {
   "cell_type": "code",
   "execution_count": 68,
   "metadata": {
    "collapsed": true
   },
   "outputs": [],
   "source": [
    "# read the excel sheet \n",
    "df = pd.read_excel('./BioCode for Machine Learning Updated.xlsx')\n",
    "\n",
    "# Read in the labels\n",
    "cls = df['Classification']\n",
    "\n",
    "# Read the DNA sequences, which are strings comprised of the letters ATCG\n",
    "seq = df['Aligned Sequence']\n",
    "\n",
    "Order_group = df['Order_Group']\n",
    "\n",
    "# O_g = np.array([o_g.split('_') for o_g in Order_group])\n",
    "\n",
    "species = df['Species']"
   ]
  },
  {
   "cell_type": "markdown",
   "metadata": {},
   "source": [
    "The data we're working with are snippets of DNA a few hundred bases long."
   ]
  },
  {
   "cell_type": "code",
   "execution_count": 69,
   "metadata": {
    "collapsed": false,
    "scrolled": true
   },
   "outputs": [
    {
     "data": {
      "text/plain": [
       "'ACATTATACTTCATATTTGGAGGATGAGCCGGAATAGTAGGAACCTCGTTAAGA---ATACTTATTCGCGCAGAACTTAATCAACCA---GGATCCCTT------ATTGGAGATGATCAAATTTATAATGTTATTGTTACAGCCCACGCATTTGTTATAATTTTCTTTATAGTTATACCAATCTTGATTGGAGGGTTTGGAAATTGATTAGTACCTCTAATATTAGGAGCACCAGATATAGCATTCCCACGAATAAATAATATAAGATTCTGATTATTACCCCCATCACTCTCATTATTATTAACCAGTAGATTAGTCGAAAGAGGAGCTGGTACTGGTTGAACTGTATACCCACCCTTAGCTAGAGGGTTAGCCCATGCTGGTGCATCTGTTGATCTTGCAATCTTTTCTCTACACTTAGCAGGTGTTTCCTCTATTTTAGGAGCAGTTAATTTCATTTCAACAACAATCAATATAAAACCAATAAATATAACATCAGACCGAATCCCTTTATTTGTATGAGCTGTAGCAATCACAGCTTTACTTCTATTATTATCCCTACCAGTGCTTGCAGGAGCAATTACTATATTATTAACAGACCGAAACCTAAATACATCATTTTTTGACCCAGCTGGCGGGGGGGATCCTATTCTCTATCAACATTTATTT--------------------------------'"
      ]
     },
     "execution_count": 69,
     "metadata": {},
     "output_type": "execute_result"
    }
   ],
   "source": [
    "seq[0]"
   ]
  },
  {
   "cell_type": "markdown",
   "metadata": {},
   "source": [
    "We can visualize the labels below. As we can see, the labels are very messy. We can only use the values of `Indigenous`, `Invasive`, or `NaN` for supervised training. However, because most unlabeled data points still have an associated DNA sequence, we can still use them in an unsupervised pre-training stage."
   ]
  },
  {
   "cell_type": "code",
   "execution_count": 70,
   "metadata": {
    "collapsed": false
   },
   "outputs": [
    {
     "name": "stdout",
     "output_type": "stream",
     "text": [
      "0            NaN\n",
      "1            NaN\n",
      "2       Invasive\n",
      "3       Invasive\n",
      "4       Invasive\n",
      "5            NaN\n",
      "6            NaN\n",
      "7            NaN\n",
      "8     Introduced\n",
      "9     Introduced\n",
      "10    Introduced\n",
      "11    Introduced\n",
      "12    Introduced\n",
      "13    Introduced\n",
      "14    Introduced\n",
      "15    Introduced\n",
      "16    Introduced\n",
      "17    Introduced\n",
      "18    Introduced\n",
      "19    Introduced\n",
      "Name: Classification, dtype: object\n"
     ]
    }
   ],
   "source": [
    "print(cls[:20])"
   ]
  },
  {
   "cell_type": "markdown",
   "metadata": {},
   "source": [
    "However, some species don't even have associated DNA sequences. These instead have the value `None`. We have to discard these before we proceed."
   ]
  },
  {
   "cell_type": "code",
   "execution_count": 60,
   "metadata": {
    "collapsed": true
   },
   "outputs": [],
   "source": [
    "# Shuffles the data (to make sure)\n",
    "#cls = cls.sample(frac=1).reset_index(drop=True)"
   ]
  },
  {
   "cell_type": "code",
   "execution_count": 61,
   "metadata": {
    "collapsed": true
   },
   "outputs": [],
   "source": [
    "# Convert DNA data to numpy array, and convert NaNs to Nones\n",
    "seq = np.array(seq.fillna('None'))\n",
    "\n",
    "# Create a binary filter to eliminate invalid DNA sequences\n",
    "valid_idx = np.array([i for i in range(len(seq)) if seq[i] != 'None'])\n",
    "\n",
    "# Apply the filter\n",
    "valid_seq = seq[valid_idx]\n",
    "cls_valid = cls[valid_idx]\n",
    "cls_valid = np.array(cls_valid)"
   ]
  },
  {
   "cell_type": "code",
   "execution_count": 62,
   "metadata": {
    "collapsed": true
   },
   "outputs": [],
   "source": [
    "species = species[valid_idx]"
   ]
  },
  {
   "cell_type": "markdown",
   "metadata": {},
   "source": [
    "Now, we process the DNA sequences by converting the string of bases into an array of characters."
   ]
  },
  {
   "cell_type": "code",
   "execution_count": 63,
   "metadata": {
    "collapsed": false
   },
   "outputs": [
    {
     "name": "stdout",
     "output_type": "stream",
     "text": [
      "4459 4459 4459\n"
     ]
    }
   ],
   "source": [
    "# Seperate string into individual characters\n",
    "seq_arrays = [np.array([i for i in s]) for s in valid_seq]\n",
    "\n",
    "mat_size = len(seq_arrays)\n",
    "\n",
    "print(len(valid_seq), len(cls_valid), mat_size)"
   ]
  },
  {
   "cell_type": "code",
   "execution_count": 64,
   "metadata": {
    "collapsed": false
   },
   "outputs": [
    {
     "name": "stdout",
     "output_type": "stream",
     "text": [
      "['A' 'C' 'A' 'T' 'T' 'A' 'T' 'A' 'C' 'T' 'T' 'C' 'A' 'T' 'A' 'T' 'T' 'T'\n",
      " 'G' 'G']\n"
     ]
    }
   ],
   "source": [
    "print(seq_arrays[0][:20])"
   ]
  },
  {
   "cell_type": "markdown",
   "metadata": {},
   "source": [
    "## 11/15"
   ]
  },
  {
   "cell_type": "code",
   "execution_count": 51,
   "metadata": {
    "collapsed": true
   },
   "outputs": [],
   "source": [
    "# order = np.array([o_g.split('_') for o_g in Order_group])[:, 0]\n",
    "\n",
    "# species = np.array([o_g.split('_') for o_g in Order_group])[:, 2]\n",
    "\n",
    "# print(order.shape, species.shape)\n",
    "\n",
    "# print(order[:3], species[:3])"
   ]
  },
  {
   "cell_type": "code",
   "execution_count": 65,
   "metadata": {
    "collapsed": false
   },
   "outputs": [
    {
     "name": "stdout",
     "output_type": "stream",
     "text": [
      "743\n"
     ]
    }
   ],
   "source": [
    "list_species = set()\n",
    "for s in species:\n",
    "    list_species.add(s)\n",
    "    \n",
    "print(len(list_species))"
   ]
  },
  {
   "cell_type": "code",
   "execution_count": 53,
   "metadata": {
    "collapsed": false,
    "scrolled": true
   },
   "outputs": [
    {
     "ename": "TypeError",
     "evalue": "'dict_items' object is not subscriptable",
     "output_type": "error",
     "traceback": [
      "\u001b[1;31m---------------------------------------------------------------------------\u001b[0m",
      "\u001b[1;31mTypeError\u001b[0m                                 Traceback (most recent call last)",
      "\u001b[1;32m<ipython-input-53-5f6fd743fe5d>\u001b[0m in \u001b[0;36m<module>\u001b[1;34m()\u001b[0m\n\u001b[0;32m      3\u001b[0m     \u001b[0mspecies_to_data\u001b[0m\u001b[1;33m[\u001b[0m\u001b[0mspecies\u001b[0m\u001b[1;33m[\u001b[0m\u001b[0mi\u001b[0m\u001b[1;33m]\u001b[0m\u001b[1;33m]\u001b[0m\u001b[1;33m.\u001b[0m\u001b[0mappend\u001b[0m\u001b[1;33m(\u001b[0m\u001b[1;33m(\u001b[0m\u001b[0mi\u001b[0m\u001b[1;33m,\u001b[0m \u001b[0mcls_valid\u001b[0m\u001b[1;33m[\u001b[0m\u001b[0mi\u001b[0m\u001b[1;33m]\u001b[0m\u001b[1;33m)\u001b[0m\u001b[1;33m)\u001b[0m\u001b[1;33m\u001b[0m\u001b[0m\n\u001b[0;32m      4\u001b[0m \u001b[1;33m\u001b[0m\u001b[0m\n\u001b[1;32m----> 5\u001b[1;33m \u001b[0mprint\u001b[0m\u001b[1;33m(\u001b[0m\u001b[0mspecies_to_data\u001b[0m\u001b[1;33m.\u001b[0m\u001b[0mitems\u001b[0m\u001b[1;33m(\u001b[0m\u001b[1;33m)\u001b[0m\u001b[1;33m[\u001b[0m\u001b[1;33m:\u001b[0m\u001b[1;36m5\u001b[0m\u001b[1;33m]\u001b[0m\u001b[1;33m)\u001b[0m\u001b[1;33m\u001b[0m\u001b[0m\n\u001b[0m\u001b[0;32m      6\u001b[0m \u001b[1;33m\u001b[0m\u001b[0m\n\u001b[0;32m      7\u001b[0m \u001b[1;32mdel\u001b[0m \u001b[0mspecies_to_data\u001b[0m\u001b[1;33m[\u001b[0m\u001b[1;36m0\u001b[0m\u001b[1;33m]\u001b[0m\u001b[1;33m\u001b[0m\u001b[0m\n",
      "\u001b[1;31mTypeError\u001b[0m: 'dict_items' object is not subscriptable"
     ]
    }
   ],
   "source": [
    "species_to_data = collections.defaultdict(list)\n",
    "for i in range(len(species)):\n",
    "    species_to_data[species[i]].append((i, cls_valid[i]))\n",
    "\n",
    "print(list(species_to_data.items())[:5])\n",
    "\n",
    "del species_to_data[0]\n",
    "\n",
    "print()\n",
    "\n",
    "print(list(species_to_data.items())[:5])\n",
    "\n",
    "print(len(species_to_data.keys()))"
   ]
  },
  {
   "cell_type": "code",
   "execution_count": 54,
   "metadata": {
    "collapsed": true,
    "scrolled": true
   },
   "outputs": [],
   "source": [
    "for k, v in species_to_data.items():\n",
    "    # print(v[0])\n",
    "    # assert False\n",
    "    if type(v[0][1]) == float and np.isnan(v[0][1]):\n",
    "        species_to_data[k] = (-1, [i[0] for i in v])\n",
    "    elif v[0][1] == 'Indigenous':\n",
    "        species_to_data[k] = (1, [i[0] for i in v])\n",
    "    else:\n",
    "        assert v[0][1] == 'Invasive' or v[0][1] == 'Introduced'\n",
    "        species_to_data[k] = (0, [i[0] for i in v])\n",
    "\n",
    "    "
   ]
  },
  {
   "cell_type": "code",
   "execution_count": 55,
   "metadata": {
    "collapsed": false
   },
   "outputs": [
    {
     "ename": "TypeError",
     "evalue": "'dict_items' object is not subscriptable",
     "output_type": "error",
     "traceback": [
      "\u001b[1;31m---------------------------------------------------------------------------\u001b[0m",
      "\u001b[1;31mTypeError\u001b[0m                                 Traceback (most recent call last)",
      "\u001b[1;32m<ipython-input-55-799fbb5b75a5>\u001b[0m in \u001b[0;36m<module>\u001b[1;34m()\u001b[0m\n\u001b[1;32m----> 1\u001b[1;33m \u001b[0mprint\u001b[0m\u001b[1;33m(\u001b[0m\u001b[0mspecies_to_data\u001b[0m\u001b[1;33m.\u001b[0m\u001b[0mitems\u001b[0m\u001b[1;33m(\u001b[0m\u001b[1;33m)\u001b[0m\u001b[1;33m[\u001b[0m\u001b[1;33m:\u001b[0m\u001b[1;36m30\u001b[0m\u001b[1;33m]\u001b[0m\u001b[1;33m)\u001b[0m\u001b[1;33m\u001b[0m\u001b[0m\n\u001b[0m",
      "\u001b[1;31mTypeError\u001b[0m: 'dict_items' object is not subscriptable"
     ]
    }
   ],
   "source": [
    "print(species_to_data.items()[:30])"
   ]
  },
  {
   "cell_type": "code",
   "execution_count": 159,
   "metadata": {
    "collapsed": true
   },
   "outputs": [],
   "source": [
    "testing_set = []\n",
    "testing_labels = []\n",
    "training_set = []\n",
    "training_labels = []\n",
    "testing_species_id = []\n",
    "\n",
    "tot_native = 0\n",
    "tot_invasive = 0\n",
    "count_native = 0\n",
    "count_invasive = 0\n",
    "cur_id = 0\n",
    "\n",
    "keys =  list(species_to_data.keys())\n",
    "random.shuffle(keys)\n",
    "\n",
    "for _, v in [(key, species_to_data[key]) for key in keys]:\n",
    "    gt, idxs = v\n",
    "    len_idx = len(idxs)\n",
    "    # print(len_idx)\n",
    "    if gt == 0:\n",
    "        # if tot_invasive > 50 and tot_invasive / (tot_invasive + tot_native) > 0.55:\n",
    "        #     continue\n",
    "            \n",
    "        tot_invasive += 1\n",
    "        \n",
    "        if count_invasive > 0:\n",
    "            training_set += [idxs[0]]\n",
    "            training_labels += [0]\n",
    "            # training_set += idxs\n",
    "            # training_labels += [0 for _ in range(len_idx)]\n",
    "            count_invasive -= 1\n",
    "        else:\n",
    "            testing_set += [idxs[0]]\n",
    "            testing_labels += [0]\n",
    "            testing_species_id += [cur_id]\n",
    "            \n",
    "            # testing_set += idxs\n",
    "            # testing_labels += [0 for _ in range(len_idx)]\n",
    "            # testing_species_id += [cur_id for _ in range(len_idx)]\n",
    "            # print(len_idx)\n",
    "            cur_id += 1\n",
    "            count_invasive += 2\n",
    "            \n",
    "    elif gt == 1:\n",
    "        tot_native += 1\n",
    "        if count_native > 0:\n",
    "            training_set += [idxs[0]]\n",
    "            training_labels += [1]\n",
    "            # training_set += idxs\n",
    "            # training_labels += [1 for _ in range(len_idx)]\n",
    "            count_native -= 1\n",
    "        else:\n",
    "            testing_set += [idxs[0]]\n",
    "            testing_labels += [1]\n",
    "            testing_species_id += [cur_id]\n",
    "            \n",
    "            # print(cur_id)\n",
    "            # testing_set += idxs\n",
    "            # print(len_idx)\n",
    "            # testing_labels += [1 for _ in range(len_idx)]\n",
    "            # testing_species_id += [cur_id for _ in range(len_idx)]\n",
    "            count_native += 2\n",
    "            cur_id += 1"
   ]
  },
  {
   "cell_type": "code",
   "execution_count": 160,
   "metadata": {
    "collapsed": false
   },
   "outputs": [
    {
     "name": "stdout",
     "output_type": "stream",
     "text": [
      "[1840, 3296, 3466, 3120, 4355, 2999, 2230, 2989, 3528, 2556, 1854, 1883, 1391, 1985, 3631, 525, 364, 3953, 1417, 1309, 3783, 833, 3717, 448, 3009, 4108, 1716, 1728, 964, 974, 1912, 2354, 2028, 3008, 2707, 3350, 356, 2174, 3003, 3973, 122, 3708, 3605, 3352, 2293, 178, 831, 2382, 551, 3269, 3342, 832, 3263, 4056, 3026, 2638, 4440, 3587, 3085, 3401, 4050, 4195, 1894, 4070, 4105, 2328, 1064, 794, 1073, 619, 4251, 3022, 3719, 190, 3440, 2307, 1755, 213, 3692, 1155, 1031, 3453, 632, 3909, 752, 1757, 2534, 3139, 3474, 3257, 4308, 2436, 3545, 2, 134, 2788, 1093]\n",
      "[1, 0, 0, 0, 0, 0, 0, 0, 0, 0, 0, 1, 0, 0, 0, 0, 1, 0, 1, 0, 0, 0, 0, 0, 1, 0, 0, 0, 0, 0, 0, 0, 0, 0, 0, 0, 1, 0, 0, 0, 0, 0, 0, 0, 0, 0, 0, 1, 0, 0, 0, 0, 0, 0, 0, 0, 0, 0, 0, 0, 1, 0, 0, 0, 0, 0, 0, 0, 0, 0, 1, 0, 0, 0, 0, 0, 0, 0, 0, 1, 0, 0, 0, 0, 0, 0, 0, 1, 0, 0, 0, 0, 0, 0, 1, 0, 0]\n",
      "[2512, 1701, 327, 4407, 3656, 3123, 1089, 4457, 2314, 56, 2412, 4237, 298, 2090, 349, 2456, 2953, 3786, 3960, 1119, 1500, 829, 4127, 3944, 3470, 1335, 203, 2268, 3540, 1899, 237, 626, 280, 1095, 4136, 493, 1068, 1785, 1122, 3240, 3805, 3643, 1918, 408, 3033, 3500, 3793, 3463, 2850, 4320, 4330, 2337, 118, 3837, 753, 3303, 3197, 388, 3695, 518, 2793, 187, 2746, 3546, 927, 4398, 2981, 3660, 2729, 4060, 228, 2076, 2799, 3533, 2745, 2519, 3720, 2468, 3700, 3655, 3865, 3292, 1727, 3419, 275, 3152, 3306, 3288, 3001, 1776, 2263, 1264, 2353, 3000, 1909, 2863, 3371, 63, 3374, 3899]\n",
      "[0, 0, 0, 0, 0, 0, 0, 0, 0, 0, 0, 0, 1, 0, 0, 0, 0, 0, 1, 0, 0, 0, 0, 1, 0, 0, 0, 0, 0, 1, 0, 0, 1, 0, 1, 0, 0, 0, 0, 0, 1, 0, 0, 0, 0, 0, 1, 0, 1, 0, 0, 0, 0, 0, 0, 0, 0, 0, 0, 0, 0, 0, 0, 0, 1, 0, 0, 0, 0, 0, 0, 0, 0, 0, 0, 0, 1, 0, 0, 0, 0, 0, 0, 0, 0, 1, 0, 0, 0, 0, 0, 0, 0, 0, 0, 0, 0, 0, 0, 0]\n",
      "[0, 1, 2, 3, 4, 5, 6, 7, 8, 9, 10, 11, 12, 13, 14, 15, 16, 17, 18, 19, 20, 21, 22, 23, 24, 25, 26, 27, 28, 29, 30, 31, 32, 33, 34, 35, 36, 37, 38, 39, 40, 41, 42, 43, 44, 45, 46, 47, 48, 49, 50, 51, 52, 53, 54, 55, 56, 57, 58, 59, 60, 61, 62, 63, 64, 65, 66, 67, 68, 69, 70, 71, 72, 73, 74, 75, 76, 77, 78, 79, 80, 81, 82, 83, 84, 85, 86, 87, 88, 89, 90, 91, 92, 93, 94, 95, 96]\n"
     ]
    }
   ],
   "source": [
    "ct= 100\n",
    "print(testing_set[:ct])\n",
    "print(testing_labels[:ct])\n",
    "print(training_set[:ct])\n",
    "print(training_labels[:ct])\n",
    "print(testing_species_id[:ct])"
   ]
  },
  {
   "cell_type": "code",
   "execution_count": 162,
   "metadata": {
    "collapsed": false
   },
   "outputs": [
    {
     "name": "stdout",
     "output_type": "stream",
     "text": [
      "(254, 34)\n"
     ]
    }
   ],
   "source": [
    "print(tot_invasive, tot_native)\n"
   ]
  },
  {
   "cell_type": "code",
   "execution_count": 165,
   "metadata": {
    "collapsed": false
   },
   "outputs": [
    {
     "data": {
      "text/plain": [
       "0.8819444444444444"
      ]
     },
     "execution_count": 165,
     "metadata": {},
     "output_type": "execute_result"
    }
   ],
   "source": [
    "tot_invasive / (tot_invasive+tot_native)"
   ]
  },
  {
   "cell_type": "code",
   "execution_count": 17,
   "metadata": {
    "collapsed": false
   },
   "outputs": [
    {
     "ename": "IndexError",
     "evalue": "list index out of range",
     "output_type": "error",
     "traceback": [
      "\u001b[0;31m---------------------------------------------------------------------------\u001b[0m",
      "\u001b[0;31mIndexError\u001b[0m                                Traceback (most recent call last)",
      "\u001b[0;32m<ipython-input-17-9a159577c96c>\u001b[0m in \u001b[0;36m<module>\u001b[0;34m()\u001b[0m\n\u001b[1;32m      4\u001b[0m \u001b[0;32mfor\u001b[0m \u001b[0mk\u001b[0m\u001b[0;34m,\u001b[0m \u001b[0mv\u001b[0m \u001b[0;32min\u001b[0m \u001b[0mspecies_to_data\u001b[0m\u001b[0;34m.\u001b[0m\u001b[0mitems\u001b[0m\u001b[0;34m(\u001b[0m\u001b[0;34m)\u001b[0m\u001b[0;34m:\u001b[0m\u001b[0;34m\u001b[0m\u001b[0m\n\u001b[1;32m      5\u001b[0m     \u001b[0;32mfor\u001b[0m \u001b[0mi\u001b[0m \u001b[0;32min\u001b[0m \u001b[0mv\u001b[0m\u001b[0;34m[\u001b[0m\u001b[0;36m1\u001b[0m\u001b[0;34m:\u001b[0m\u001b[0;34m]\u001b[0m\u001b[0;34m:\u001b[0m\u001b[0;34m\u001b[0m\u001b[0m\n\u001b[0;32m----> 6\u001b[0;31m         \u001b[0mi\u001b[0m \u001b[0;34m=\u001b[0m \u001b[0mi\u001b[0m\u001b[0;34m[\u001b[0m\u001b[0;36m1\u001b[0m\u001b[0;34m]\u001b[0m\u001b[0;34m\u001b[0m\u001b[0m\n\u001b[0m\u001b[1;32m      7\u001b[0m         \u001b[0;31m# print(i)\u001b[0m\u001b[0;34m\u001b[0m\u001b[0;34m\u001b[0m\u001b[0m\n\u001b[1;32m      8\u001b[0m         \u001b[0;31m# print(i)\u001b[0m\u001b[0;34m\u001b[0m\u001b[0;34m\u001b[0m\u001b[0m\n",
      "\u001b[0;31mIndexError\u001b[0m: list index out of range"
     ]
    }
   ],
   "source": [
    "# separate the species into unlabled, (testing and training) among labeled species...\n",
    "\n",
    "# species \n",
    "for k, v in species_to_data.items():\n",
    "    for i in v[1:]:\n",
    "        i = i[1]\n",
    "        # print(i)\n",
    "        # print(i)\n",
    "        if type(i) is float:\n",
    "            if type(v[0][1]) is not float:\n",
    "                print(v[0])\n",
    "                print(k)\n",
    "                # pass\n",
    "        elif i != v[0][1]:\n",
    "            print(k)\n",
    "            # pass"
   ]
  },
  {
   "cell_type": "code",
   "execution_count": 18,
   "metadata": {
    "collapsed": false
   },
   "outputs": [
    {
     "data": {
      "text/plain": [
       "(0, [815, 2517, 2518, 2646, 2647, 2648, 2649])"
      ]
     },
     "execution_count": 18,
     "metadata": {},
     "output_type": "execute_result"
    }
   ],
   "source": [
    "species_to_data['Paratrechina_longicornis']"
   ]
  },
  {
   "cell_type": "markdown",
   "metadata": {},
   "source": [
    "## Unsupervised Training"
   ]
  },
  {
   "cell_type": "markdown",
   "metadata": {},
   "source": [
    "We create a similarity matrix, which is a pairwise comparison of DNA sequences and determining the percentage of base pairs that are the same.\n",
    "\n",
    "Because the DNA sequences have been pre-aligned, we can expect this to be mostly accurate and close to the true similiarity values. In some places, the DNA sequences have a '-' character where the base was not read correctly, or missed. We ignore these."
   ]
  },
  {
   "cell_type": "code",
   "execution_count": 19,
   "metadata": {
    "collapsed": true
   },
   "outputs": [],
   "source": [
    "sim_mat = -np.ones((mat_size, mat_size))"
   ]
  },
  {
   "cell_type": "code",
   "execution_count": 20,
   "metadata": {
    "collapsed": false
   },
   "outputs": [
    {
     "name": "stdout",
     "output_type": "stream",
     "text": [
      "4459\n"
     ]
    }
   ],
   "source": [
    "print(mat_size)"
   ]
  },
  {
   "cell_type": "code",
   "execution_count": 21,
   "metadata": {
    "collapsed": true
   },
   "outputs": [],
   "source": [
    "# Precomputer no dashes\n",
    "dashes = []\n",
    "for i in range(mat_size):\n",
    "    dashes.append(seq_arrays[i] != '-')"
   ]
  },
  {
   "cell_type": "code",
   "execution_count": 22,
   "metadata": {
    "collapsed": false
   },
   "outputs": [
    {
     "name": "stderr",
     "output_type": "stream",
     "text": [
      "100%|██████████| 4459/4459 [03:19<00:00, 22.32it/s]\n"
     ]
    }
   ],
   "source": [
    "try:\n",
    "    assert False\n",
    "    sim_mat = np.load('sim_mat.npy')\n",
    "\n",
    "except:\n",
    "    # this will take a few minutes\n",
    "    for i in trange(mat_size):\n",
    "        # clean up bad data\n",
    "        a = seq_arrays[i]\n",
    "        # iterate over DNA sequences and figure out the match\n",
    "        for j in range(i):\n",
    "            b = seq_arrays[j]\n",
    "            match = (a==b)\n",
    "            valid = (dashes[i] * dashes[j])\n",
    "            sim_mat[i,j] = np.mean(match[valid])\n",
    "            sim_mat[j,i] = sim_mat[i,j]\n",
    "        sim_mat[i,i] = 1\n",
    "    np.save('sim_mat.npy', sim_mat)"
   ]
  },
  {
   "cell_type": "code",
   "execution_count": null,
   "metadata": {
    "collapsed": true
   },
   "outputs": [],
   "source": []
  },
  {
   "cell_type": "code",
   "execution_count": 23,
   "metadata": {
    "collapsed": false
   },
   "outputs": [
    {
     "data": {
      "text/plain": [
       "array([[ 1.        ,  1.        ,  0.81430746, ...,  0.71338583,\n",
       "         0.69431644,  0.69779287],\n",
       "       [ 1.        ,  1.        ,  0.81430746, ...,  0.71338583,\n",
       "         0.69431644,  0.69779287],\n",
       "       [ 0.81430746,  0.81430746,  1.        , ...,  0.72440945,\n",
       "         0.67281106,  0.67232598],\n",
       "       ..., \n",
       "       [ 0.71338583,  0.71338583,  0.72440945, ...,  1.        ,\n",
       "         0.75548589,  0.75      ],\n",
       "       [ 0.69431644,  0.69431644,  0.67281106, ...,  0.75548589,\n",
       "         1.        ,  1.        ],\n",
       "       [ 0.69779287,  0.69779287,  0.67232598, ...,  0.75      ,\n",
       "         1.        ,  1.        ]])"
      ]
     },
     "execution_count": 23,
     "metadata": {},
     "output_type": "execute_result"
    }
   ],
   "source": [
    "sim_mat"
   ]
  },
  {
   "cell_type": "markdown",
   "metadata": {},
   "source": [
    "We can visualize the values of the matrix. "
   ]
  },
  {
   "cell_type": "code",
   "execution_count": 24,
   "metadata": {
    "collapsed": false
   },
   "outputs": [
    {
     "data": {
      "text/plain": [
       "<matplotlib.image.AxesImage at 0x7f5410036550>"
      ]
     },
     "execution_count": 24,
     "metadata": {},
     "output_type": "execute_result"
    },
    {
     "data": {
      "image/png": "[encoded data removed]",
      "text/plain": [
       "<matplotlib.figure.Figure at 0x7f541c5240d0>"
      ]
     },
     "metadata": {},
     "output_type": "display_data"
    }
   ],
   "source": [
    "plt.imshow(sim_mat, cmap='Greys')"
   ]
  },
  {
   "cell_type": "code",
   "execution_count": 25,
   "metadata": {
    "collapsed": true
   },
   "outputs": [],
   "source": [
    "valid_mat = sim_mat"
   ]
  },
  {
   "cell_type": "code",
   "execution_count": 26,
   "metadata": {
    "collapsed": false
   },
   "outputs": [
    {
     "data": {
      "text/plain": [
       "((4459, 4459), (4459, 4459))"
      ]
     },
     "execution_count": 26,
     "metadata": {},
     "output_type": "execute_result"
    }
   ],
   "source": [
    "sim_mat.shape, valid_mat.shape"
   ]
  },
  {
   "cell_type": "markdown",
   "metadata": {},
   "source": [
    "The similarity matrix is very big (100mb+), so we try PCA/SVD to extract the most useful features from the largest singular values."
   ]
  },
  {
   "cell_type": "code",
   "execution_count": 27,
   "metadata": {
    "collapsed": false
   },
   "outputs": [
    {
     "name": "stdout",
     "output_type": "stream",
     "text": [
      "CPU times: user 1min 49s, sys: 844 ms, total: 1min 50s\n",
      "Wall time: 14.4 s\n"
     ]
    }
   ],
   "source": [
    "%%time\n",
    "u,s,v = np.linalg.svd(valid_mat, full_matrices=0)"
   ]
  },
  {
   "cell_type": "markdown",
   "metadata": {},
   "source": [
    "The rank / number of singular values we pick is a hyperparameter. We run the dimension reduction step."
   ]
  },
  {
   "cell_type": "code",
   "execution_count": 28,
   "metadata": {
    "collapsed": false
   },
   "outputs": [
    {
     "data": {
      "text/plain": [
       "(array([  1.00000000e+00,   4.00000000e+00,   7.00000000e+00,\n",
       "          2.39000000e+02,   4.92200000e+04,   1.98318650e+07,\n",
       "          7.46000000e+02,   4.20000000e+02,   1.61000000e+02,\n",
       "          1.80000000e+01]),\n",
       " array([-0.01410462, -0.01142064, -0.00873666, -0.00605268, -0.0033687 ,\n",
       "        -0.00068472,  0.00199925,  0.00468323,  0.00736721,  0.01005119,\n",
       "         0.01273517]),\n",
       " <a list of 10 Patch objects>)"
      ]
     },
     "execution_count": 28,
     "metadata": {},
     "output_type": "execute_result"
    },
    {
     "data": {
      "image/png": "[encoded data removed]",
      "text/plain": [
       "<matplotlib.figure.Figure at 0x7f541c9c5390>"
      ]
     },
     "metadata": {},
     "output_type": "display_data"
    }
   ],
   "source": [
    "rank = 1000\n",
    "approx_1000 = u[:,:rank].dot(np.diag(s[:rank])).dot(v[:rank])\n",
    "errors = ((approx_1000 - valid_mat)/valid_mat)\n",
    "plt.hist(errors.flatten())"
   ]
  },
  {
   "cell_type": "code",
   "execution_count": 29,
   "metadata": {
    "collapsed": false
   },
   "outputs": [
    {
     "name": "stdout",
     "output_type": "stream",
     "text": [
      "(4459, 4459)\n"
     ]
    }
   ],
   "source": [
    "approx = approx_1000\n",
    "\n",
    "print(approx.shape)"
   ]
  },
  {
   "cell_type": "markdown",
   "metadata": {},
   "source": [
    "## Supervised Training"
   ]
  },
  {
   "cell_type": "markdown",
   "metadata": {},
   "source": [
    "Now, we have a set of features from our pre-training step, and we're ready to run supervised training. Before we start, we need to first remove data that don't have valid labels. We can't use them anymore!"
   ]
  },
  {
   "cell_type": "code",
   "execution_count": 30,
   "metadata": {
    "collapsed": false
   },
   "outputs": [
    {
     "data": {
      "text/plain": [
       "array([u'Invasive', u'Invasive', u'Invasive', ..., u'Introduced',\n",
       "       u'Invasive', u'Invasive'], dtype=object)"
      ]
     },
     "execution_count": 30,
     "metadata": {},
     "output_type": "execute_result"
    }
   ],
   "source": [
    "valid_labels = ['Introduced', 'Invasive', 'Indigenous']\n",
    "labeled_cls = [label in valid_labels for label in cls_valid]\n",
    "#labeled_cls = (valid_labels[labeled_cls] == 'Indigenous').astype(int)\n",
    "\n",
    "# Create a filter telling us which points are valid to use for supervised training\n",
    "labeled_cls = np.array(labeled_cls)\n",
    "#print(len(labeled_cls))\n",
    "cls_valid[labeled_cls]"
   ]
  },
  {
   "cell_type": "code",
   "execution_count": 31,
   "metadata": {
    "collapsed": true
   },
   "outputs": [],
   "source": [
    "species = species[labeled_cls]"
   ]
  },
  {
   "cell_type": "code",
   "execution_count": 32,
   "metadata": {
    "collapsed": false
   },
   "outputs": [
    {
     "name": "stdout",
     "output_type": "stream",
     "text": [
      "[u'Invasive' u'Invasive' u'Invasive' ..., u'Introduced' u'Invasive'\n",
      " u'Invasive']\n"
     ]
    }
   ],
   "source": [
    "print(cls_valid[labeled_cls])"
   ]
  },
  {
   "cell_type": "code",
   "execution_count": 59,
   "metadata": {
    "collapsed": false
   },
   "outputs": [
    {
     "name": "stdout",
     "output_type": "stream",
     "text": [
      "299\n"
     ]
    }
   ],
   "source": [
    "unique = set()\n",
    "for i in species:\n",
    "    unique.add(i)\n",
    "    \n",
    "print(len(unique))"
   ]
  },
  {
   "cell_type": "markdown",
   "metadata": {},
   "source": [
    "We see that 36% of the data have associated labels."
   ]
  },
  {
   "cell_type": "code",
   "execution_count": null,
   "metadata": {
    "collapsed": true
   },
   "outputs": [],
   "source": []
  },
  {
   "cell_type": "code",
   "execution_count": 103,
   "metadata": {
    "collapsed": false
   },
   "outputs": [
    {
     "name": "stdout",
     "output_type": "stream",
     "text": [
      "(1684, 4459) (1684,)\n"
     ]
    }
   ],
   "source": [
    "# apply the filter over our features and labels\n",
    "supervised_X = approx[labeled_cls]\n",
    "full_supervised_X = valid_mat[labeled_cls]\n",
    "supervised_y = cls_valid[labeled_cls]\n",
    "\n",
    "supervised_y = (supervised_y == 'Indigenous').astype(int)\n",
    "\n",
    "print(supervised_X.shape, supervised_y.shape)"
   ]
  },
  {
   "cell_type": "code",
   "execution_count": 104,
   "metadata": {
    "collapsed": false
   },
   "outputs": [
    {
     "name": "stdout",
     "output_type": "stream",
     "text": [
      "[0 0 0 0 0 0 0 0 0 0 0 0 0 0 0 0 0 0 0 0 0 0 0 0 0 0 0 0 0 0 0 0 0 0 1 1 1\n",
      " 1 1 1 1 1 1 1 1 0 0 0 0 0]\n",
      "['Invasive' 'Invasive' 'Invasive' 'Introduced' 'Introduced' 'Introduced'\n",
      " 'Introduced' 'Introduced' 'Introduced' 'Introduced' 'Introduced'\n",
      " 'Introduced' 'Introduced' 'Introduced' 'Introduced' 'Introduced'\n",
      " 'Introduced' 'Introduced' 'Introduced' 'Introduced' 'Introduced'\n",
      " 'Introduced' 'Introduced' 'Introduced' 'Introduced' 'Invasive' 'Invasive'\n",
      " 'Invasive' 'Invasive' 'Invasive' 'Invasive' 'Invasive' 'Invasive'\n",
      " 'Introduced' 'Indigenous' 'Indigenous' 'Indigenous' 'Indigenous'\n",
      " 'Indigenous' 'Indigenous' 'Indigenous' 'Indigenous' 'Indigenous'\n",
      " 'Indigenous' 'Indigenous' 'Invasive' 'Invasive' 'Invasive' 'Introduced'\n",
      " 'Introduced']\n"
     ]
    }
   ],
   "source": [
    "print(supervised_y[:50])\n",
    "print(cls_valid[labeled_cls][:50])"
   ]
  },
  {
   "cell_type": "code",
   "execution_count": 105,
   "metadata": {
    "collapsed": false
   },
   "outputs": [
    {
     "name": "stdout",
     "output_type": "stream",
     "text": [
      "1684\n"
     ]
    }
   ],
   "source": [
    "print(len(species))\n",
    "unique = set()\n",
    "species_filter = []\n",
    "for i in species:\n",
    "    if i not in unique:\n",
    "        species_filter.append(True)\n",
    "        unique.add(i)\n",
    "    else:\n",
    "        species_filter.append(False)\n",
    "        \n"
   ]
  },
  {
   "cell_type": "code",
   "execution_count": 106,
   "metadata": {
    "collapsed": true
   },
   "outputs": [],
   "source": [
    "supervised_X = supervised_X[species_filter]\n",
    "full_supervised_X = full_supervised_X[species_filter]\n",
    "supervised_y = supervised_y[species_filter]\n"
   ]
  },
  {
   "cell_type": "code",
   "execution_count": null,
   "metadata": {
    "collapsed": true
   },
   "outputs": [],
   "source": []
  },
  {
   "cell_type": "code",
   "execution_count": 107,
   "metadata": {
    "collapsed": false
   },
   "outputs": [
    {
     "name": "stdout",
     "output_type": "stream",
     "text": [
      "299\n"
     ]
    }
   ],
   "source": [
    "print(len(supervised_X))"
   ]
  },
  {
   "cell_type": "markdown",
   "metadata": {},
   "source": [
    "Below, we run Support Vector Clustering (SVC). We shuffle the data first, and then split our data into testing and training splits.\n",
    "\n",
    "There is somewhat large variance inbetween runs, so we take the average for a more accurate score."
   ]
  },
  {
   "cell_type": "code",
   "execution_count": 112,
   "metadata": {
    "collapsed": false
   },
   "outputs": [
    {
     "name": "stdout",
     "output_type": "stream",
     "text": [
      "0.859531772575\n"
     ]
    }
   ],
   "source": [
    "print(np.mean(1 - supervised_y))"
   ]
  },
  {
   "cell_type": "code",
   "execution_count": null,
   "metadata": {
    "collapsed": true
   },
   "outputs": [],
   "source": []
  },
  {
   "cell_type": "code",
   "execution_count": null,
   "metadata": {
    "collapsed": true
   },
   "outputs": [],
   "source": [
    "testing_set = []\n",
    "testing_labels = []\n",
    "training_set = []\n",
    "training_labels = []\n",
    "testing_species_id = []"
   ]
  },
  {
   "cell_type": "code",
   "execution_count": 163,
   "metadata": {
    "collapsed": true
   },
   "outputs": [],
   "source": [
    "supervised_X = approx[training_set]\n",
    "full_supervised_X = valid_mat[training_set]\n",
    "supervised_y = training_labels\n",
    "test_X = approx[testing_set]\n",
    "full_test_X = valid_mat[testing_set]\n",
    "test_y = testing_labels\n",
    "\n",
    "assert len(supervised_X) == len(supervised_y)\n",
    "assert len(test_X) == len(test_y)"
   ]
  },
  {
   "cell_type": "code",
   "execution_count": null,
   "metadata": {
    "collapsed": true
   },
   "outputs": [],
   "source": []
  },
  {
   "cell_type": "code",
   "execution_count": 164,
   "metadata": {
    "collapsed": false
   },
   "outputs": [
    {
     "name": "stdout",
     "output_type": "stream",
     "text": [
      "Approximated similarity matrix: \n",
      "\n",
      "([0.81443298969072164, 0.88659793814432986, 0.77319587628865982, 0.84536082474226804, 0.75257731958762886, 0.865979381443299, 0.77319587628865982, 0.83505154639175261, 0.84536082474226804, 0.79381443298969068, 0.77319587628865982, 0.82474226804123707, 0.78350515463917525, 0.82474226804123707, 0.79381443298969068, 0.83505154639175261, 0.84536082474226804, 0.82474226804123707, 0.78350515463917525, 0.81443298969072164, 0.83505154639175261, 0.80412371134020622, 0.78350515463917525, 0.87628865979381443, 0.78350515463917525, 0.87628865979381443, 0.82474226804123707, 0.83505154639175261, 0.83505154639175261, 0.77319587628865982, 0.83505154639175261, 0.79381443298969068, 0.78350515463917525, 0.84536082474226804, 0.85567010309278346, 0.84536082474226804, 0.80412371134020622, 0.85567010309278346, 0.80412371134020622, 0.80412371134020622, 0.81443298969072164, 0.77319587628865982, 0.74226804123711343, 0.81443298969072164, 0.76288659793814428, 0.80412371134020622, 0.84536082474226804, 0.80412371134020622, 0.83505154639175261, 0.82474226804123707, 0.84536082474226804, 0.865979381443299, 0.83505154639175261, 0.89690721649484539, 0.80412371134020622, 0.82474226804123707, 0.83505154639175261, 0.82474226804123707, 0.79381443298969068, 0.83505154639175261, 0.78350515463917525, 0.84536082474226804, 0.80412371134020622, 0.84536082474226804, 0.82474226804123707, 0.84536082474226804, 0.81443298969072164, 0.84536082474226804, 0.82474226804123707, 0.80412371134020622, 0.83505154639175261, 0.85567010309278346, 0.81443298969072164, 0.78350515463917525, 0.77319587628865982, 0.81443298969072164, 0.865979381443299, 0.79381443298969068, 0.84536082474226804, 0.85567010309278346, 0.81443298969072164, 0.84536082474226804, 0.80412371134020622, 0.79381443298969068, 0.82474226804123707, 0.81443298969072164, 0.83505154639175261, 0.82474226804123707, 0.865979381443299, 0.78350515463917525, 0.79381443298969068, 0.81443298969072164, 0.84536082474226804, 0.80412371134020622, 0.80412371134020622, 0.77319587628865982, 0.76288659793814428, 0.85567010309278346, 0.84536082474226804, 0.84536082474226804, 0.78350515463917525, 0.83505154639175261, 0.82474226804123707, 0.79381443298969068, 0.82474226804123707, 0.78350515463917525, 0.83505154639175261, 0.78350515463917525, 0.83505154639175261, 0.77319587628865982, 0.78350515463917525, 0.80412371134020622, 0.79381443298969068, 0.85567010309278346, 0.85567010309278346, 0.81443298969072164, 0.83505154639175261, 0.84536082474226804, 0.83505154639175261, 0.78350515463917525, 0.83505154639175261, 0.79381443298969068, 0.83505154639175261, 0.77319587628865982, 0.83505154639175261, 0.83505154639175261, 0.84536082474226804, 0.76288659793814428, 0.83505154639175261, 0.79381443298969068, 0.80412371134020622, 0.80412371134020622, 0.81443298969072164, 0.81443298969072164, 0.83505154639175261, 0.84536082474226804, 0.79381443298969068, 0.81443298969072164, 0.81443298969072164, 0.82474226804123707, 0.82474226804123707, 0.85567010309278346, 0.865979381443299, 0.85567010309278346, 0.77319587628865982, 0.84536082474226804, 0.81443298969072164, 0.80412371134020622, 0.865979381443299, 0.81443298969072164, 0.80412371134020622, 0.81443298969072164, 0.82474226804123707, 0.81443298969072164, 0.77319587628865982, 0.77319587628865982, 0.80412371134020622, 0.84536082474226804, 0.83505154639175261, 0.79381443298969068, 0.82474226804123707, 0.82474226804123707, 0.83505154639175261, 0.77319587628865982, 0.81443298969072164, 0.77319587628865982, 0.85567010309278346, 0.83505154639175261, 0.80412371134020622, 0.865979381443299, 0.84536082474226804, 0.82474226804123707, 0.83505154639175261, 0.80412371134020622, 0.84536082474226804, 0.83505154639175261, 0.85567010309278346, 0.80412371134020622, 0.85567010309278346, 0.84536082474226804, 0.78350515463917525, 0.84536082474226804, 0.84536082474226804, 0.85567010309278346, 0.80412371134020622, 0.82474226804123707, 0.83505154639175261, 0.81443298969072164, 0.81443298969072164, 0.81443298969072164, 0.79381443298969068, 0.87628865979381443, 0.80412371134020622, 0.77319587628865982, 0.81443298969072164, 0.79381443298969068, 0.85567010309278346, 0.83505154639175261, 0.76288659793814428, 0.82474226804123707, 0.82474226804123707, 0.84536082474226804, 0.83505154639175261, 0.78350515463917525, 0.82474226804123707, 0.81443298969072164, 0.79381443298969068, 0.84536082474226804, 0.79381443298969068, 0.81443298969072164, 0.82474226804123707, 0.79381443298969068, 0.80412371134020622, 0.84536082474226804, 0.76288659793814428, 0.80412371134020622, 0.82474226804123707, 0.84536082474226804, 0.79381443298969068, 0.75257731958762886, 0.79381443298969068, 0.82474226804123707, 0.80412371134020622, 0.74226804123711343, 0.82474226804123707, 0.78350515463917525, 0.77319587628865982, 0.84536082474226804, 0.865979381443299, 0.78350515463917525, 0.78350515463917525, 0.81443298969072164, 0.82474226804123707, 0.81443298969072164, 0.80412371134020622, 0.80412371134020622, 0.85567010309278346, 0.76288659793814428, 0.83505154639175261, 0.87628865979381443, 0.83505154639175261, 0.80412371134020622, 0.82474226804123707, 0.79381443298969068, 0.85567010309278346, 0.80412371134020622, 0.80412371134020622, 0.79381443298969068, 0.75257731958762886, 0.84536082474226804, 0.80412371134020622, 0.78350515463917525, 0.78350515463917525, 0.865979381443299, 0.78350515463917525, 0.87628865979381443, 0.79381443298969068, 0.85567010309278346, 0.77319587628865982, 0.79381443298969068, 0.80412371134020622, 0.78350515463917525, 0.82474226804123707, 0.83505154639175261, 0.79381443298969068, 0.81443298969072164, 0.81443298969072164, 0.83505154639175261, 0.84536082474226804, 0.77319587628865982, 0.83505154639175261, 0.81443298969072164, 0.865979381443299, 0.82474226804123707, 0.82474226804123707, 0.82474226804123707, 0.79381443298969068, 0.84536082474226804, 0.85567010309278346, 0.85567010309278346, 0.84536082474226804, 0.87628865979381443, 0.80412371134020622, 0.82474226804123707, 0.87628865979381443, 0.75257731958762886, 0.83505154639175261, 0.83505154639175261, 0.84536082474226804, 0.77319587628865982, 0.82474226804123707, 0.82474226804123707, 0.84536082474226804, 0.80412371134020622, 0.82474226804123707, 0.80412371134020622, 0.84536082474226804, 0.81443298969072164, 0.85567010309278346, 0.82474226804123707, 0.78350515463917525, 0.83505154639175261, 0.84536082474226804, 0.80412371134020622, 0.87628865979381443, 0.865979381443299, 0.80412371134020622, 0.80412371134020622, 0.80412371134020622, 0.82474226804123707, 0.77319587628865982, 0.79381443298969068, 0.85567010309278346, 0.83505154639175261, 0.79381443298969068, 0.80412371134020622, 0.81443298969072164, 0.79381443298969068, 0.83505154639175261, 0.84536082474226804, 0.81443298969072164, 0.84536082474226804, 0.81443298969072164, 0.82474226804123707, 0.81443298969072164, 0.81443298969072164, 0.85567010309278346, 0.81443298969072164, 0.84536082474226804, 0.81443298969072164, 0.77319587628865982, 0.83505154639175261, 0.80412371134020622, 0.87628865979381443, 0.84536082474226804, 0.82474226804123707, 0.82474226804123707, 0.77319587628865982, 0.83505154639175261, 0.80412371134020622, 0.81443298969072164, 0.82474226804123707, 0.84536082474226804, 0.81443298969072164, 0.81443298969072164, 0.85567010309278346, 0.80412371134020622, 0.85567010309278346, 0.80412371134020622, 0.71134020618556704, 0.84536082474226804, 0.80412371134020622, 0.82474226804123707, 0.81443298969072164, 0.76288659793814428, 0.84536082474226804, 0.84536082474226804, 0.81443298969072164, 0.79381443298969068, 0.82474226804123707, 0.77319587628865982, 0.82474226804123707, 0.80412371134020622, 0.85567010309278346, 0.79381443298969068, 0.78350515463917525, 0.84536082474226804, 0.80412371134020622, 0.81443298969072164, 0.79381443298969068, 0.76288659793814428, 0.82474226804123707, 0.865979381443299, 0.81443298969072164, 0.81443298969072164, 0.85567010309278346, 0.80412371134020622, 0.80412371134020622, 0.84536082474226804, 0.75257731958762886, 0.84536082474226804, 0.83505154639175261, 0.81443298969072164, 0.83505154639175261, 0.83505154639175261, 0.81443298969072164, 0.84536082474226804, 0.82474226804123707, 0.81443298969072164, 0.81443298969072164, 0.80412371134020622, 0.83505154639175261, 0.78350515463917525, 0.82474226804123707, 0.84536082474226804, 0.84536082474226804, 0.80412371134020622, 0.81443298969072164, 0.83505154639175261, 0.865979381443299, 0.80412371134020622, 0.80412371134020622, 0.84536082474226804, 0.79381443298969068, 0.77319587628865982, 0.84536082474226804, 0.77319587628865982, 0.85567010309278346, 0.865979381443299, 0.83505154639175261, 0.84536082474226804, 0.79381443298969068, 0.80412371134020622, 0.85567010309278346, 0.83505154639175261, 0.82474226804123707, 0.85567010309278346, 0.81443298969072164, 0.82474226804123707, 0.83505154639175261, 0.80412371134020622, 0.82474226804123707, 0.84536082474226804, 0.82474226804123707, 0.81443298969072164, 0.84536082474226804, 0.85567010309278346, 0.78350515463917525, 0.83505154639175261, 0.82474226804123707, 0.82474226804123707, 0.80412371134020622, 0.88659793814432986, 0.79381443298969068, 0.85567010309278346, 0.865979381443299, 0.85567010309278346, 0.865979381443299, 0.78350515463917525, 0.82474226804123707, 0.82474226804123707, 0.76288659793814428, 0.84536082474226804, 0.83505154639175261, 0.82474226804123707, 0.85567010309278346, 0.83505154639175261, 0.82474226804123707, 0.81443298969072164, 0.79381443298969068, 0.81443298969072164, 0.78350515463917525, 0.865979381443299, 0.82474226804123707, 0.85567010309278346, 0.80412371134020622, 0.81443298969072164, 0.76288659793814428, 0.85567010309278346, 0.76288659793814428, 0.83505154639175261, 0.84536082474226804, 0.865979381443299, 0.81443298969072164, 0.83505154639175261, 0.83505154639175261, 0.83505154639175261, 0.82474226804123707, 0.78350515463917525, 0.82474226804123707, 0.81443298969072164, 0.81443298969072164, 0.80412371134020622, 0.80412371134020622, 0.81443298969072164, 0.865979381443299, 0.87628865979381443, 0.76288659793814428, 0.74226804123711343, 0.84536082474226804, 0.80412371134020622, 0.84536082474226804, 0.85567010309278346, 0.83505154639175261, 0.81443298969072164, 0.82474226804123707, 0.80412371134020622, 0.81443298969072164, 0.80412371134020622, 0.79381443298969068, 0.79381443298969068, 0.83505154639175261, 0.84536082474226804, 0.78350515463917525, 0.79381443298969068, 0.84536082474226804, 0.88659793814432986, 0.80412371134020622, 0.80412371134020622, 0.84536082474226804, 0.78350515463917525, 0.865979381443299, 0.76288659793814428, 0.84536082474226804, 0.74226804123711343, 0.82474226804123707, 0.81443298969072164, 0.79381443298969068, 0.79381443298969068, 0.81443298969072164, 0.80412371134020622, 0.79381443298969068, 0.78350515463917525, 0.85567010309278346, 0.865979381443299, 0.85567010309278346, 0.83505154639175261, 0.84536082474226804, 0.81443298969072164, 0.84536082474226804, 0.82474226804123707, 0.85567010309278346, 0.81443298969072164, 0.76288659793814428, 0.81443298969072164, 0.78350515463917525, 0.78350515463917525, 0.82474226804123707, 0.81443298969072164, 0.79381443298969068, 0.85567010309278346, 0.83505154639175261, 0.865979381443299, 0.79381443298969068, 0.85567010309278346, 0.865979381443299, 0.77319587628865982, 0.84536082474226804, 0.80412371134020622, 0.81443298969072164, 0.84536082474226804, 0.79381443298969068, 0.79381443298969068, 0.85567010309278346, 0.84536082474226804, 0.75257731958762886, 0.87628865979381443, 0.83505154639175261, 0.80412371134020622, 0.80412371134020622, 0.81443298969072164, 0.85567010309278346, 0.82474226804123707, 0.83505154639175261, 0.81443298969072164, 0.80412371134020622, 0.83505154639175261, 0.84536082474226804, 0.82474226804123707, 0.80412371134020622, 0.82474226804123707, 0.84536082474226804, 0.81443298969072164, 0.85567010309278346, 0.85567010309278346, 0.865979381443299, 0.83505154639175261, 0.82474226804123707, 0.79381443298969068, 0.81443298969072164, 0.81443298969072164, 0.84536082474226804, 0.77319587628865982, 0.82474226804123707, 0.85567010309278346, 0.83505154639175261, 0.82474226804123707, 0.85567010309278346, 0.81443298969072164, 0.81443298969072164, 0.82474226804123707, 0.84536082474226804, 0.81443298969072164, 0.80412371134020622, 0.82474226804123707, 0.75257731958762886, 0.81443298969072164, 0.85567010309278346, 0.84536082474226804, 0.87628865979381443, 0.84536082474226804, 0.82474226804123707, 0.80412371134020622, 0.77319587628865982, 0.83505154639175261, 0.80412371134020622, 0.865979381443299, 0.81443298969072164, 0.81443298969072164, 0.79381443298969068, 0.81443298969072164, 0.81443298969072164, 0.81443298969072164, 0.82474226804123707, 0.84536082474226804, 0.78350515463917525, 0.81443298969072164, 0.79381443298969068, 0.83505154639175261, 0.77319587628865982, 0.81443298969072164, 0.81443298969072164, 0.82474226804123707, 0.83505154639175261, 0.83505154639175261, 0.80412371134020622, 0.76288659793814428, 0.865979381443299, 0.85567010309278346, 0.79381443298969068, 0.78350515463917525, 0.80412371134020622, 0.84536082474226804, 0.85567010309278346, 0.82474226804123707, 0.81443298969072164, 0.80412371134020622, 0.76288659793814428, 0.865979381443299, 0.85567010309278346, 0.80412371134020622, 0.76288659793814428, 0.83505154639175261, 0.85567010309278346, 0.79381443298969068, 0.82474226804123707, 0.78350515463917525, 0.75257731958762886, 0.78350515463917525, 0.83505154639175261, 0.80412371134020622, 0.82474226804123707, 0.79381443298969068, 0.78350515463917525, 0.82474226804123707, 0.81443298969072164, 0.85567010309278346, 0.81443298969072164, 0.80412371134020622, 0.82474226804123707, 0.84536082474226804, 0.87628865979381443, 0.81443298969072164, 0.79381443298969068, 0.73195876288659789, 0.79381443298969068, 0.85567010309278346, 0.82474226804123707, 0.79381443298969068, 0.83505154639175261, 0.87628865979381443, 0.85567010309278346, 0.83505154639175261, 0.83505154639175261, 0.85567010309278346, 0.79381443298969068, 0.82474226804123707, 0.80412371134020622, 0.84536082474226804, 0.83505154639175261, 0.79381443298969068, 0.82474226804123707, 0.75257731958762886, 0.82474226804123707, 0.80412371134020622, 0.80412371134020622, 0.84536082474226804, 0.81443298969072164, 0.81443298969072164, 0.76288659793814428, 0.81443298969072164, 0.77319587628865982, 0.83505154639175261, 0.83505154639175261, 0.84536082474226804, 0.82474226804123707, 0.81443298969072164, 0.82474226804123707, 0.76288659793814428, 0.79381443298969068, 0.79381443298969068, 0.77319587628865982, 0.79381443298969068, 0.80412371134020622, 0.77319587628865982, 0.81443298969072164, 0.76288659793814428, 0.79381443298969068, 0.83505154639175261, 0.84536082474226804, 0.77319587628865982, 0.81443298969072164, 0.84536082474226804, 0.82474226804123707, 0.81443298969072164, 0.85567010309278346, 0.85567010309278346, 0.80412371134020622, 0.84536082474226804, 0.83505154639175261, 0.81443298969072164, 0.80412371134020622, 0.84536082474226804, 0.85567010309278346, 0.79381443298969068, 0.78350515463917525, 0.79381443298969068, 0.79381443298969068, 0.85567010309278346, 0.78350515463917525, 0.82474226804123707, 0.83505154639175261, 0.83505154639175261, 0.85567010309278346, 0.78350515463917525, 0.83505154639175261, 0.85567010309278346, 0.78350515463917525, 0.85567010309278346, 0.83505154639175261, 0.78350515463917525, 0.80412371134020622, 0.79381443298969068, 0.80412371134020622, 0.81443298969072164, 0.79381443298969068, 0.83505154639175261, 0.84536082474226804, 0.79381443298969068, 0.75257731958762886, 0.78350515463917525, 0.80412371134020622, 0.81443298969072164, 0.77319587628865982, 0.80412371134020622, 0.85567010309278346, 0.80412371134020622, 0.81443298969072164, 0.82474226804123707, 0.82474226804123707, 0.82474226804123707, 0.81443298969072164, 0.83505154639175261, 0.81443298969072164, 0.75257731958762886, 0.79381443298969068, 0.80412371134020622, 0.82474226804123707, 0.81443298969072164, 0.82474226804123707, 0.77319587628865982, 0.82474226804123707, 0.84536082474226804, 0.80412371134020622, 0.77319587628865982, 0.85567010309278346, 0.77319587628865982, 0.82474226804123707, 0.84536082474226804, 0.80412371134020622, 0.82474226804123707, 0.82474226804123707, 0.865979381443299, 0.84536082474226804, 0.83505154639175261, 0.84536082474226804, 0.75257731958762886, 0.78350515463917525, 0.79381443298969068, 0.85567010309278346, 0.77319587628865982, 0.81443298969072164, 0.83505154639175261, 0.77319587628865982, 0.75257731958762886, 0.83505154639175261, 0.79381443298969068, 0.84536082474226804, 0.83505154639175261, 0.80412371134020622, 0.83505154639175261, 0.83505154639175261, 0.82474226804123707, 0.81443298969072164, 0.81443298969072164, 0.84536082474226804, 0.80412371134020622, 0.76288659793814428, 0.78350515463917525, 0.81443298969072164, 0.84536082474226804, 0.81443298969072164, 0.83505154639175261, 0.80412371134020622, 0.865979381443299, 0.78350515463917525, 0.82474226804123707, 0.80412371134020622, 0.85567010309278346, 0.78350515463917525, 0.87628865979381443, 0.82474226804123707, 0.76288659793814428, 0.83505154639175261, 0.84536082474226804, 0.79381443298969068, 0.80412371134020622, 0.865979381443299, 0.89690721649484539, 0.84536082474226804, 0.865979381443299, 0.80412371134020622, 0.83505154639175261, 0.84536082474226804, 0.83505154639175261, 0.81443298969072164, 0.84536082474226804, 0.81443298969072164, 0.80412371134020622, 0.82474226804123707, 0.79381443298969068, 0.84536082474226804, 0.83505154639175261, 0.84536082474226804, 0.83505154639175261, 0.78350515463917525, 0.84536082474226804, 0.83505154639175261, 0.87628865979381443, 0.78350515463917525, 0.83505154639175261, 0.84536082474226804, 0.81443298969072164, 0.85567010309278346, 0.83505154639175261, 0.82474226804123707, 0.81443298969072164, 0.82474226804123707, 0.76288659793814428, 0.84536082474226804, 0.79381443298969068, 0.83505154639175261, 0.80412371134020622, 0.82474226804123707, 0.81443298969072164, 0.75257731958762886, 0.83505154639175261, 0.79381443298969068, 0.82474226804123707, 0.80412371134020622, 0.83505154639175261, 0.82474226804123707, 0.77319587628865982, 0.82474226804123707, 0.84536082474226804, 0.82474226804123707, 0.80412371134020622, 0.79381443298969068, 0.80412371134020622, 0.83505154639175261, 0.78350515463917525, 0.80412371134020622, 0.83505154639175261, 0.83505154639175261, 0.85567010309278346, 0.71134020618556704, 0.76288659793814428, 0.85567010309278346, 0.80412371134020622, 0.81443298969072164, 0.85567010309278346, 0.84536082474226804, 0.78350515463917525, 0.77319587628865982, 0.85567010309278346, 0.82474226804123707, 0.85567010309278346, 0.87628865979381443, 0.78350515463917525, 0.85567010309278346, 0.83505154639175261, 0.84536082474226804, 0.77319587628865982, 0.88659793814432986, 0.76288659793814428, 0.83505154639175261, 0.81443298969072164, 0.81443298969072164, 0.83505154639175261, 0.84536082474226804, 0.81443298969072164, 0.82474226804123707, 0.78350515463917525, 0.78350515463917525, 0.87628865979381443, 0.84536082474226804, 0.76288659793814428, 0.82474226804123707, 0.78350515463917525, 0.865979381443299, 0.85567010309278346, 0.75257731958762886, 0.82474226804123707, 0.83505154639175261, 0.79381443298969068, 0.82474226804123707, 0.75257731958762886, 0.80412371134020622, 0.81443298969072164, 0.82474226804123707, 0.79381443298969068, 0.82474226804123707, 0.81443298969072164, 0.76288659793814428, 0.85567010309278346, 0.78350515463917525, 0.84536082474226804, 0.82474226804123707, 0.85567010309278346, 0.80412371134020622, 0.83505154639175261, 0.85567010309278346, 0.81443298969072164, 0.85567010309278346, 0.82474226804123707, 0.79381443298969068, 0.83505154639175261, 0.85567010309278346, 0.85567010309278346, 0.79381443298969068, 0.865979381443299, 0.82474226804123707, 0.79381443298969068, 0.84536082474226804, 0.76288659793814428, 0.81443298969072164, 0.88659793814432986, 0.76288659793814428, 0.81443298969072164, 0.84536082474226804, 0.85567010309278346, 0.84536082474226804, 0.82474226804123707, 0.84536082474226804, 0.81443298969072164, 0.77319587628865982, 0.81443298969072164, 0.81443298969072164, 0.75257731958762886, 0.80412371134020622, 0.82474226804123707, 0.84536082474226804, 0.85567010309278346, 0.85567010309278346, 0.85567010309278346, 0.75257731958762886, 0.84536082474226804, 0.82474226804123707, 0.80412371134020622, 0.81443298969072164, 0.77319587628865982, 0.84536082474226804, 0.85567010309278346, 0.81443298969072164, 0.82474226804123707, 0.81443298969072164, 0.80412371134020622, 0.865979381443299, 0.81443298969072164, 0.79381443298969068, 0.76288659793814428, 0.82474226804123707, 0.80412371134020622, 0.80412371134020622, 0.82474226804123707, 0.83505154639175261, 0.82474226804123707, 0.85567010309278346, 0.87628865979381443, 0.83505154639175261, 0.79381443298969068, 0.80412371134020622, 0.81443298969072164, 0.79381443298969068, 0.75257731958762886, 0.82474226804123707, 0.81443298969072164, 0.81443298969072164, 0.83505154639175261, 0.82474226804123707], 0.81903092783505183)\n",
      "Full similarity matrix: \n",
      "\n",
      "([0.87628865979381443, 0.83505154639175261, 0.81443298969072164, 0.80412371134020622, 0.83505154639175261, 0.84536082474226804, 0.84536082474226804, 0.81443298969072164, 0.80412371134020622, 0.79381443298969068, 0.80412371134020622, 0.865979381443299, 0.79381443298969068, 0.79381443298969068, 0.78350515463917525, 0.865979381443299, 0.83505154639175261, 0.78350515463917525, 0.81443298969072164, 0.81443298969072164, 0.79381443298969068, 0.76288659793814428, 0.82474226804123707, 0.84536082474226804, 0.74226804123711343, 0.85567010309278346, 0.82474226804123707, 0.84536082474226804, 0.81443298969072164, 0.83505154639175261, 0.81443298969072164, 0.84536082474226804, 0.83505154639175261, 0.76288659793814428, 0.79381443298969068, 0.83505154639175261, 0.76288659793814428, 0.85567010309278346, 0.83505154639175261, 0.79381443298969068, 0.84536082474226804, 0.84536082474226804, 0.83505154639175261, 0.84536082474226804, 0.83505154639175261, 0.78350515463917525, 0.81443298969072164, 0.88659793814432986, 0.84536082474226804, 0.81443298969072164, 0.74226804123711343, 0.82474226804123707, 0.80412371134020622, 0.79381443298969068, 0.83505154639175261, 0.82474226804123707, 0.80412371134020622, 0.80412371134020622, 0.85567010309278346, 0.81443298969072164, 0.80412371134020622, 0.82474226804123707, 0.80412371134020622, 0.83505154639175261, 0.82474226804123707, 0.83505154639175261, 0.87628865979381443, 0.80412371134020622, 0.75257731958762886, 0.81443298969072164, 0.84536082474226804, 0.78350515463917525, 0.83505154639175261, 0.79381443298969068, 0.865979381443299, 0.81443298969072164, 0.83505154639175261, 0.85567010309278346, 0.82474226804123707, 0.82474226804123707, 0.80412371134020622, 0.77319587628865982, 0.84536082474226804, 0.78350515463917525, 0.85567010309278346, 0.74226804123711343, 0.81443298969072164, 0.82474226804123707, 0.81443298969072164, 0.78350515463917525, 0.81443298969072164, 0.865979381443299, 0.80412371134020622, 0.84536082474226804, 0.82474226804123707, 0.83505154639175261, 0.84536082474226804, 0.78350515463917525, 0.83505154639175261, 0.83505154639175261, 0.80412371134020622, 0.77319587628865982, 0.78350515463917525, 0.79381443298969068, 0.80412371134020622, 0.80412371134020622, 0.81443298969072164, 0.83505154639175261, 0.83505154639175261, 0.82474226804123707, 0.85567010309278346, 0.84536082474226804, 0.83505154639175261, 0.81443298969072164, 0.80412371134020622, 0.82474226804123707, 0.80412371134020622, 0.87628865979381443, 0.83505154639175261, 0.83505154639175261, 0.85567010309278346, 0.82474226804123707, 0.82474226804123707, 0.79381443298969068, 0.77319587628865982, 0.81443298969072164, 0.82474226804123707, 0.79381443298969068, 0.85567010309278346, 0.84536082474226804, 0.78350515463917525, 0.85567010309278346, 0.84536082474226804, 0.82474226804123707, 0.79381443298969068, 0.83505154639175261, 0.78350515463917525, 0.865979381443299, 0.78350515463917525, 0.83505154639175261, 0.81443298969072164, 0.82474226804123707, 0.85567010309278346, 0.82474226804123707, 0.79381443298969068, 0.81443298969072164, 0.84536082474226804, 0.80412371134020622, 0.83505154639175261, 0.83505154639175261, 0.81443298969072164, 0.81443298969072164, 0.865979381443299, 0.81443298969072164, 0.82474226804123707, 0.83505154639175261, 0.83505154639175261, 0.84536082474226804, 0.80412371134020622, 0.865979381443299, 0.80412371134020622, 0.77319587628865982, 0.79381443298969068, 0.82474226804123707, 0.83505154639175261, 0.85567010309278346, 0.85567010309278346, 0.84536082474226804, 0.83505154639175261, 0.84536082474226804, 0.82474226804123707, 0.81443298969072164, 0.74226804123711343, 0.85567010309278346, 0.76288659793814428, 0.865979381443299, 0.84536082474226804, 0.77319587628865982, 0.84536082474226804, 0.80412371134020622, 0.85567010309278346, 0.80412371134020622, 0.83505154639175261, 0.865979381443299, 0.81443298969072164, 0.80412371134020622, 0.83505154639175261, 0.77319587628865982, 0.84536082474226804, 0.78350515463917525, 0.85567010309278346, 0.79381443298969068, 0.79381443298969068, 0.82474226804123707, 0.79381443298969068, 0.79381443298969068, 0.82474226804123707, 0.78350515463917525, 0.84536082474226804, 0.83505154639175261, 0.81443298969072164, 0.84536082474226804, 0.79381443298969068, 0.79381443298969068, 0.78350515463917525, 0.79381443298969068, 0.85567010309278346, 0.84536082474226804, 0.83505154639175261, 0.83505154639175261, 0.81443298969072164, 0.85567010309278346, 0.82474226804123707, 0.76288659793814428, 0.81443298969072164, 0.83505154639175261, 0.81443298969072164, 0.82474226804123707, 0.81443298969072164, 0.79381443298969068, 0.84536082474226804, 0.82474226804123707, 0.84536082474226804, 0.865979381443299, 0.78350515463917525, 0.81443298969072164, 0.83505154639175261, 0.83505154639175261, 0.79381443298969068, 0.81443298969072164, 0.82474226804123707, 0.79381443298969068, 0.78350515463917525, 0.78350515463917525, 0.80412371134020622, 0.81443298969072164, 0.80412371134020622, 0.88659793814432986, 0.85567010309278346, 0.84536082474226804, 0.83505154639175261, 0.79381443298969068, 0.82474226804123707, 0.83505154639175261, 0.82474226804123707, 0.81443298969072164, 0.83505154639175261, 0.83505154639175261, 0.77319587628865982, 0.79381443298969068, 0.78350515463917525, 0.83505154639175261, 0.81443298969072164, 0.76288659793814428, 0.82474226804123707, 0.82474226804123707, 0.83505154639175261, 0.865979381443299, 0.81443298969072164, 0.87628865979381443, 0.80412371134020622, 0.85567010309278346, 0.84536082474226804, 0.81443298969072164, 0.84536082474226804, 0.81443298969072164, 0.84536082474226804, 0.81443298969072164, 0.81443298969072164, 0.83505154639175261, 0.83505154639175261, 0.79381443298969068, 0.81443298969072164, 0.80412371134020622, 0.77319587628865982, 0.79381443298969068, 0.84536082474226804, 0.83505154639175261, 0.865979381443299, 0.77319587628865982, 0.83505154639175261, 0.87628865979381443, 0.83505154639175261, 0.85567010309278346, 0.82474226804123707, 0.82474226804123707, 0.84536082474226804, 0.83505154639175261, 0.82474226804123707, 0.83505154639175261, 0.79381443298969068, 0.80412371134020622, 0.84536082474226804, 0.82474226804123707, 0.84536082474226804, 0.865979381443299, 0.85567010309278346, 0.81443298969072164, 0.82474226804123707, 0.75257731958762886, 0.84536082474226804, 0.80412371134020622, 0.81443298969072164, 0.83505154639175261, 0.85567010309278346, 0.80412371134020622, 0.74226804123711343, 0.80412371134020622, 0.80412371134020622, 0.82474226804123707, 0.79381443298969068, 0.82474226804123707, 0.83505154639175261, 0.82474226804123707, 0.85567010309278346, 0.84536082474226804, 0.80412371134020622, 0.84536082474226804, 0.82474226804123707, 0.81443298969072164, 0.77319587628865982, 0.83505154639175261, 0.84536082474226804, 0.77319587628865982, 0.81443298969072164, 0.83505154639175261, 0.79381443298969068, 0.87628865979381443, 0.82474226804123707, 0.83505154639175261, 0.85567010309278346, 0.81443298969072164, 0.84536082474226804, 0.83505154639175261, 0.81443298969072164, 0.82474226804123707, 0.78350515463917525, 0.81443298969072164, 0.80412371134020622, 0.75257731958762886, 0.80412371134020622, 0.82474226804123707, 0.81443298969072164, 0.80412371134020622, 0.88659793814432986, 0.83505154639175261, 0.80412371134020622, 0.83505154639175261, 0.79381443298969068, 0.76288659793814428, 0.73195876288659789, 0.83505154639175261, 0.81443298969072164, 0.87628865979381443, 0.78350515463917525, 0.865979381443299, 0.87628865979381443, 0.78350515463917525, 0.80412371134020622, 0.83505154639175261, 0.87628865979381443, 0.82474226804123707, 0.80412371134020622, 0.81443298969072164, 0.83505154639175261, 0.80412371134020622, 0.865979381443299, 0.78350515463917525, 0.81443298969072164, 0.84536082474226804, 0.84536082474226804, 0.81443298969072164, 0.82474226804123707, 0.82474226804123707, 0.81443298969072164, 0.81443298969072164, 0.82474226804123707, 0.79381443298969068, 0.865979381443299, 0.84536082474226804, 0.78350515463917525, 0.76288659793814428, 0.83505154639175261, 0.82474226804123707, 0.80412371134020622, 0.84536082474226804, 0.82474226804123707, 0.85567010309278346, 0.81443298969072164, 0.82474226804123707, 0.83505154639175261, 0.81443298969072164, 0.85567010309278346, 0.77319587628865982, 0.83505154639175261, 0.75257731958762886, 0.83505154639175261, 0.81443298969072164, 0.81443298969072164, 0.83505154639175261, 0.77319587628865982, 0.865979381443299, 0.82474226804123707, 0.78350515463917525, 0.865979381443299, 0.85567010309278346, 0.83505154639175261, 0.83505154639175261, 0.84536082474226804, 0.78350515463917525, 0.82474226804123707, 0.77319587628865982, 0.83505154639175261, 0.84536082474226804, 0.82474226804123707, 0.78350515463917525, 0.83505154639175261, 0.82474226804123707, 0.82474226804123707, 0.81443298969072164, 0.79381443298969068, 0.82474226804123707, 0.83505154639175261, 0.76288659793814428, 0.80412371134020622, 0.85567010309278346, 0.84536082474226804, 0.865979381443299, 0.82474226804123707, 0.80412371134020622, 0.76288659793814428, 0.77319587628865982, 0.84536082474226804, 0.83505154639175261, 0.84536082474226804, 0.81443298969072164, 0.79381443298969068, 0.78350515463917525, 0.81443298969072164, 0.83505154639175261, 0.81443298969072164, 0.81443298969072164, 0.74226804123711343, 0.85567010309278346, 0.83505154639175261, 0.79381443298969068, 0.81443298969072164, 0.84536082474226804, 0.80412371134020622, 0.75257731958762886, 0.79381443298969068, 0.85567010309278346, 0.79381443298969068, 0.82474226804123707, 0.83505154639175261, 0.79381443298969068, 0.79381443298969068, 0.79381443298969068, 0.84536082474226804, 0.85567010309278346, 0.84536082474226804, 0.79381443298969068, 0.83505154639175261, 0.82474226804123707, 0.72164948453608246, 0.83505154639175261, 0.79381443298969068, 0.83505154639175261, 0.85567010309278346, 0.78350515463917525, 0.80412371134020622, 0.82474226804123707, 0.85567010309278346, 0.83505154639175261, 0.79381443298969068, 0.84536082474226804, 0.80412371134020622, 0.73195876288659789, 0.80412371134020622, 0.82474226804123707, 0.81443298969072164, 0.82474226804123707, 0.77319587628865982, 0.82474226804123707, 0.87628865979381443, 0.78350515463917525, 0.77319587628865982, 0.80412371134020622, 0.80412371134020622, 0.84536082474226804, 0.81443298969072164, 0.82474226804123707, 0.83505154639175261, 0.80412371134020622, 0.84536082474226804, 0.82474226804123707, 0.79381443298969068, 0.78350515463917525, 0.78350515463917525, 0.84536082474226804, 0.85567010309278346, 0.80412371134020622, 0.865979381443299, 0.83505154639175261, 0.81443298969072164, 0.81443298969072164, 0.84536082474226804, 0.84536082474226804, 0.81443298969072164, 0.80412371134020622, 0.83505154639175261, 0.84536082474226804, 0.82474226804123707, 0.82474226804123707, 0.84536082474226804, 0.82474226804123707, 0.83505154639175261, 0.88659793814432986, 0.85567010309278346, 0.84536082474226804, 0.865979381443299, 0.85567010309278346, 0.82474226804123707, 0.78350515463917525, 0.80412371134020622, 0.82474226804123707, 0.84536082474226804, 0.82474226804123707, 0.81443298969072164, 0.85567010309278346, 0.76288659793814428, 0.84536082474226804, 0.82474226804123707, 0.78350515463917525, 0.78350515463917525, 0.80412371134020622, 0.77319587628865982, 0.78350515463917525, 0.84536082474226804, 0.78350515463917525, 0.84536082474226804, 0.82474226804123707, 0.80412371134020622, 0.84536082474226804, 0.81443298969072164, 0.83505154639175261, 0.77319587628865982, 0.83505154639175261, 0.79381443298969068, 0.75257731958762886, 0.80412371134020622, 0.84536082474226804, 0.82474226804123707, 0.81443298969072164, 0.80412371134020622, 0.84536082474226804, 0.84536082474226804, 0.85567010309278346, 0.79381443298969068, 0.865979381443299, 0.83505154639175261, 0.81443298969072164, 0.84536082474226804, 0.84536082474226804, 0.76288659793814428, 0.81443298969072164, 0.82474226804123707, 0.84536082474226804, 0.76288659793814428, 0.81443298969072164, 0.89690721649484539, 0.81443298969072164, 0.84536082474226804, 0.82474226804123707, 0.865979381443299, 0.76288659793814428, 0.82474226804123707, 0.76288659793814428, 0.83505154639175261, 0.81443298969072164, 0.79381443298969068, 0.82474226804123707, 0.84536082474226804, 0.79381443298969068, 0.83505154639175261, 0.84536082474226804, 0.77319587628865982, 0.81443298969072164, 0.80412371134020622, 0.85567010309278346, 0.84536082474226804, 0.81443298969072164, 0.85567010309278346, 0.79381443298969068, 0.80412371134020622, 0.84536082474226804, 0.82474226804123707, 0.85567010309278346, 0.865979381443299, 0.83505154639175261, 0.84536082474226804, 0.79381443298969068, 0.865979381443299, 0.82474226804123707, 0.83505154639175261, 0.83505154639175261, 0.82474226804123707, 0.81443298969072164, 0.81443298969072164, 0.82474226804123707, 0.81443298969072164, 0.82474226804123707, 0.85567010309278346, 0.84536082474226804, 0.82474226804123707, 0.83505154639175261, 0.84536082474226804, 0.85567010309278346, 0.81443298969072164, 0.83505154639175261, 0.79381443298969068, 0.80412371134020622, 0.76288659793814428, 0.88659793814432986, 0.83505154639175261, 0.78350515463917525, 0.80412371134020622, 0.82474226804123707, 0.81443298969072164, 0.84536082474226804, 0.80412371134020622, 0.84536082474226804, 0.78350515463917525, 0.83505154639175261, 0.83505154639175261, 0.80412371134020622, 0.76288659793814428, 0.865979381443299, 0.78350515463917525, 0.85567010309278346, 0.82474226804123707, 0.84536082474226804, 0.79381443298969068, 0.79381443298969068, 0.79381443298969068, 0.87628865979381443, 0.84536082474226804, 0.80412371134020622, 0.83505154639175261, 0.83505154639175261, 0.84536082474226804, 0.82474226804123707, 0.84536082474226804, 0.84536082474226804, 0.83505154639175261, 0.80412371134020622, 0.78350515463917525, 0.82474226804123707, 0.83505154639175261, 0.78350515463917525, 0.80412371134020622, 0.78350515463917525, 0.77319587628865982, 0.865979381443299, 0.80412371134020622, 0.82474226804123707, 0.81443298969072164, 0.82474226804123707, 0.81443298969072164, 0.80412371134020622, 0.82474226804123707, 0.78350515463917525, 0.82474226804123707, 0.82474226804123707, 0.87628865979381443, 0.82474226804123707, 0.83505154639175261, 0.83505154639175261, 0.76288659793814428, 0.82474226804123707, 0.83505154639175261, 0.83505154639175261, 0.83505154639175261, 0.84536082474226804, 0.80412371134020622, 0.87628865979381443, 0.84536082474226804, 0.75257731958762886, 0.78350515463917525, 0.85567010309278346, 0.865979381443299, 0.865979381443299, 0.84536082474226804, 0.80412371134020622, 0.78350515463917525, 0.79381443298969068, 0.81443298969072164, 0.84536082474226804, 0.85567010309278346, 0.76288659793814428, 0.82474226804123707, 0.79381443298969068, 0.81443298969072164, 0.77319587628865982, 0.84536082474226804, 0.84536082474226804, 0.82474226804123707, 0.82474226804123707, 0.83505154639175261, 0.81443298969072164, 0.81443298969072164, 0.82474226804123707, 0.79381443298969068, 0.83505154639175261, 0.82474226804123707, 0.81443298969072164, 0.81443298969072164, 0.81443298969072164, 0.82474226804123707, 0.82474226804123707, 0.84536082474226804, 0.80412371134020622, 0.865979381443299, 0.88659793814432986, 0.76288659793814428, 0.85567010309278346, 0.81443298969072164, 0.78350515463917525, 0.81443298969072164, 0.80412371134020622, 0.81443298969072164, 0.82474226804123707, 0.85567010309278346, 0.84536082474226804, 0.78350515463917525, 0.865979381443299, 0.80412371134020622, 0.80412371134020622, 0.83505154639175261, 0.83505154639175261, 0.84536082474226804, 0.85567010309278346, 0.78350515463917525, 0.74226804123711343, 0.84536082474226804, 0.80412371134020622, 0.85567010309278346, 0.87628865979381443, 0.83505154639175261, 0.85567010309278346, 0.88659793814432986, 0.81443298969072164, 0.82474226804123707, 0.78350515463917525, 0.78350515463917525, 0.79381443298969068, 0.84536082474226804, 0.81443298969072164, 0.82474226804123707, 0.82474226804123707, 0.79381443298969068, 0.79381443298969068, 0.79381443298969068, 0.87628865979381443, 0.74226804123711343, 0.84536082474226804, 0.80412371134020622, 0.81443298969072164, 0.82474226804123707, 0.78350515463917525, 0.84536082474226804, 0.83505154639175261, 0.83505154639175261, 0.85567010309278346, 0.81443298969072164, 0.83505154639175261, 0.80412371134020622, 0.81443298969072164, 0.81443298969072164, 0.81443298969072164, 0.81443298969072164, 0.84536082474226804, 0.81443298969072164, 0.76288659793814428, 0.79381443298969068, 0.82474226804123707, 0.84536082474226804, 0.80412371134020622, 0.77319587628865982, 0.80412371134020622, 0.81443298969072164, 0.76288659793814428, 0.83505154639175261, 0.84536082474226804, 0.82474226804123707, 0.81443298969072164, 0.84536082474226804, 0.83505154639175261, 0.80412371134020622, 0.78350515463917525, 0.78350515463917525, 0.77319587628865982, 0.81443298969072164, 0.81443298969072164, 0.85567010309278346, 0.85567010309278346, 0.78350515463917525, 0.87628865979381443, 0.865979381443299, 0.81443298969072164, 0.78350515463917525, 0.83505154639175261, 0.79381443298969068, 0.82474226804123707, 0.81443298969072164, 0.87628865979381443, 0.79381443298969068, 0.78350515463917525, 0.81443298969072164, 0.87628865979381443, 0.83505154639175261, 0.84536082474226804, 0.82474226804123707, 0.83505154639175261, 0.81443298969072164, 0.84536082474226804, 0.82474226804123707, 0.82474226804123707, 0.76288659793814428, 0.81443298969072164, 0.81443298969072164, 0.79381443298969068, 0.80412371134020622, 0.79381443298969068, 0.80412371134020622, 0.73195876288659789, 0.78350515463917525, 0.83505154639175261, 0.82474226804123707, 0.81443298969072164, 0.83505154639175261, 0.80412371134020622, 0.81443298969072164, 0.865979381443299, 0.77319587628865982, 0.81443298969072164, 0.79381443298969068, 0.84536082474226804, 0.81443298969072164, 0.76288659793814428, 0.78350515463917525, 0.81443298969072164, 0.80412371134020622, 0.81443298969072164, 0.76288659793814428, 0.82474226804123707, 0.81443298969072164, 0.84536082474226804, 0.80412371134020622, 0.87628865979381443, 0.80412371134020622, 0.84536082474226804, 0.81443298969072164, 0.81443298969072164, 0.82474226804123707, 0.82474226804123707, 0.78350515463917525, 0.88659793814432986, 0.80412371134020622, 0.78350515463917525, 0.84536082474226804, 0.81443298969072164, 0.77319587628865982, 0.82474226804123707, 0.84536082474226804, 0.77319587628865982, 0.80412371134020622, 0.84536082474226804, 0.78350515463917525, 0.81443298969072164, 0.84536082474226804, 0.83505154639175261, 0.80412371134020622, 0.78350515463917525, 0.83505154639175261, 0.78350515463917525, 0.82474226804123707, 0.81443298969072164, 0.80412371134020622, 0.76288659793814428, 0.82474226804123707, 0.84536082474226804, 0.78350515463917525, 0.81443298969072164, 0.84536082474226804, 0.84536082474226804, 0.78350515463917525, 0.82474226804123707, 0.80412371134020622, 0.865979381443299, 0.80412371134020622, 0.80412371134020622, 0.75257731958762886, 0.82474226804123707, 0.76288659793814428, 0.81443298969072164, 0.83505154639175261, 0.85567010309278346, 0.85567010309278346, 0.83505154639175261, 0.81443298969072164, 0.83505154639175261, 0.77319587628865982, 0.80412371134020622, 0.82474226804123707, 0.79381443298969068, 0.81443298969072164, 0.83505154639175261, 0.87628865979381443, 0.83505154639175261, 0.80412371134020622, 0.82474226804123707, 0.84536082474226804, 0.79381443298969068, 0.85567010309278346, 0.80412371134020622, 0.79381443298969068, 0.85567010309278346, 0.865979381443299, 0.81443298969072164, 0.78350515463917525, 0.82474226804123707, 0.78350515463917525, 0.82474226804123707, 0.81443298969072164, 0.80412371134020622, 0.865979381443299, 0.80412371134020622, 0.79381443298969068, 0.80412371134020622, 0.78350515463917525, 0.82474226804123707, 0.84536082474226804, 0.83505154639175261, 0.80412371134020622, 0.82474226804123707, 0.84536082474226804, 0.85567010309278346, 0.84536082474226804, 0.81443298969072164, 0.81443298969072164, 0.77319587628865982, 0.79381443298969068, 0.81443298969072164, 0.84536082474226804, 0.87628865979381443, 0.84536082474226804, 0.85567010309278346, 0.80412371134020622, 0.79381443298969068, 0.81443298969072164, 0.78350515463917525, 0.83505154639175261, 0.81443298969072164, 0.80412371134020622, 0.85567010309278346, 0.85567010309278346, 0.82474226804123707, 0.78350515463917525, 0.81443298969072164, 0.83505154639175261, 0.85567010309278346, 0.76288659793814428, 0.83505154639175261, 0.84536082474226804, 0.82474226804123707, 0.82474226804123707, 0.83505154639175261, 0.79381443298969068, 0.78350515463917525, 0.80412371134020622, 0.82474226804123707, 0.74226804123711343, 0.78350515463917525, 0.85567010309278346, 0.865979381443299, 0.79381443298969068, 0.83505154639175261, 0.84536082474226804, 0.84536082474226804, 0.81443298969072164, 0.81443298969072164, 0.79381443298969068, 0.84536082474226804, 0.82474226804123707, 0.85567010309278346, 0.83505154639175261, 0.80412371134020622, 0.81443298969072164, 0.83505154639175261], 0.82008247422680436)\n"
     ]
    }
   ],
   "source": [
    "# 10/18\n",
    "\n",
    "def test_and_score(supervised_X, supervised_y, test_X, test_y, c=1e15):\n",
    "    avg_score = []\n",
    "    for _ in range(1000):\n",
    "        res_mat_shuff, cls_valid_shuff = sk.utils.shuffle(supervised_X, supervised_y) #, random_state=0)\n",
    "\n",
    "        cls_train, cls_test, res_train, res_test = train_test_split(cls_valid_shuff, res_mat_shuff, test_size=0.5)\n",
    "\n",
    "        # print(len(cls_train), len(cls_test))\n",
    "\n",
    "        X = res_train\n",
    "        y = cls_train\n",
    "        X_test = res_test\n",
    "\n",
    "        clf = SVC(C=c, kernel='poly', degree=2, coef0=0, class_weight = 'balanced')\n",
    "\n",
    "        clf.fit(X, y)\n",
    "\n",
    "        predict = clf.predict(test_X)\n",
    "\n",
    "        final_predictions = collections.defaultdict(list)\n",
    "        # print(predict == np.array(cls_test))\n",
    "        for species_id, p, gt in zip(testing_species_id, predict, test_y):\n",
    "            final_predictions[(species_id, gt)] += [p] # 1 if correct, 0 if not\n",
    "        \n",
    "        score = [] #np.mean((predict == np.array(test_y))*1)\n",
    "        \n",
    "        for k, v in final_predictions.items():\n",
    "            # print(_, v)\n",
    "            _, gt = k\n",
    "            # print(collections.Counter(v).most_common())\n",
    "            score.append(collections.Counter(v).most_common(1)[0][0] == gt)\n",
    "            # print(np.mean(v))\n",
    "        \n",
    "        score = np.mean(score)\n",
    "        \n",
    "        avg_score.append(score)\n",
    "\n",
    "    print(avg_score, np.mean(avg_score))\n",
    "\n",
    "print('Approximated similarity matrix: \\n')\n",
    "test_and_score(supervised_X, supervised_y, test_X, test_y)\n",
    "print('Full similarity matrix: \\n')\n",
    "test_and_score(full_supervised_X, supervised_y, full_test_X, test_y)"
   ]
  },
  {
   "cell_type": "markdown",
   "metadata": {},
   "source": [
    "We see the results are very competitive.\n",
    "\n",
    "Now, we use cross validation method get another take on our performance."
   ]
  },
  {
   "cell_type": "code",
   "execution_count": 166,
   "metadata": {
    "collapsed": false
   },
   "outputs": [
    {
     "name": "stdout",
     "output_type": "stream",
     "text": [
      "Approximated similarity matrix: \n",
      "\n",
      "[array([ 0.84615385,  0.82539683,  0.88888889])]\n",
      "('mean scores:', [0.85347985347985345])\n",
      "\n",
      "Full similarity matrix: \n",
      "\n",
      "[array([ 0.86153846,  0.85714286,  0.88888889])]\n",
      "('mean scores:', [0.86919006919006925])\n"
     ]
    }
   ],
   "source": [
    "# cross validation method\n",
    "# SVM\n",
    "\n",
    "# tricks: shuffling data, cross validation, balanced classes, hyperparam tuning\n",
    "\n",
    "def cv_test_and_score(supervised_X, supervised_y, c=1e14):\n",
    "    scores = []\n",
    "    param_vals = []\n",
    "    \n",
    "    # shuffle the data\n",
    "    res_mat_shuff, cls_valid_shuff = sk.utils.shuffle(supervised_X, supervised_y) #, random_state=0)\n",
    "\n",
    "    c = 10*c\n",
    "    clf = SVC(C=c,kernel='poly', degree=2, coef0=0) #, gamma=i)\n",
    "\n",
    "    score = sk.cross_validation.cross_val_score(clf, res_mat_shuff, cls_valid_shuff, cv=3) #, n_jobs=-1)\n",
    "    # print('Prediction accuracy:', np.mean((prediction == np.array(cls_test))*1))\n",
    "    #Coefficients used by the classifier\n",
    "\n",
    "    scores.append(score)\n",
    "    param_vals.append(i)\n",
    "\n",
    "    print(scores)\n",
    "\n",
    "    mn_scores = [np.mean(score) for score in scores]\n",
    "\n",
    "    print('mean scores:', mn_scores)\n",
    "\n",
    "print('Approximated similarity matrix: \\n')\n",
    "cv_test_and_score(supervised_X, supervised_y)\n",
    "print('\\nFull similarity matrix: \\n')\n",
    "cv_test_and_score(full_supervised_X, supervised_y)"
   ]
  },
  {
   "cell_type": "markdown",
   "metadata": {
    "collapsed": true
   },
   "source": [
    "Notice that we included our testing data when creating the similiarity matrix, because we first create the matrix and then separate the data into train and test sets. This is somewhat unsatisfying, and very anonying if we want to do on the fly predictions. We have to recompute the simliarity matrix every time.\n",
    "\n",
    "We now try excluding the test data from computing the similarity matrix. Instead, we can compute the values for the test data afterwards. We then also need to project the similiarity values for the test data to the SVD space, before we can run SVC."
   ]
  },
  {
   "cell_type": "code",
   "execution_count": null,
   "metadata": {
    "collapsed": true
   },
   "outputs": [],
   "source": []
  },
  {
   "cell_type": "code",
   "execution_count": 27,
   "metadata": {
    "collapsed": true
   },
   "outputs": [],
   "source": [
    "flat = sim_mat.flatten()"
   ]
  },
  {
   "cell_type": "code",
   "execution_count": 28,
   "metadata": {
    "collapsed": false
   },
   "outputs": [
    {
     "data": {
      "text/plain": [
       "(array([  2.00000000e+00,   4.00000000e+00,   2.00000000e+00,\n",
       "          1.00000000e+01,   6.00000000e+00,   1.60000000e+01,\n",
       "          3.80000000e+01,   2.80000000e+01,   6.40000000e+01,\n",
       "          1.90000000e+02,   1.74000000e+02,   4.00000000e+02,\n",
       "          3.96000000e+02,   8.90000000e+02,   9.86000000e+02,\n",
       "          1.76600000e+03,   2.42000000e+03,   3.47800000e+03,\n",
       "          4.76200000e+03,   6.49000000e+03,   8.12800000e+03,\n",
       "          1.00980000e+04,   1.18280000e+04,   1.39020000e+04,\n",
       "          1.61940000e+04,   2.04100000e+04,   2.43340000e+04,\n",
       "          3.49140000e+04,   4.33500000e+04,   6.35380000e+04,\n",
       "          8.20840000e+04,   9.03720000e+04,   1.21996000e+05,\n",
       "          1.36796000e+05,   1.50592000e+05,   1.51910000e+05,\n",
       "          1.28328000e+05,   1.40234000e+05,   1.27008000e+05,\n",
       "          1.18652000e+05,   1.13962000e+05,   1.05826000e+05,\n",
       "          1.23458000e+05,   1.44016000e+05,   1.72244000e+05,\n",
       "          2.19188000e+05,   2.64060000e+05,   3.49510000e+05,\n",
       "          4.33356000e+05,   5.07644000e+05,   5.59114000e+05,\n",
       "          6.02336000e+05,   6.89812000e+05,   7.31326000e+05,\n",
       "          7.69426000e+05,   6.95234000e+05,   7.77376000e+05,\n",
       "          7.47936000e+05,   7.35538000e+05,   7.45808000e+05,\n",
       "          7.13226000e+05,   6.45266000e+05,   7.10862000e+05,\n",
       "          7.11912000e+05,   7.08446000e+05,   7.08886000e+05,\n",
       "          6.24406000e+05,   7.25512000e+05,   6.79848000e+05,\n",
       "          6.01316000e+05,   5.27944000e+05,   4.43828000e+05,\n",
       "          3.37266000e+05,   3.40532000e+05,   3.04186000e+05,\n",
       "          2.74226000e+05,   2.75818000e+05,   2.27108000e+05,\n",
       "          2.45112000e+05,   2.04064000e+05,   1.58184000e+05,\n",
       "          1.14850000e+05,   7.61700000e+04,   3.89820000e+04,\n",
       "          2.88660000e+04,   1.67340000e+04,   1.06180000e+04,\n",
       "          5.78000000e+03,   2.50600000e+03,   2.84400000e+03,\n",
       "          2.19200000e+03,   1.67000000e+03,   2.31200000e+03,\n",
       "          1.01200000e+03,   1.87200000e+03,   1.50600000e+03,\n",
       "          1.46400000e+03,   1.40400000e+03,   3.18800000e+03,\n",
       "          3.44430000e+04]),\n",
       " array([ 0.41873278,  0.42454545,  0.43035813,  0.4361708 ,  0.44198347,\n",
       "         0.44779614,  0.45360882,  0.45942149,  0.46523416,  0.47104683,\n",
       "         0.4768595 ,  0.48267218,  0.48848485,  0.49429752,  0.50011019,\n",
       "         0.50592287,  0.51173554,  0.51754821,  0.52336088,  0.52917355,\n",
       "         0.53498623,  0.5407989 ,  0.54661157,  0.55242424,  0.55823691,\n",
       "         0.56404959,  0.56986226,  0.57567493,  0.5814876 ,  0.58730028,\n",
       "         0.59311295,  0.59892562,  0.60473829,  0.61055096,  0.61636364,\n",
       "         0.62217631,  0.62798898,  0.63380165,  0.63961433,  0.645427  ,\n",
       "         0.65123967,  0.65705234,  0.66286501,  0.66867769,  0.67449036,\n",
       "         0.68030303,  0.6861157 ,  0.69192837,  0.69774105,  0.70355372,\n",
       "         0.70936639,  0.71517906,  0.72099174,  0.72680441,  0.73261708,\n",
       "         0.73842975,  0.74424242,  0.7500551 ,  0.75586777,  0.76168044,\n",
       "         0.76749311,  0.77330579,  0.77911846,  0.78493113,  0.7907438 ,\n",
       "         0.79655647,  0.80236915,  0.80818182,  0.81399449,  0.81980716,\n",
       "         0.82561983,  0.83143251,  0.83724518,  0.84305785,  0.84887052,\n",
       "         0.8546832 ,  0.86049587,  0.86630854,  0.87212121,  0.87793388,\n",
       "         0.88374656,  0.88955923,  0.8953719 ,  0.90118457,  0.90699725,\n",
       "         0.91280992,  0.91862259,  0.92443526,  0.93024793,  0.93606061,\n",
       "         0.94187328,  0.94768595,  0.95349862,  0.95931129,  0.96512397,\n",
       "         0.97093664,  0.97674931,  0.98256198,  0.98837466,  0.99418733,  1.        ]),\n",
       " <a list of 100 Patch objects>)"
      ]
     },
     "execution_count": 28,
     "metadata": {},
     "output_type": "execute_result"
    },
    {
     "data": {
      "image/png": "[encoded data removed]",
      "text/plain": [
       "<matplotlib.figure.Figure at 0x25d801a6ba8>"
      ]
     },
     "metadata": {},
     "output_type": "display_data"
    }
   ],
   "source": [
    "plt.hist(flat, bins=100)"
   ]
  },
  {
   "cell_type": "code",
   "execution_count": 29,
   "metadata": {
    "collapsed": false
   },
   "outputs": [
    {
     "data": {
      "text/plain": [
       "(array([  2.00000000e+00,   1.00000000e+00,   2.00000000e+00,\n",
       "          2.00000000e+00,   4.00000000e+00,   1.30000000e+01,\n",
       "          4.60000000e+01,   4.60000000e+01,   8.20000000e+01,\n",
       "          7.10000000e+01,   1.74000000e+02,   1.92000000e+02,\n",
       "          2.27000000e+02,   3.26000000e+02,   3.87000000e+02,\n",
       "          7.17000000e+02,   9.58000000e+02,   9.11000000e+02,\n",
       "          1.21900000e+03,   1.73300000e+03,   1.95800000e+03,\n",
       "          2.16000000e+03,   2.71100000e+03,   3.66700000e+03,\n",
       "          3.93000000e+03,   5.77300000e+03,   8.24000000e+03,\n",
       "          1.01220000e+04,   1.31740000e+04,   1.75920000e+04,\n",
       "          1.64820000e+04,   2.22680000e+04,   2.16190000e+04,\n",
       "          1.86410000e+04,   1.96700000e+04,   1.79700000e+04,\n",
       "          1.52600000e+04,   1.62720000e+04,   1.61420000e+04,\n",
       "          1.61170000e+04,   1.82970000e+04,   2.33600000e+04,\n",
       "          2.77250000e+04,   3.68510000e+04,   4.64500000e+04,\n",
       "          5.75290000e+04,   7.48040000e+04,   8.87160000e+04,\n",
       "          9.35630000e+04,   1.16745000e+05,   1.31733000e+05,\n",
       "          1.24042000e+05,   1.44949000e+05,   1.48201000e+05,\n",
       "          1.28595000e+05,   1.38649000e+05,   1.30729000e+05,\n",
       "          1.16914000e+05,   1.31467000e+05,   1.31644000e+05,\n",
       "          1.32381000e+05,   1.15291000e+05,   1.20733000e+05,\n",
       "          1.21120000e+05,   1.06469000e+05,   1.33556000e+05,\n",
       "          1.41458000e+05,   1.17979000e+05,   1.26296000e+05,\n",
       "          1.15922000e+05,   8.66250000e+04,   8.59180000e+04,\n",
       "          7.45650000e+04,   6.58760000e+04,   5.78150000e+04,\n",
       "          7.12850000e+04,   7.78560000e+04,   6.86830000e+04,\n",
       "          7.05100000e+04,   6.20590000e+04,   4.15560000e+04,\n",
       "          3.58170000e+04,   2.38560000e+04,   1.18900000e+04,\n",
       "          7.53800000e+03,   5.93400000e+03,   2.41000000e+03,\n",
       "          9.60000000e+02,   6.07000000e+02,   4.87000000e+02,\n",
       "          3.98000000e+02,   1.69000000e+02,   2.76000000e+02,\n",
       "          1.14000000e+02,   7.61000000e+02,   1.59000000e+02,\n",
       "          1.58000000e+02,   1.38000000e+02,   4.36000000e+02,\n",
       "          9.33600000e+03]),\n",
       " array([ 0.43801653,  0.44363636,  0.4492562 ,  0.45487603,  0.46049587,\n",
       "         0.4661157 ,  0.47173554,  0.47735537,  0.48297521,  0.48859504,\n",
       "         0.49421488,  0.49983471,  0.50545455,  0.51107438,  0.51669421,\n",
       "         0.52231405,  0.52793388,  0.53355372,  0.53917355,  0.54479339,\n",
       "         0.55041322,  0.55603306,  0.56165289,  0.56727273,  0.57289256,\n",
       "         0.5785124 ,  0.58413223,  0.58975207,  0.5953719 ,  0.60099174,\n",
       "         0.60661157,  0.6122314 ,  0.61785124,  0.62347107,  0.62909091,\n",
       "         0.63471074,  0.64033058,  0.64595041,  0.65157025,  0.65719008,\n",
       "         0.66280992,  0.66842975,  0.67404959,  0.67966942,  0.68528926,\n",
       "         0.69090909,  0.69652893,  0.70214876,  0.7077686 ,  0.71338843,\n",
       "         0.71900826,  0.7246281 ,  0.73024793,  0.73586777,  0.7414876 ,\n",
       "         0.74710744,  0.75272727,  0.75834711,  0.76396694,  0.76958678,\n",
       "         0.77520661,  0.78082645,  0.78644628,  0.79206612,  0.79768595,\n",
       "         0.80330579,  0.80892562,  0.81454545,  0.82016529,  0.82578512,\n",
       "         0.83140496,  0.83702479,  0.84264463,  0.84826446,  0.8538843 ,\n",
       "         0.85950413,  0.86512397,  0.8707438 ,  0.87636364,  0.88198347,\n",
       "         0.88760331,  0.89322314,  0.89884298,  0.90446281,  0.91008264,\n",
       "         0.91570248,  0.92132231,  0.92694215,  0.93256198,  0.93818182,\n",
       "         0.94380165,  0.94942149,  0.95504132,  0.96066116,  0.96628099,\n",
       "         0.97190083,  0.97752066,  0.9831405 ,  0.98876033,  0.99438017,  1.        ]),\n",
       " <a list of 100 Patch objects>)"
      ]
     },
     "execution_count": 29,
     "metadata": {},
     "output_type": "execute_result"
    },
    {
     "data": {
      "image/png": "[encoded data removed]",
      "text/plain": [
       "<matplotlib.figure.Figure at 0x25dab656f28>"
      ]
     },
     "metadata": {},
     "output_type": "display_data"
    }
   ],
   "source": [
    "plt.hist(sim_mat[cls_valid == 'Indigenous'].flatten(), color=(0,1,0,1), bins=100)\n",
    "plt.hist(sim_mat[cls_valid == 'Invasive'].flatten(), color=(0,0,1,.2), bins=100)\n",
    "plt.hist(sim_mat[cls_valid == 'Introduced'].flatten(), color=(1,0,0,.2), bins=100)"
   ]
  },
  {
   "cell_type": "code",
   "execution_count": 30,
   "metadata": {
    "collapsed": false
   },
   "outputs": [
    {
     "data": {
      "text/plain": [
       "701"
      ]
     },
     "execution_count": 30,
     "metadata": {},
     "output_type": "execute_result"
    }
   ],
   "source": [
    "len(seq[124])"
   ]
  },
  {
   "cell_type": "code",
   "execution_count": 31,
   "metadata": {
    "collapsed": false
   },
   "outputs": [
    {
     "data": {
      "text/plain": [
       "(array([  2.00000000e+00,   1.00000000e+00,   2.00000000e+00,\n",
       "          2.00000000e+00,   4.00000000e+00,   1.30000000e+01,\n",
       "          4.60000000e+01,   4.60000000e+01,   8.20000000e+01,\n",
       "          7.10000000e+01,   1.74000000e+02,   1.92000000e+02,\n",
       "          2.27000000e+02,   3.26000000e+02,   3.87000000e+02,\n",
       "          7.17000000e+02,   9.58000000e+02,   9.11000000e+02,\n",
       "          1.21900000e+03,   1.73300000e+03,   1.95800000e+03,\n",
       "          2.16000000e+03,   2.71100000e+03,   3.66700000e+03,\n",
       "          3.93000000e+03,   5.77300000e+03,   8.24000000e+03,\n",
       "          1.01220000e+04,   1.31740000e+04,   1.75920000e+04,\n",
       "          1.64820000e+04,   2.22680000e+04,   2.16190000e+04,\n",
       "          1.86410000e+04,   1.96700000e+04,   1.79700000e+04,\n",
       "          1.52600000e+04,   1.62720000e+04,   1.61420000e+04,\n",
       "          1.61170000e+04,   1.82970000e+04,   2.33600000e+04,\n",
       "          2.77250000e+04,   3.68510000e+04,   4.64500000e+04,\n",
       "          5.75290000e+04,   7.48040000e+04,   8.87160000e+04,\n",
       "          9.35630000e+04,   1.16745000e+05,   1.31733000e+05,\n",
       "          1.24042000e+05,   1.44949000e+05,   1.48201000e+05,\n",
       "          1.28595000e+05,   1.38649000e+05,   1.30729000e+05,\n",
       "          1.16914000e+05,   1.31467000e+05,   1.31644000e+05,\n",
       "          1.32381000e+05,   1.15291000e+05,   1.20733000e+05,\n",
       "          1.21120000e+05,   1.06469000e+05,   1.33556000e+05,\n",
       "          1.41458000e+05,   1.17979000e+05,   1.26296000e+05,\n",
       "          1.15922000e+05,   8.66250000e+04,   8.59180000e+04,\n",
       "          7.45650000e+04,   6.58760000e+04,   5.78150000e+04,\n",
       "          7.12850000e+04,   7.78560000e+04,   6.86830000e+04,\n",
       "          7.05100000e+04,   6.20590000e+04,   4.15560000e+04,\n",
       "          3.58170000e+04,   2.38560000e+04,   1.18900000e+04,\n",
       "          7.53800000e+03,   5.93400000e+03,   2.41000000e+03,\n",
       "          9.60000000e+02,   6.07000000e+02,   4.87000000e+02,\n",
       "          3.98000000e+02,   1.69000000e+02,   2.76000000e+02,\n",
       "          1.14000000e+02,   7.61000000e+02,   1.59000000e+02,\n",
       "          1.58000000e+02,   1.38000000e+02,   4.36000000e+02,\n",
       "          9.33600000e+03]),\n",
       " array([ 0.43801653,  0.44363636,  0.4492562 ,  0.45487603,  0.46049587,\n",
       "         0.4661157 ,  0.47173554,  0.47735537,  0.48297521,  0.48859504,\n",
       "         0.49421488,  0.49983471,  0.50545455,  0.51107438,  0.51669421,\n",
       "         0.52231405,  0.52793388,  0.53355372,  0.53917355,  0.54479339,\n",
       "         0.55041322,  0.55603306,  0.56165289,  0.56727273,  0.57289256,\n",
       "         0.5785124 ,  0.58413223,  0.58975207,  0.5953719 ,  0.60099174,\n",
       "         0.60661157,  0.6122314 ,  0.61785124,  0.62347107,  0.62909091,\n",
       "         0.63471074,  0.64033058,  0.64595041,  0.65157025,  0.65719008,\n",
       "         0.66280992,  0.66842975,  0.67404959,  0.67966942,  0.68528926,\n",
       "         0.69090909,  0.69652893,  0.70214876,  0.7077686 ,  0.71338843,\n",
       "         0.71900826,  0.7246281 ,  0.73024793,  0.73586777,  0.7414876 ,\n",
       "         0.74710744,  0.75272727,  0.75834711,  0.76396694,  0.76958678,\n",
       "         0.77520661,  0.78082645,  0.78644628,  0.79206612,  0.79768595,\n",
       "         0.80330579,  0.80892562,  0.81454545,  0.82016529,  0.82578512,\n",
       "         0.83140496,  0.83702479,  0.84264463,  0.84826446,  0.8538843 ,\n",
       "         0.85950413,  0.86512397,  0.8707438 ,  0.87636364,  0.88198347,\n",
       "         0.88760331,  0.89322314,  0.89884298,  0.90446281,  0.91008264,\n",
       "         0.91570248,  0.92132231,  0.92694215,  0.93256198,  0.93818182,\n",
       "         0.94380165,  0.94942149,  0.95504132,  0.96066116,  0.96628099,\n",
       "         0.97190083,  0.97752066,  0.9831405 ,  0.98876033,  0.99438017,  1.        ]),\n",
       " <a list of 100 Patch objects>)"
      ]
     },
     "execution_count": 31,
     "metadata": {},
     "output_type": "execute_result"
    },
    {
     "data": {
      "image/png": "[encoded data removed]",
      "text/plain": [
       "<matplotlib.figure.Figure at 0x25dab1d1e48>"
      ]
     },
     "metadata": {},
     "output_type": "display_data"
    }
   ],
   "source": [
    "plt.hist(sim_mat[cls_valid == 'Introduced'].flatten(), bins=100)"
   ]
  },
  {
   "cell_type": "markdown",
   "metadata": {},
   "source": [
    "## Future\n",
    "\n",
    "We are losing infomation about the actual DNA sequences if we just use the similiarity matrix, so we can try a different method based on reading the ATCG bases in the future (RNNs?)"
   ]
  },
  {
   "cell_type": "markdown",
   "metadata": {},
   "source": [
    "Also, we're combining the train and test data in creating a global similarity matrix. Instead, we can use just the training data and the unlabeled data, and save all the testing data for later."
   ]
  },
  {
   "cell_type": "code",
   "execution_count": null,
   "metadata": {
    "collapsed": true
   },
   "outputs": [],
   "source": []
  }
 ],
 "metadata": {
  "anaconda-cloud": {},
  "kernelspec": {
   "display_name": "Python [default]",
   "language": "python",
   "name": "python3"
  },
  "language_info": {
   "codemirror_mode": {
    "name": "ipython",
    "version": 3
   },
   "file_extension": ".py",
   "mimetype": "text/x-python",
   "name": "python",
   "nbconvert_exporter": "python",
   "pygments_lexer": "ipython3",
   "version": "3.5.3"
  }
 },
 "nbformat": 4,
 "nbformat_minor": 2
}
