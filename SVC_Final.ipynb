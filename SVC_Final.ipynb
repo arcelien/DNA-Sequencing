{
 "cells": [
  {
   "cell_type": "markdown",
   "metadata": {},
   "source": [
    "# Classification of DNA Sequences to identify invasive species with semi-supervised training\n",
    "\n",
    "## Machine Learning at Berkeley Research Project\n",
    "\n",
    "### Background\n",
    "\n",
    "We attempt to solve the classification problem of identifying invasive species given binary labels and a novel DNA dataset from the island of Morea.\n",
    "\n",
    "By: Daniel Geng, Daniel Ho, Tracy Lou, Utkarsh Singhal"
   ]
  },
  {
   "cell_type": "markdown",
   "metadata": {},
   "source": [
    "### Method\n",
    "\n",
    "We use a semi-supervised method to take advantage of unlabeled DNA (no invasive/native label), which makes up over two thirds of the dataset.\n",
    "\n",
    "First, we load the DNA sequences and compute a similarity matrix which is easier to work with compared to DNA bases. \n",
    "\n",
    "Note that we can add in the unlabeled data in generating this matrix, because the matrix only uses the DNA sequqences, and not the invasive/native label.\n",
    "\n",
    "Then, we can use a clustering, supervised algorithm like SVC to perform classification on the processed matrix. We are doing supervised learning, so we simply discard the rows of our data matrix corresponding to the unlabeled data."
   ]
  },
  {
   "cell_type": "markdown",
   "metadata": {},
   "source": [
    "## Data processing "
   ]
  },
  {
   "cell_type": "code",
   "execution_count": 1,
   "metadata": {},
   "outputs": [
    {
     "name": "stderr",
     "output_type": "stream",
     "text": [
      "/usr/local/lib/python2.7/dist-packages/sklearn/cross_validation.py:41: DeprecationWarning: This module was deprecated in version 0.18 in favor of the model_selection module into which all the refactored classes and functions are moved. Also note that the interface of the new CV iterators are different from that of this module. This module will be removed in 0.20.\n",
      "  \"This module will be removed in 0.20.\", DeprecationWarning)\n"
     ]
    }
   ],
   "source": [
    "# import libraries\n",
    "%matplotlib inline\n",
    "import numpy as np\n",
    "import pandas as pd\n",
    "import matplotlib.pyplot as plt\n",
    "import scipy\n",
    "import sklearn as sk\n",
    "from __future__ import division\n",
    "from sklearn.cross_validation import train_test_split\n",
    "import math\n",
    "\n",
    "from tqdm import trange\n",
    "from sklearn.svm import SVC"
   ]
  },
  {
   "cell_type": "markdown",
   "metadata": {},
   "source": [
    "Here, we use pandas to read the excel sheet, and then extract features and convert the data to numpy arrays."
   ]
  },
  {
   "cell_type": "code",
   "execution_count": 2,
   "metadata": {},
   "outputs": [],
   "source": [
    "# read the excel sheet \n",
    "df = pd.read_excel('./BioCode for Machine Learning.xlsx')\n",
    "\n",
    "# Read in the labels\n",
    "cls = df['Classification']\n",
    "\n",
    "# Read the DNA sequences, which are strings comprised of the letters ATCG\n",
    "seq = df['Aligned Sequence']"
   ]
  },
  {
   "cell_type": "markdown",
   "metadata": {},
   "source": [
    "The data we're working with are snippets of DNA a few hundred bases long."
   ]
  },
  {
   "cell_type": "code",
   "execution_count": 3,
   "metadata": {
    "scrolled": true
   },
   "outputs": [
    {
     "data": {
      "text/plain": [
       "u'ACTTTATATTTTCTATTTGGAACATGAGCTGGAATAGTAGGAACATCTCTAAGA---ATTTTAATTCGTGCAGAACTTGGACATCCA---GGAGCTTTA------ATTGGAGATGATCAAATTTATAATGTAATTGTAACAGCTCATGCTTTTGTAATAATTTTTTTTATAGTAATACCTATTATAATTGGAGGATTTGGAAATTGATTAGTTCCTTTAATACTTGGAGCTCCTGATATAGCTTTTCCTCGAATAAACAATATAAGTTTTTGATTATTACCACCTTCTTTAACTTTATTATTAGTAAGAAGAATAGTTGAAAATGGAGCAGGAACTGGTTGAACAGTTTACCCTCCTCTTTCTGCTAGAATTGCACATGGAGGTGCATCTGTTGATTTAGCTATTTTTTCTCTTCATTTAGCTGGTATATCATCAATTTTAGGAGCAGTAAATTTTATTACTACAGTAATTAATATACGATCAAATGGAATTTCATATGATCGTATACCTTTATTTGTATGATCAGTTGTAATTACAGCTTTATTATTATTATTATCTTTACCTGTATTAGCAGGAGCTATTACTATACTTTTAACAGATCGAAATCTAAATACCTCATTTTTTGATCCTGCTGGAGGAGGAGATCCTATTTTATATCAACATTTATTT--------------------------------'"
      ]
     },
     "execution_count": 3,
     "metadata": {},
     "output_type": "execute_result"
    }
   ],
   "source": [
    "seq[0]"
   ]
  },
  {
   "cell_type": "markdown",
   "metadata": {},
   "source": [
    "We can visualize the labels below. As we can see, the labels are very messy. We can only use the values of `Indigenous`, `Invasive`, or `NaN` for supervised training. However, because most unlabeled data points still have an associated DNA sequence, we can still use them in an unsupervised pre-training stage."
   ]
  },
  {
   "cell_type": "code",
   "execution_count": 4,
   "metadata": {},
   "outputs": [
    {
     "name": "stdout",
     "output_type": "stream",
     "text": [
      "0     Indigenous\n",
      "1     Indigenous\n",
      "2              0\n",
      "3            NaN\n",
      "4              0\n",
      "5     Indigenous\n",
      "6            NaN\n",
      "7            NaN\n",
      "8     Indigenous\n",
      "9     Indigenous\n",
      "10             0\n",
      "11             0\n",
      "12             0\n",
      "13             0\n",
      "14      Invasive\n",
      "15    Introduced\n",
      "16    Introduced\n",
      "17             0\n",
      "18    Introduced\n",
      "19    Introduced\n",
      "Name: Classification, dtype: object\n"
     ]
    }
   ],
   "source": [
    "print(cls[:20])"
   ]
  },
  {
   "cell_type": "markdown",
   "metadata": {},
   "source": [
    "However, some species don't even have associated DNA sequences. These instead have the value `None`. We have to discard these before we proceed."
   ]
  },
  {
   "cell_type": "code",
   "execution_count": 5,
   "metadata": {},
   "outputs": [],
   "source": [
    "# Shuffles the data (to make sure)\n",
    "#cls = cls.sample(frac=1).reset_index(drop=True)"
   ]
  },
  {
   "cell_type": "code",
   "execution_count": 6,
   "metadata": {},
   "outputs": [],
   "source": [
    "# Convert DNA data to numpy array, and convert NaNs to Nones\n",
    "seq = np.array(seq.fillna('None'))\n",
    "\n",
    "# Create a binary filter to eliminate invalid DNA sequences\n",
    "valid_idx = np.array([i for i in range(len(seq)) if seq[i] != 'None'])\n",
    "\n",
    "# Apply the filter\n",
    "valid_seq = seq[valid_idx]\n",
    "cls_valid = cls[valid_idx]\n",
    "cls_valid = np.array(cls_valid)"
   ]
  },
  {
   "cell_type": "markdown",
   "metadata": {},
   "source": [
    "Now, we process the DNA sequences by converting the string of bases into an array of characters."
   ]
  },
  {
   "cell_type": "code",
   "execution_count": 7,
   "metadata": {},
   "outputs": [
    {
     "name": "stdout",
     "output_type": "stream",
     "text": [
      "(4639, 4639, 4639)\n"
     ]
    }
   ],
   "source": [
    "# Seperate string into individual characters\n",
    "seq_arrays = [np.array([i for i in s]) for s in valid_seq]\n",
    "\n",
    "mat_size = len(seq_arrays)\n",
    "\n",
    "print(len(valid_seq), len(cls_valid), mat_size)"
   ]
  },
  {
   "cell_type": "code",
   "execution_count": 8,
   "metadata": {},
   "outputs": [
    {
     "name": "stdout",
     "output_type": "stream",
     "text": [
      "[u'A' u'C' u'T' u'T' u'T' u'A' u'T' u'A' u'T' u'T' u'T' u'T' u'C' u'T' u'A'\n",
      " u'T' u'T' u'T' u'G' u'G']\n"
     ]
    }
   ],
   "source": [
    "print(seq_arrays[0][:20])"
   ]
  },
  {
   "cell_type": "markdown",
   "metadata": {},
   "source": [
    "## Unsupervised Training"
   ]
  },
  {
   "cell_type": "markdown",
   "metadata": {},
   "source": [
    "We create a similarity matrix, which is a pairwise comparison of DNA sequences and determining the percentage of base pairs that are the same.\n",
    "\n",
    "Because the DNA sequences have been pre-aligned, we can expect this to be mostly accurate and close to the true similiarity values. In some places, the DNA sequences have a '-' character where the base was not read correctly, or missed. We ignore these."
   ]
  },
  {
   "cell_type": "code",
   "execution_count": 9,
   "metadata": {},
   "outputs": [],
   "source": [
    "sim_mat = -np.ones((mat_size, mat_size))"
   ]
  },
  {
   "cell_type": "code",
   "execution_count": 10,
   "metadata": {},
   "outputs": [],
   "source": [
    "# Precomputer no dashes\n",
    "dashes = []\n",
    "for i in range(mat_size):\n",
    "    dashes.append(seq_arrays[i] != '-')"
   ]
  },
  {
   "cell_type": "code",
   "execution_count": 11,
   "metadata": {},
   "outputs": [],
   "source": [
    "try:\n",
    "    sim_mat = np.load('sim_mat.npy')\n",
    "\n",
    "except:\n",
    "    # this will take a few minutes\n",
    "    for i in trange(mat_size):\n",
    "        # clean up bad data\n",
    "        a = seq_arrays[i]\n",
    "        # iterate over DNA sequences and figure out the match\n",
    "        for j in range(i):\n",
    "            b = seq_arrays[j]\n",
    "            match = (a==b)\n",
    "            valid = (dashes[i] * dashes[j])\n",
    "            sim_mat[i,j] = np.mean(match[valid])\n",
    "            sim_mat[j,i] = sim_mat[i,j]\n",
    "        sim_mat[i,i] = 1\n",
    "    np.save('sim_mat.npy', sim_mat)"
   ]
  },
  {
   "cell_type": "code",
   "execution_count": null,
   "metadata": {},
   "outputs": [],
   "source": []
  },
  {
   "cell_type": "code",
   "execution_count": 12,
   "metadata": {},
   "outputs": [
    {
     "data": {
      "text/plain": [
       "array([[ 1.        ,  0.75342466,  0.78713629, ...,  0.80980392,\n",
       "         0.77777778,  0.85692542],\n",
       "       [ 0.75342466,  1.        ,  0.75616438, ...,  0.75342466,\n",
       "         0.70136986,  0.74794521],\n",
       "       [ 0.78713629,  0.75616438,  1.        , ...,  0.74852652,\n",
       "         0.75957121,  0.77641654],\n",
       "       ..., \n",
       "       [ 0.80980392,  0.75342466,  0.74852652, ...,  1.        ,\n",
       "         0.72745098,  0.77647059],\n",
       "       [ 0.77777778,  0.70136986,  0.75957121, ...,  0.72745098,\n",
       "         1.        ,  0.78234399],\n",
       "       [ 0.85692542,  0.74794521,  0.77641654, ...,  0.77647059,\n",
       "         0.78234399,  1.        ]])"
      ]
     },
     "execution_count": 12,
     "metadata": {},
     "output_type": "execute_result"
    }
   ],
   "source": [
    "sim_mat"
   ]
  },
  {
   "cell_type": "markdown",
   "metadata": {},
   "source": [
    "We can visualize the values of the matrix. "
   ]
  },
  {
   "cell_type": "code",
   "execution_count": 13,
   "metadata": {},
   "outputs": [
    {
     "data": {
      "text/plain": [
       "<matplotlib.image.AxesImage at 0x7f0e57fa3a90>"
      ]
     },
     "execution_count": 13,
     "metadata": {},
     "output_type": "execute_result"
    },
    {
     "data": {
      "image/png": "[encoded data removed]",
      "text/plain": [
       "<matplotlib.figure.Figure at 0x7f0e58137310>"
      ]
     },
     "metadata": {},
     "output_type": "display_data"
    }
   ],
   "source": [
    "plt.imshow(sim_mat, cmap='Greys')"
   ]
  },
  {
   "cell_type": "code",
   "execution_count": 14,
   "metadata": {},
   "outputs": [],
   "source": [
    "valid_mat = sim_mat"
   ]
  },
  {
   "cell_type": "code",
   "execution_count": 15,
   "metadata": {},
   "outputs": [
    {
     "data": {
      "text/plain": [
       "((4639, 4639), (4639, 4639))"
      ]
     },
     "execution_count": 15,
     "metadata": {},
     "output_type": "execute_result"
    }
   ],
   "source": [
    "sim_mat.shape, valid_mat.shape"
   ]
  },
  {
   "cell_type": "markdown",
   "metadata": {},
   "source": [
    "The similarity matrix is very big (100mb+), so we try PCA/SVD to extract the most useful features from the largest singular values."
   ]
  },
  {
   "cell_type": "code",
   "execution_count": 16,
   "metadata": {},
   "outputs": [
    {
     "name": "stdout",
     "output_type": "stream",
     "text": [
      "CPU times: user 5min 26s, sys: 1min 33s, total: 7min\n",
      "Wall time: 58.6 s\n"
     ]
    }
   ],
   "source": [
    "%%time\n",
    "u,s,v = np.linalg.svd(valid_mat, full_matrices=0)"
   ]
  },
  {
   "cell_type": "markdown",
   "metadata": {},
   "source": [
    "The rank / number of singular values we pick is a hyperparameter. We run the dimension reduction step."
   ]
  },
  {
   "cell_type": "code",
   "execution_count": 17,
   "metadata": {},
   "outputs": [
    {
     "data": {
      "text/plain": [
       "(array([  1.00000000e+00,   4.00000000e+00,   1.00000000e+01,\n",
       "          3.15000000e+02,   1.64744000e+05,   2.13539440e+07,\n",
       "          7.11000000e+02,   4.23000000e+02,   1.53000000e+02,\n",
       "          1.60000000e+01]),\n",
       " array([-0.01478794, -0.01193264, -0.00907734, -0.00622204, -0.00336673,\n",
       "        -0.00051143,  0.00234387,  0.00519918,  0.00805448,  0.01090978,\n",
       "         0.01376508]),\n",
       " <a list of 10 Patch objects>)"
      ]
     },
     "execution_count": 17,
     "metadata": {},
     "output_type": "execute_result"
    },
    {
     "data": {
      "image/png": "[encoded data removed]",
      "text/plain": [
       "<matplotlib.figure.Figure at 0x7f0e59670b10>"
      ]
     },
     "metadata": {},
     "output_type": "display_data"
    }
   ],
   "source": [
    "rank = 1000\n",
    "approx_1000 = u[:,:rank].dot(np.diag(s[:rank])).dot(v[:rank])\n",
    "errors = ((approx_1000 - valid_mat)/valid_mat)\n",
    "plt.hist(errors.flatten())"
   ]
  },
  {
   "cell_type": "code",
   "execution_count": 18,
   "metadata": {},
   "outputs": [],
   "source": [
    "approx = approx_1000"
   ]
  },
  {
   "cell_type": "markdown",
   "metadata": {},
   "source": [
    "## Supervised Training"
   ]
  },
  {
   "cell_type": "markdown",
   "metadata": {},
   "source": [
    "Now, we have a set of features from our pre-training step, and we're ready to run supervised training. Before we start, we need to first remove data that don't have valid labels. We can't use them anymore!"
   ]
  },
  {
   "cell_type": "code",
   "execution_count": 19,
   "metadata": {},
   "outputs": [
    {
     "data": {
      "text/plain": [
       "array([u'Indigenous', u'Indigenous', u'Indigenous', ..., u'Indigenous',\n",
       "       u'Introduced', u'Invasive'], dtype=object)"
      ]
     },
     "execution_count": 19,
     "metadata": {},
     "output_type": "execute_result"
    }
   ],
   "source": [
    "valid_labels = ['Introduced', 'Invasive', 'Indigenous']\n",
    "labeled_cls = [label in valid_labels for label in cls_valid]\n",
    "#labeled_cls = (valid_labels[labeled_cls] == 'Indigenous').astype(int)\n",
    "\n",
    "# Create a filter telling us which points are valid to use for supervised training\n",
    "labeled_cls = np.array(labeled_cls)\n",
    "#print(len(labeled_cls))\n",
    "cls_valid[labeled_cls]"
   ]
  },
  {
   "cell_type": "markdown",
   "metadata": {},
   "source": [
    "We see that 36% of the data have associated labels."
   ]
  },
  {
   "cell_type": "code",
   "execution_count": 20,
   "metadata": {},
   "outputs": [
    {
     "data": {
      "text/plain": [
       "0.36300926923906013"
      ]
     },
     "execution_count": 20,
     "metadata": {},
     "output_type": "execute_result"
    }
   ],
   "source": [
    "np.mean(labeled_cls)"
   ]
  },
  {
   "cell_type": "code",
   "execution_count": 21,
   "metadata": {},
   "outputs": [
    {
     "name": "stdout",
     "output_type": "stream",
     "text": [
      "((1684, 4639), (1684,))\n"
     ]
    }
   ],
   "source": [
    "# apply the filter over our features and labels\n",
    "supervised_X = approx[labeled_cls]\n",
    "full_supervised_X = valid_mat[labeled_cls]\n",
    "supervised_y = cls_valid[labeled_cls]\n",
    "\n",
    "supervised_y = (supervised_y == 'Indigenous').astype(int)\n",
    "\n",
    "print(supervised_X.shape, supervised_y.shape)"
   ]
  },
  {
   "cell_type": "code",
   "execution_count": 22,
   "metadata": {},
   "outputs": [
    {
     "name": "stdout",
     "output_type": "stream",
     "text": [
      "[1 1 1 ..., 1 0 0]\n",
      "[u'Indigenous' u'Indigenous' u'Indigenous' ..., u'Indigenous' u'Introduced'\n",
      " u'Invasive']\n"
     ]
    }
   ],
   "source": [
    "print supervised_y\n",
    "print cls_valid[labeled_cls]"
   ]
  },
  {
   "cell_type": "markdown",
   "metadata": {},
   "source": [
    "Below, we run Support Vector Clustering (SVC). We shuffle the data first, and then split our data into testing and training splits.\n",
    "\n",
    "There is somewhat large variance inbetween runs, so we take the average for a more accurate score."
   ]
  },
  {
   "cell_type": "code",
   "execution_count": 23,
   "metadata": {},
   "outputs": [
    {
     "name": "stdout",
     "output_type": "stream",
     "text": [
      "Approximated similarity matrix: \n",
      "\n",
      "([0.9970326409495549, 0.99406528189910981], 0.99554896142433236)\n",
      "Full similarity matrix: \n",
      "\n",
      "([0.99406528189910981, 0.9970326409495549], 0.99554896142433236)\n"
     ]
    }
   ],
   "source": [
    "# 10/18\n",
    "\n",
    "def test_and_score(supervised_X, supervised_y, c=1e15):\n",
    "    avg_score = []\n",
    "    for _ in range(2):\n",
    "        res_mat_shuff, cls_valid_shuff = sk.utils.shuffle(supervised_X, supervised_y) #, random_state=0)\n",
    "\n",
    "        cls_train, cls_test, res_train, res_test = train_test_split(cls_valid_shuff, res_mat_shuff, test_size=0.2)\n",
    "\n",
    "        # print(len(cls_train), len(cls_test))\n",
    "\n",
    "        X = res_train\n",
    "        y = cls_train\n",
    "        X_test = res_test\n",
    "\n",
    "        clf = SVC(C=c, kernel='poly', degree=2, coef0=0)\n",
    "\n",
    "        clf.fit(X, y)\n",
    "\n",
    "        predict = clf.predict(X_test)\n",
    "\n",
    "        # print(predict == np.array(cls_test))\n",
    "\n",
    "        score = np.mean((predict == np.array(cls_test))*1)\n",
    "        avg_score.append(score)\n",
    "\n",
    "    print(avg_score, np.mean(avg_score))\n",
    "\n",
    "print 'Approximated similarity matrix: \\n'\n",
    "test_and_score(supervised_X, supervised_y)\n",
    "print 'Full similarity matrix: \\n'\n",
    "test_and_score(full_supervised_X, supervised_y)"
   ]
  },
  {
   "cell_type": "markdown",
   "metadata": {},
   "source": [
    "We see the results are very competitive.\n",
    "\n",
    "Now, we use cross validation method get another take on our performance."
   ]
  },
  {
   "cell_type": "code",
   "execution_count": 24,
   "metadata": {},
   "outputs": [
    {
     "name": "stdout",
     "output_type": "stream",
     "text": [
      "Approximated similarity matrix: \n",
      "\n",
      "[array([ 0.98932384,  0.99288256,  1.        ,  0.99644128,  0.99285714,\n",
      "        0.99285714])]\n",
      "('mean scores:', [0.99406032875783756])\n",
      "\n",
      "Full similarity matrix: \n",
      "\n",
      "[array([ 1.        ,  0.99644128,  0.99288256,  0.97864769,  0.98928571,  1.        ])]\n",
      "('mean scores:', [0.99287620742247074])\n"
     ]
    }
   ],
   "source": [
    "# cross validation method\n",
    "# SVM\n",
    "\n",
    "# tricks: shuffling data, cross validation, balanced classes, hyperparam tuning\n",
    "\n",
    "def cv_test_and_score(supervised_X, supervised_y, c=1e14):\n",
    "    scores = []\n",
    "    param_vals = []\n",
    "    \n",
    "    # shuffle the data\n",
    "    res_mat_shuff, cls_valid_shuff = sk.utils.shuffle(supervised_X, supervised_y) #, random_state=0)\n",
    "\n",
    "    c = 10*c\n",
    "    clf = SVC(C=c,kernel='poly', degree=2, coef0=0) #, gamma=i)\n",
    "\n",
    "    score = sk.cross_validation.cross_val_score(clf, res_mat_shuff, cls_valid_shuff, cv=6) #, n_jobs=-1)\n",
    "    # print('Prediction accuracy:', np.mean((prediction == np.array(cls_test))*1))\n",
    "    #Coefficients used by the classifier\n",
    "\n",
    "    scores.append(score)\n",
    "    param_vals.append(i)\n",
    "\n",
    "    print(scores)\n",
    "\n",
    "    mn_scores = [np.mean(score) for score in scores]\n",
    "\n",
    "    print('mean scores:', mn_scores)\n",
    "\n",
    "print 'Approximated similarity matrix: \\n'\n",
    "cv_test_and_score(supervised_X, supervised_y)\n",
    "print '\\nFull similarity matrix: \\n'\n",
    "cv_test_and_score(full_supervised_X, supervised_y)"
   ]
  },
  {
   "cell_type": "markdown",
   "metadata": {
    "collapsed": true
   },
   "source": [
    "Notice that we included our testing data when creating the similiarity matrix, because we first create the matrix and then separate the data into train and test sets. This is somewhat unsatisfying, and very anonying if we want to do on the fly predictions. We have to recompute the simliarity matrix every time.\n",
    "\n",
    "We now try excluding the test data from computing the similarity matrix. Instead, we can compute the values for the test data afterwards. We then also need to project the similiarity values for the test data to the SVD space, before we can run SVC."
   ]
  },
  {
   "cell_type": "code",
   "execution_count": null,
   "metadata": {},
   "outputs": [],
   "source": []
  },
  {
   "cell_type": "code",
   "execution_count": 30,
   "metadata": {},
   "outputs": [
    {
     "ename": "TypeError",
     "evalue": "'bins' is an invalid keyword argument for this function",
     "output_type": "error",
     "traceback": [
      "\u001b[0;31m---------------------------------------------------------------------------\u001b[0m",
      "\u001b[0;31mTypeError\u001b[0m                                 Traceback (most recent call last)",
      "\u001b[0;32m<ipython-input-30-291dfbb0a5de>\u001b[0m in \u001b[0;36m<module>\u001b[0;34m()\u001b[0m\n\u001b[0;32m----> 1\u001b[0;31m \u001b[0mflat\u001b[0m \u001b[0;34m=\u001b[0m \u001b[0msim_mat\u001b[0m\u001b[0;34m.\u001b[0m\u001b[0mflatten\u001b[0m\u001b[0;34m(\u001b[0m\u001b[0mbins\u001b[0m\u001b[0;34m=\u001b[0m\u001b[0;36m100\u001b[0m\u001b[0;34m)\u001b[0m\u001b[0;34m\u001b[0m\u001b[0m\n\u001b[0m",
      "\u001b[0;31mTypeError\u001b[0m: 'bins' is an invalid keyword argument for this function"
     ]
    }
   ],
   "source": [
    "flat = sim_mat.flatten()"
   ]
  },
  {
   "cell_type": "code",
   "execution_count": 31,
   "metadata": {},
   "outputs": [
    {
     "data": {
      "text/plain": [
       "(array([  2.00000000e+00,   4.00000000e+00,   2.00000000e+00,\n",
       "          1.00000000e+01,   6.00000000e+00,   1.60000000e+01,\n",
       "          3.80000000e+01,   2.80000000e+01,   6.40000000e+01,\n",
       "          1.90000000e+02,   1.74000000e+02,   4.00000000e+02,\n",
       "          3.96000000e+02,   8.90000000e+02,   9.86000000e+02,\n",
       "          1.76600000e+03,   2.42000000e+03,   3.47800000e+03,\n",
       "          4.76200000e+03,   6.49000000e+03,   8.12800000e+03,\n",
       "          1.00980000e+04,   1.18280000e+04,   1.39020000e+04,\n",
       "          1.61940000e+04,   2.04100000e+04,   2.43340000e+04,\n",
       "          3.49140000e+04,   4.33500000e+04,   6.35380000e+04,\n",
       "          8.20840000e+04,   9.03720000e+04,   1.21996000e+05,\n",
       "          1.36796000e+05,   1.50592000e+05,   1.51910000e+05,\n",
       "          1.28328000e+05,   1.40234000e+05,   1.27008000e+05,\n",
       "          1.18652000e+05,   1.13962000e+05,   1.05826000e+05,\n",
       "          1.23458000e+05,   1.44016000e+05,   1.72244000e+05,\n",
       "          2.19188000e+05,   2.64060000e+05,   3.49510000e+05,\n",
       "          4.33356000e+05,   5.07644000e+05,   5.59114000e+05,\n",
       "          6.02336000e+05,   6.89812000e+05,   7.31326000e+05,\n",
       "          7.69426000e+05,   6.95234000e+05,   7.77376000e+05,\n",
       "          7.47936000e+05,   7.35538000e+05,   7.45808000e+05,\n",
       "          7.13226000e+05,   6.45266000e+05,   7.10862000e+05,\n",
       "          7.11912000e+05,   7.08446000e+05,   7.08886000e+05,\n",
       "          6.24406000e+05,   7.25512000e+05,   6.79848000e+05,\n",
       "          6.01316000e+05,   5.27944000e+05,   4.43828000e+05,\n",
       "          3.37266000e+05,   3.40532000e+05,   3.04186000e+05,\n",
       "          2.74226000e+05,   2.75818000e+05,   2.27108000e+05,\n",
       "          2.45112000e+05,   2.04064000e+05,   1.58184000e+05,\n",
       "          1.14850000e+05,   7.61700000e+04,   3.89820000e+04,\n",
       "          2.88660000e+04,   1.67340000e+04,   1.06180000e+04,\n",
       "          5.78000000e+03,   2.50600000e+03,   2.84400000e+03,\n",
       "          2.19200000e+03,   1.67000000e+03,   2.31200000e+03,\n",
       "          1.01200000e+03,   1.87200000e+03,   1.50600000e+03,\n",
       "          1.46400000e+03,   1.40400000e+03,   3.18800000e+03,\n",
       "          3.44430000e+04]),\n",
       " array([ 0.41873278,  0.42454545,  0.43035813,  0.4361708 ,  0.44198347,\n",
       "         0.44779614,  0.45360882,  0.45942149,  0.46523416,  0.47104683,\n",
       "         0.4768595 ,  0.48267218,  0.48848485,  0.49429752,  0.50011019,\n",
       "         0.50592287,  0.51173554,  0.51754821,  0.52336088,  0.52917355,\n",
       "         0.53498623,  0.5407989 ,  0.54661157,  0.55242424,  0.55823691,\n",
       "         0.56404959,  0.56986226,  0.57567493,  0.5814876 ,  0.58730028,\n",
       "         0.59311295,  0.59892562,  0.60473829,  0.61055096,  0.61636364,\n",
       "         0.62217631,  0.62798898,  0.63380165,  0.63961433,  0.645427  ,\n",
       "         0.65123967,  0.65705234,  0.66286501,  0.66867769,  0.67449036,\n",
       "         0.68030303,  0.6861157 ,  0.69192837,  0.69774105,  0.70355372,\n",
       "         0.70936639,  0.71517906,  0.72099174,  0.72680441,  0.73261708,\n",
       "         0.73842975,  0.74424242,  0.7500551 ,  0.75586777,  0.76168044,\n",
       "         0.76749311,  0.77330579,  0.77911846,  0.78493113,  0.7907438 ,\n",
       "         0.79655647,  0.80236915,  0.80818182,  0.81399449,  0.81980716,\n",
       "         0.82561983,  0.83143251,  0.83724518,  0.84305785,  0.84887052,\n",
       "         0.8546832 ,  0.86049587,  0.86630854,  0.87212121,  0.87793388,\n",
       "         0.88374656,  0.88955923,  0.8953719 ,  0.90118457,  0.90699725,\n",
       "         0.91280992,  0.91862259,  0.92443526,  0.93024793,  0.93606061,\n",
       "         0.94187328,  0.94768595,  0.95349862,  0.95931129,  0.96512397,\n",
       "         0.97093664,  0.97674931,  0.98256198,  0.98837466,  0.99418733,  1.        ]),\n",
       " <a list of 100 Patch objects>)"
      ]
     },
     "execution_count": 31,
     "metadata": {},
     "output_type": "execute_result"
    },
    {
     "data": {
      "image/png": "[encoded data removed]",
      "text/plain": [
       "<matplotlib.figure.Figure at 0x7f0e3dac3450>"
      ]
     },
     "metadata": {},
     "output_type": "display_data"
    }
   ],
   "source": [
    "plt.hist(flat, bins=100)"
   ]
  },
  {
   "cell_type": "code",
   "execution_count": 32,
   "metadata": {},
   "outputs": [
    {
     "data": {
      "text/plain": [
       "(array([  2.00000000e+00,   1.00000000e+00,   2.00000000e+00,\n",
       "          2.00000000e+00,   4.00000000e+00,   1.30000000e+01,\n",
       "          4.60000000e+01,   4.60000000e+01,   8.20000000e+01,\n",
       "          7.10000000e+01,   1.74000000e+02,   1.92000000e+02,\n",
       "          2.27000000e+02,   3.26000000e+02,   3.87000000e+02,\n",
       "          7.17000000e+02,   9.58000000e+02,   9.11000000e+02,\n",
       "          1.21900000e+03,   1.73300000e+03,   1.95800000e+03,\n",
       "          2.16000000e+03,   2.71100000e+03,   3.66700000e+03,\n",
       "          3.93000000e+03,   5.77300000e+03,   8.24000000e+03,\n",
       "          1.01220000e+04,   1.31740000e+04,   1.75920000e+04,\n",
       "          1.64820000e+04,   2.22680000e+04,   2.16190000e+04,\n",
       "          1.86410000e+04,   1.96700000e+04,   1.79700000e+04,\n",
       "          1.52600000e+04,   1.62720000e+04,   1.61420000e+04,\n",
       "          1.61170000e+04,   1.82970000e+04,   2.33600000e+04,\n",
       "          2.77250000e+04,   3.68510000e+04,   4.64500000e+04,\n",
       "          5.75290000e+04,   7.48040000e+04,   8.87160000e+04,\n",
       "          9.35630000e+04,   1.16745000e+05,   1.31733000e+05,\n",
       "          1.24042000e+05,   1.44949000e+05,   1.48201000e+05,\n",
       "          1.28595000e+05,   1.38649000e+05,   1.30729000e+05,\n",
       "          1.16914000e+05,   1.31467000e+05,   1.31644000e+05,\n",
       "          1.32381000e+05,   1.15291000e+05,   1.20733000e+05,\n",
       "          1.21120000e+05,   1.06469000e+05,   1.33556000e+05,\n",
       "          1.41458000e+05,   1.17979000e+05,   1.26296000e+05,\n",
       "          1.15922000e+05,   8.66250000e+04,   8.59180000e+04,\n",
       "          7.45650000e+04,   6.58760000e+04,   5.78150000e+04,\n",
       "          7.12850000e+04,   7.78560000e+04,   6.86830000e+04,\n",
       "          7.05100000e+04,   6.20590000e+04,   4.15560000e+04,\n",
       "          3.58170000e+04,   2.38560000e+04,   1.18900000e+04,\n",
       "          7.53800000e+03,   5.93400000e+03,   2.41000000e+03,\n",
       "          9.60000000e+02,   6.07000000e+02,   4.87000000e+02,\n",
       "          3.98000000e+02,   1.69000000e+02,   2.76000000e+02,\n",
       "          1.14000000e+02,   7.61000000e+02,   1.59000000e+02,\n",
       "          1.58000000e+02,   1.38000000e+02,   4.36000000e+02,\n",
       "          9.33600000e+03]),\n",
       " array([ 0.43801653,  0.44363636,  0.4492562 ,  0.45487603,  0.46049587,\n",
       "         0.4661157 ,  0.47173554,  0.47735537,  0.48297521,  0.48859504,\n",
       "         0.49421488,  0.49983471,  0.50545455,  0.51107438,  0.51669421,\n",
       "         0.52231405,  0.52793388,  0.53355372,  0.53917355,  0.54479339,\n",
       "         0.55041322,  0.55603306,  0.56165289,  0.56727273,  0.57289256,\n",
       "         0.5785124 ,  0.58413223,  0.58975207,  0.5953719 ,  0.60099174,\n",
       "         0.60661157,  0.6122314 ,  0.61785124,  0.62347107,  0.62909091,\n",
       "         0.63471074,  0.64033058,  0.64595041,  0.65157025,  0.65719008,\n",
       "         0.66280992,  0.66842975,  0.67404959,  0.67966942,  0.68528926,\n",
       "         0.69090909,  0.69652893,  0.70214876,  0.7077686 ,  0.71338843,\n",
       "         0.71900826,  0.7246281 ,  0.73024793,  0.73586777,  0.7414876 ,\n",
       "         0.74710744,  0.75272727,  0.75834711,  0.76396694,  0.76958678,\n",
       "         0.77520661,  0.78082645,  0.78644628,  0.79206612,  0.79768595,\n",
       "         0.80330579,  0.80892562,  0.81454545,  0.82016529,  0.82578512,\n",
       "         0.83140496,  0.83702479,  0.84264463,  0.84826446,  0.8538843 ,\n",
       "         0.85950413,  0.86512397,  0.8707438 ,  0.87636364,  0.88198347,\n",
       "         0.88760331,  0.89322314,  0.89884298,  0.90446281,  0.91008264,\n",
       "         0.91570248,  0.92132231,  0.92694215,  0.93256198,  0.93818182,\n",
       "         0.94380165,  0.94942149,  0.95504132,  0.96066116,  0.96628099,\n",
       "         0.97190083,  0.97752066,  0.9831405 ,  0.98876033,  0.99438017,  1.        ]),\n",
       " <a list of 100 Patch objects>)"
      ]
     },
     "execution_count": 32,
     "metadata": {},
     "output_type": "execute_result"
    },
    {
     "data": {
      "image/png": "[encoded data removed]",
      "text/plain": [
       "<matplotlib.figure.Figure at 0x7f0e3d9f8510>"
      ]
     },
     "metadata": {},
     "output_type": "display_data"
    }
   ],
   "source": [
    "plt.hist(sim_mat[cls_valid == 'Indigenous'].flatten(), color=(0,1,0,1), bins=100)\n",
    "plt.hist(sim_mat[cls_valid == 'Invasive'].flatten(), color=(0,0,1,.2), bins=100)\n",
    "plt.hist(sim_mat[cls_valid == 'Introduced'].flatten(), color=(1,0,0,.2), bins=100)"
   ]
  },
  {
   "cell_type": "code",
   "execution_count": 33,
   "metadata": {},
   "outputs": [
    {
     "data": {
      "text/plain": [
       "701"
      ]
     },
     "execution_count": 33,
     "metadata": {},
     "output_type": "execute_result"
    }
   ],
   "source": [
    "len(seq[124])"
   ]
  },
  {
   "cell_type": "code",
   "execution_count": 35,
   "metadata": {},
   "outputs": [
    {
     "data": {
      "text/plain": [
       "(array([  2.00000000e+00,   1.00000000e+00,   2.00000000e+00,\n",
       "          2.00000000e+00,   4.00000000e+00,   1.30000000e+01,\n",
       "          4.60000000e+01,   4.60000000e+01,   8.20000000e+01,\n",
       "          7.10000000e+01,   1.74000000e+02,   1.92000000e+02,\n",
       "          2.27000000e+02,   3.26000000e+02,   3.87000000e+02,\n",
       "          7.17000000e+02,   9.58000000e+02,   9.11000000e+02,\n",
       "          1.21900000e+03,   1.73300000e+03,   1.95800000e+03,\n",
       "          2.16000000e+03,   2.71100000e+03,   3.66700000e+03,\n",
       "          3.93000000e+03,   5.77300000e+03,   8.24000000e+03,\n",
       "          1.01220000e+04,   1.31740000e+04,   1.75920000e+04,\n",
       "          1.64820000e+04,   2.22680000e+04,   2.16190000e+04,\n",
       "          1.86410000e+04,   1.96700000e+04,   1.79700000e+04,\n",
       "          1.52600000e+04,   1.62720000e+04,   1.61420000e+04,\n",
       "          1.61170000e+04,   1.82970000e+04,   2.33600000e+04,\n",
       "          2.77250000e+04,   3.68510000e+04,   4.64500000e+04,\n",
       "          5.75290000e+04,   7.48040000e+04,   8.87160000e+04,\n",
       "          9.35630000e+04,   1.16745000e+05,   1.31733000e+05,\n",
       "          1.24042000e+05,   1.44949000e+05,   1.48201000e+05,\n",
       "          1.28595000e+05,   1.38649000e+05,   1.30729000e+05,\n",
       "          1.16914000e+05,   1.31467000e+05,   1.31644000e+05,\n",
       "          1.32381000e+05,   1.15291000e+05,   1.20733000e+05,\n",
       "          1.21120000e+05,   1.06469000e+05,   1.33556000e+05,\n",
       "          1.41458000e+05,   1.17979000e+05,   1.26296000e+05,\n",
       "          1.15922000e+05,   8.66250000e+04,   8.59180000e+04,\n",
       "          7.45650000e+04,   6.58760000e+04,   5.78150000e+04,\n",
       "          7.12850000e+04,   7.78560000e+04,   6.86830000e+04,\n",
       "          7.05100000e+04,   6.20590000e+04,   4.15560000e+04,\n",
       "          3.58170000e+04,   2.38560000e+04,   1.18900000e+04,\n",
       "          7.53800000e+03,   5.93400000e+03,   2.41000000e+03,\n",
       "          9.60000000e+02,   6.07000000e+02,   4.87000000e+02,\n",
       "          3.98000000e+02,   1.69000000e+02,   2.76000000e+02,\n",
       "          1.14000000e+02,   7.61000000e+02,   1.59000000e+02,\n",
       "          1.58000000e+02,   1.38000000e+02,   4.36000000e+02,\n",
       "          9.33600000e+03]),\n",
       " array([ 0.43801653,  0.44363636,  0.4492562 ,  0.45487603,  0.46049587,\n",
       "         0.4661157 ,  0.47173554,  0.47735537,  0.48297521,  0.48859504,\n",
       "         0.49421488,  0.49983471,  0.50545455,  0.51107438,  0.51669421,\n",
       "         0.52231405,  0.52793388,  0.53355372,  0.53917355,  0.54479339,\n",
       "         0.55041322,  0.55603306,  0.56165289,  0.56727273,  0.57289256,\n",
       "         0.5785124 ,  0.58413223,  0.58975207,  0.5953719 ,  0.60099174,\n",
       "         0.60661157,  0.6122314 ,  0.61785124,  0.62347107,  0.62909091,\n",
       "         0.63471074,  0.64033058,  0.64595041,  0.65157025,  0.65719008,\n",
       "         0.66280992,  0.66842975,  0.67404959,  0.67966942,  0.68528926,\n",
       "         0.69090909,  0.69652893,  0.70214876,  0.7077686 ,  0.71338843,\n",
       "         0.71900826,  0.7246281 ,  0.73024793,  0.73586777,  0.7414876 ,\n",
       "         0.74710744,  0.75272727,  0.75834711,  0.76396694,  0.76958678,\n",
       "         0.77520661,  0.78082645,  0.78644628,  0.79206612,  0.79768595,\n",
       "         0.80330579,  0.80892562,  0.81454545,  0.82016529,  0.82578512,\n",
       "         0.83140496,  0.83702479,  0.84264463,  0.84826446,  0.8538843 ,\n",
       "         0.85950413,  0.86512397,  0.8707438 ,  0.87636364,  0.88198347,\n",
       "         0.88760331,  0.89322314,  0.89884298,  0.90446281,  0.91008264,\n",
       "         0.91570248,  0.92132231,  0.92694215,  0.93256198,  0.93818182,\n",
       "         0.94380165,  0.94942149,  0.95504132,  0.96066116,  0.96628099,\n",
       "         0.97190083,  0.97752066,  0.9831405 ,  0.98876033,  0.99438017,  1.        ]),\n",
       " <a list of 100 Patch objects>)"
      ]
     },
     "execution_count": 35,
     "metadata": {},
     "output_type": "execute_result"
    },
    {
     "data": {
      "image/png": "[encoded data removed]",
      "text/plain": [
       "<matplotlib.figure.Figure at 0x7f0e3d7f0310>"
      ]
     },
     "metadata": {},
     "output_type": "display_data"
    }
   ],
   "source": [
    "plt.hist(sim_mat[cls_valid == 'Introduced'].flatten(), bins=100)"
   ]
  },
  {
   "cell_type": "markdown",
   "metadata": {},
   "source": [
    "## Future\n",
    "\n",
    "We are losing infomation about the actual DNA sequences if we just use the similiarity matrix, so we can try a different method based on reading the ATCG bases in the future (RNNs?)"
   ]
  },
  {
   "cell_type": "markdown",
   "metadata": {},
   "source": [
    "Also, we're combining the train and test data in creating a global similarity matrix. Instead, we can use just the training data and the unlabeled data, and save all the testing data for later."
   ]
  },
  {
   "cell_type": "code",
   "execution_count": null,
   "metadata": {},
   "outputs": [],
   "source": []
  }
 ],
 "metadata": {
  "anaconda-cloud": {},
  "kernelspec": {
   "display_name": "Python 2",
   "language": "python",
   "name": "python2"
  },
  "language_info": {
   "codemirror_mode": {
    "name": "ipython",
    "version": 2
   },
   "file_extension": ".py",
   "mimetype": "text/x-python",
   "name": "python",
   "nbconvert_exporter": "python",
   "pygments_lexer": "ipython2",
   "version": "2.7.12"
  }
 },
 "nbformat": 4,
 "nbformat_minor": 2
}