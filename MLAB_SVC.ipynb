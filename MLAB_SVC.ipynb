{
 "cells": [
  {
   "cell_type": "code",
   "execution_count": 5,
   "metadata": {},
   "outputs": [],
   "source": [
    "%matplotlib inline\n",
    "import numpy as np\n",
    "import pandas as pd\n",
    "import matplotlib.pyplot as plt\n",
    "import sklearn as sk\n",
    "from sklearn.cross_validation import train_test_split\n",
    "\n",
    "from tqdm import trange"
   ]
  },
  {
   "cell_type": "code",
   "execution_count": 3,
   "metadata": {},
   "outputs": [],
   "source": [
    "# Read in data\n",
    "df = pd.read_excel('BioCode for Machine Learning.xlsx')"
   ]
  },
  {
   "cell_type": "code",
   "execution_count": 33,
   "metadata": {},
   "outputs": [],
   "source": [
    "# Make array of arrays: zeorth axis: species, first axis: bases in sequence\n",
    "sequences = df['Aligned Sequence']\n",
    "sequences = np.array(sequences.fillna('None'))\n",
    "seq_arr = [np.array([i for i in s]) for s in seq]"
   ]
  },
  {
   "cell_type": "code",
   "execution_count": 39,
   "metadata": {},
   "outputs": [],
   "source": [
    "def calc_sim_mat(seq_array):\n",
    "    \n",
    "    num_species = len(seq_array)\n",
    "    sim_mat = -np.ones((num_species, num_species))\n",
    "    \n",
    "    %%time\n",
    "    for i in trange(num_species):\n",
    "        if seq[i] != 'None':\n",
    "            a = seq_array[i]\n",
    "            for j in range(i):\n",
    "                if seq[j] != 'None':\n",
    "                    b = seq_array[j]\n",
    "                    match = (a==b)\n",
    "                    valid = ((a != '-') * (b != '-')) == 1\n",
    "                    sim_mat[i,j] = np.mean(match[valid])\n",
    "                    sim_mat[j,i] = sim_mat[i,j]\n",
    "            sim_mat[i,i] = 1\n",
    "    return sim_mat"
   ]
  },
  {
   "cell_type": "code",
   "execution_count": 43,
   "metadata": {},
   "outputs": [
    {
     "data": {
      "text/plain": [
       "4877"
      ]
     },
     "execution_count": 43,
     "metadata": {},
     "output_type": "execute_result"
    }
   ],
   "source": [
    "len(seq_arr)"
   ]
  },
  {
   "cell_type": "code",
   "execution_count": null,
   "metadata": {},
   "outputs": [],
   "source": []
  }
 ],
 "metadata": {
  "kernelspec": {
   "display_name": "Python 2",
   "language": "python",
   "name": "python2"
  },
  "language_info": {
   "codemirror_mode": {
    "name": "ipython",
    "version": 2
   },
   "file_extension": ".py",
   "mimetype": "text/x-python",
   "name": "python",
   "nbconvert_exporter": "python",
   "pygments_lexer": "ipython2",
   "version": "2.7.12"
  }
 },
 "nbformat": 4,
 "nbformat_minor": 2
}
