{
 "cells": [
  {
   "cell_type": "code",
   "execution_count": 1,
   "metadata": {},
   "outputs": [
    {
     "name": "stderr",
     "output_type": "stream",
     "text": [
      "C:\\Users\\danny\\Anaconda3\\lib\\site-packages\\sklearn\\cross_validation.py:41: DeprecationWarning: This module was deprecated in version 0.18 in favor of the model_selection module into which all the refactored classes and functions are moved. Also note that the interface of the new CV iterators are different from that of this module. This module will be removed in 0.20.\n",
      "  \"This module will be removed in 0.20.\", DeprecationWarning)\n"
     ]
    }
   ],
   "source": [
    "%matplotlib inline\n",
    "import numpy as np\n",
    "import pandas as pd\n",
    "import matplotlib.pyplot as plt\n",
    "import scipy\n",
    "import sklearn as sk\n",
    "from __future__ import division\n",
    "from sklearn.cross_validation import train_test_split"
   ]
  },
  {
   "cell_type": "code",
   "execution_count": 2,
   "metadata": {
    "collapsed": true
   },
   "outputs": [],
   "source": [
    "df = pd.read_excel('./BioCode for Machine Learning.xlsx')"
   ]
  },
  {
   "cell_type": "code",
   "execution_count": 3,
   "metadata": {
    "collapsed": true
   },
   "outputs": [],
   "source": [
    "#Average similarity. One of the features used in Jeremy's original classifier\n",
    "# avsim = df['avg_Similarity']\n",
    "#Classifications of species\n",
    "cls = df['Classification']\n",
    "#branch distance; also used by jeremy, apparently one of the better predictors\n",
    "bdist = df['Distance_of_Branch']"
   ]
  },
  {
   "cell_type": "code",
   "execution_count": 153,
   "metadata": {},
   "outputs": [
    {
     "data": {
      "text/plain": [
       "array([1, 1, 1, ..., 1, 0, 0])"
      ]
     },
     "execution_count": 153,
     "metadata": {},
     "output_type": "execute_result"
    }
   ],
   "source": [
    "avsim = np.array(avsim)\n",
    "cls = np.array(cls)\n",
    "bdist = np.array(bdist)\n",
    "\n",
    "X = np.vstack((cls, avsim, bdist))\n",
    "X = pd.DataFrame(X.T)\n",
    "\n",
    "X = X[X[1] != 0] \n",
    "X = X.dropna()\n",
    "\n",
    "# X = X[X[1] == 'Indigenous']\n",
    "\n",
    "X = X[X[0] != 0]\n",
    "# X = X[X[2] != 0]\n",
    "\n",
    "X = np.array(X).T\n",
    "\n",
    "y = X[0]\n",
    "\n",
    "y_binary = (y == \"Indigenous\")*1\n",
    "\n",
    "y_binary"
   ]
  },
  {
   "cell_type": "code",
   "execution_count": 154,
   "metadata": {},
   "outputs": [
    {
     "data": {
      "text/plain": [
       "(799, 800)"
      ]
     },
     "execution_count": 154,
     "metadata": {},
     "output_type": "execute_result"
    }
   ],
   "source": [
    "avs_train, avs_test, cls_train, cls_test, bdist_train, bdist_test = train_test_split(X[1], y_binary, X[2], test_size=0.5)\n",
    "\n",
    "avs_train.size, avs_test.size"
   ]
  },
  {
   "cell_type": "code",
   "execution_count": 155,
   "metadata": {},
   "outputs": [],
   "source": [
    "# split_at = int(len(y)*0.5)\n",
    "\n",
    "# print(split_at)\n",
    "\n",
    "# avs_train, avs_test = X[1][:split_at], X[1][split_at:]\n",
    "\n",
    "# cls_train, cls_test = y_binary[:split_at], y_binary[split_at:]\n",
    "\n",
    "# bdist_train, bdist_test = X[2][:split_at], X[2][split_at:]\n",
    "\n",
    "# print(bdist_train.shape, bdist_test.shape)"
   ]
  },
  {
   "cell_type": "code",
   "execution_count": 156,
   "metadata": {
    "collapsed": true
   },
   "outputs": [],
   "source": [
    "# from sklearn.linear_model import LogisticRegression,ElasticNet,Lasso,LinearRegression\n",
    "# from sklearn.metrics import zero_one_loss, mean_squared_error, mean_squared_log_error"
   ]
  },
  {
   "cell_type": "code",
   "execution_count": 157,
   "metadata": {
    "collapsed": true
   },
   "outputs": [],
   "source": [
    "# clf = LinearRegression()"
   ]
  },
  {
   "cell_type": "code",
   "execution_count": 158,
   "metadata": {},
   "outputs": [
    {
     "name": "stdout",
     "output_type": "stream",
     "text": [
      "(799, 2) (799,)\n"
     ]
    }
   ],
   "source": [
    "X = np.vstack((avs_train, bdist_train)).T\n",
    "y = cls_train\n",
    "X_test = np.vstack((avs_test, bdist_test)).T\n",
    "\n",
    "print(X.shape, y.shape)"
   ]
  },
  {
   "cell_type": "code",
   "execution_count": 159,
   "metadata": {},
   "outputs": [],
   "source": [
    "# cls_train.sum()/cls_train.size, cls_test.sum()/cls_test.size"
   ]
  },
  {
   "cell_type": "code",
   "execution_count": 160,
   "metadata": {},
   "outputs": [
    {
     "name": "stdout",
     "output_type": "stream",
     "text": [
      "[ 0.00277005 -1.67241665]\n",
      "[ True  True  True  True  True  True  True False  True  True  True  True\n",
      "  True  True  True  True  True False  True  True  True  True  True False\n",
      "  True  True  True  True  True  True  True  True  True  True  True  True\n",
      "  True  True  True  True  True  True  True  True  True  True  True  True\n",
      " False  True  True  True  True  True  True  True  True  True  True  True\n",
      "  True  True  True  True  True  True False  True  True  True  True  True\n",
      "  True  True  True  True  True  True False  True  True False  True  True\n",
      "  True  True False  True  True  True  True  True  True  True  True  True\n",
      "  True False False False  True  True  True  True  True  True  True  True\n",
      " False  True  True  True  True  True  True  True  True False False False\n",
      "  True False  True False  True  True False  True  True  True  True  True\n",
      "  True  True  True  True  True  True  True  True  True  True False False\n",
      "  True  True  True  True  True  True  True  True False False False  True\n",
      "  True  True  True  True  True  True  True  True  True False  True  True\n",
      "  True  True  True False False  True  True  True False  True  True False\n",
      " False  True  True  True  True False  True  True  True  True  True  True\n",
      "  True  True  True False False  True False  True  True  True  True  True\n",
      " False False  True  True  True  True  True  True False  True  True  True\n",
      " False  True  True  True  True  True  True  True  True  True  True  True\n",
      "  True  True  True  True  True False  True  True  True  True  True  True\n",
      " False  True False  True  True  True  True  True  True False  True  True\n",
      "  True  True  True  True  True  True  True False  True  True  True  True\n",
      "  True  True  True False  True  True  True  True  True  True  True  True\n",
      "  True False  True False  True  True  True  True  True  True  True  True\n",
      "  True  True  True False  True  True  True  True False  True  True  True\n",
      "  True  True  True  True  True  True  True False  True  True  True  True\n",
      "  True  True  True False False  True  True  True  True  True False  True\n",
      "  True  True  True False  True  True  True  True  True False  True  True\n",
      "  True False  True  True  True  True  True  True  True  True  True False\n",
      "  True  True  True  True  True  True False  True  True  True  True False\n",
      "  True  True  True  True  True  True  True  True  True  True  True  True\n",
      " False  True False  True  True  True  True False  True  True  True  True\n",
      "  True  True  True False  True  True  True  True  True  True  True  True\n",
      "  True  True False False False  True  True  True  True  True False  True\n",
      "  True  True  True  True  True  True False  True  True  True  True  True\n",
      "  True  True  True False False  True False  True  True  True  True  True\n",
      "  True  True False  True  True  True  True  True  True  True  True False\n",
      "  True False  True  True  True  True  True  True  True False  True  True\n",
      " False  True  True  True  True  True  True  True  True  True False  True\n",
      "  True  True  True  True  True  True False  True  True  True  True False\n",
      "  True  True  True  True  True False  True False  True  True False False\n",
      "  True False  True  True  True  True  True False  True False  True  True\n",
      "  True  True False  True  True  True  True  True  True  True  True  True\n",
      "  True  True  True  True  True  True False  True  True  True  True  True\n",
      "  True False False  True  True  True False  True  True  True  True  True\n",
      "  True  True False  True  True False  True  True False  True  True False\n",
      " False  True  True  True  True  True  True  True  True  True  True  True\n",
      "  True  True  True False  True  True  True  True  True  True  True False\n",
      "  True  True False  True False  True  True  True  True  True False  True\n",
      "  True  True  True  True  True  True  True  True  True  True  True  True\n",
      " False False False  True  True  True  True  True  True  True  True  True\n",
      "  True False  True  True  True  True False  True False  True  True  True\n",
      "  True  True  True False  True False  True  True  True  True  True False\n",
      "  True False  True  True False  True  True  True  True  True  True  True\n",
      " False  True  True  True  True  True  True False  True  True  True False\n",
      "  True  True  True  True  True False  True  True  True  True  True  True\n",
      "  True  True  True  True  True  True  True  True  True  True False  True\n",
      "  True  True  True  True  True  True  True  True  True False  True  True\n",
      "  True  True  True False  True  True  True  True  True  True  True  True\n",
      "  True  True  True  True  True  True  True  True  True  True  True  True\n",
      "  True  True  True  True False  True False  True  True  True  True  True\n",
      "  True  True  True  True  True  True  True False  True  True  True  True\n",
      "  True  True False  True  True  True  True  True False  True False  True\n",
      "  True  True False  True False False  True  True  True  True  True  True\n",
      " False False  True  True  True False  True  True  True False  True  True\n",
      "  True  True False  True  True  True  True  True  True  True  True  True\n",
      "  True  True  True  True  True  True  True  True]\n",
      "0.83625\n"
     ]
    }
   ],
   "source": [
    "coeff = np.linalg.lstsq(X, y)[0]\n",
    "prediction = np.dot(X_test , coeff)\n",
    "\n",
    "print(coeff)\n",
    "# print(prediction)\n",
    "\n",
    "results = (prediction > 0.5)*1\n",
    "\n",
    "err = results == cls_test\n",
    "\n",
    "# print(err)\n",
    "\n",
    "# print(err)\n",
    "\n",
    "# print(cls_test)\n",
    "\n",
    "print(err)\n",
    "\n",
    "print(np.mean(err))"
   ]
  },
  {
   "cell_type": "code",
   "execution_count": null,
   "metadata": {
    "collapsed": true
   },
   "outputs": [],
   "source": []
  }
 ],
 "metadata": {
  "kernelspec": {
   "display_name": "Python 3",
   "language": "python",
   "name": "python3"
  },
  "language_info": {
   "codemirror_mode": {
    "name": "ipython",
    "version": 3
   },
   "file_extension": ".py",
   "mimetype": "text/x-python",
   "name": "python",
   "nbconvert_exporter": "python",
   "pygments_lexer": "ipython3",
   "version": "3.6.1"
  }
 },
 "nbformat": 4,
 "nbformat_minor": 2
}
