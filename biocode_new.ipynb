{
 "cells": [
  {
   "cell_type": "code",
   "execution_count": 1,
   "metadata": {
    "collapsed": false
   },
   "outputs": [
    {
     "name": "stderr",
     "output_type": "stream",
     "text": [
      "/Users/Tracy/anaconda3/lib/python3.5/site-packages/sklearn/cross_validation.py:41: DeprecationWarning: This module was deprecated in version 0.18 in favor of the model_selection module into which all the refactored classes and functions are moved. Also note that the interface of the new CV iterators are different from that of this module. This module will be removed in 0.20.\n",
      "  \"This module will be removed in 0.20.\", DeprecationWarning)\n"
     ]
    }
   ],
   "source": [
    "%matplotlib inline\n",
    "import numpy as np\n",
    "import pandas as pd\n",
    "import matplotlib.pyplot as plt\n",
    "import scipy\n",
    "import sklearn as sk\n",
    "from __future__ import division\n",
    "from sklearn.cross_validation import train_test_split"
   ]
  },
  {
   "cell_type": "code",
   "execution_count": 2,
   "metadata": {
    "collapsed": true
   },
   "outputs": [],
   "source": [
    "df = pd.read_excel('./BioCode for Machine Learning.xlsx')"
   ]
  },
  {
   "cell_type": "code",
   "execution_count": 3,
   "metadata": {
    "collapsed": true
   },
   "outputs": [],
   "source": [
    "#Average similarity. One of the features used in Jeremy's original classifier\n",
    "avsim = df['avg_Similarity']\n",
    "#Classifications of species\n",
    "cls = df['Classification']\n",
    "#branch distance; also used by jeremy, apparently one of the better predictors\n",
    "bdist = df['Distance_of_Branch']"
   ]
  },
  {
   "cell_type": "code",
   "execution_count": 4,
   "metadata": {
    "collapsed": false
   },
   "outputs": [
    {
     "data": {
      "text/plain": [
       "array([1, 1, 1, ..., 1, 0, 0])"
      ]
     },
     "execution_count": 4,
     "metadata": {},
     "output_type": "execute_result"
    }
   ],
   "source": [
    "avsim = np.array(avsim)\n",
    "cls = np.array(cls)\n",
    "bdist = np.array(bdist)\n",
    "\n",
    "X = np.vstack((cls, avsim, bdist))\n",
    "\n",
    "X = pd.DataFrame(X.T)\n",
    "\n",
    "# filter\n",
    "X = X[X[1] != 0]\n",
    "X = X[X[0] != 0]\n",
    "X = X.dropna()\n",
    "\n",
    "X = np.array(X).T\n",
    "\n",
    "y = X[0]\n",
    "\n",
    "#get binary\n",
    "y_binary = (y == 'Indigenous')*1\n",
    "\n",
    "y_binary"
   ]
  },
  {
   "cell_type": "code",
   "execution_count": 5,
   "metadata": {
    "collapsed": false
   },
   "outputs": [],
   "source": [
    "test_train_ratio = 0.9\n",
    "avs_train, avs_test, cls_train, cls_test, bdist_train, bdist_test = \\\n",
    "    train_test_split(X[1], y_binary, X[2], test_size=test_train_ratio)"
   ]
  },
  {
   "cell_type": "code",
   "execution_count": 6,
   "metadata": {
    "collapsed": false
   },
   "outputs": [],
   "source": [
    "from sklearn.linear_model import LogisticRegression,ElasticNet,Lasso,LinearRegression\n",
    "from sklearn.metrics import zero_one_loss, mean_squared_error, mean_squared_log_error"
   ]
  },
  {
   "cell_type": "code",
   "execution_count": null,
   "metadata": {
    "collapsed": true
   },
   "outputs": [],
   "source": []
  }
 ],
 "metadata": {
  "kernelspec": {
   "display_name": "Python [conda root]",
   "language": "python",
   "name": "conda-root-py"
  },
  "language_info": {
   "codemirror_mode": {
    "name": "ipython",
    "version": 3
   },
   "file_extension": ".py",
   "mimetype": "text/x-python",
   "name": "python",
   "nbconvert_exporter": "python",
   "pygments_lexer": "ipython3",
   "version": "3.5.2"
  }
 },
 "nbformat": 4,
 "nbformat_minor": 2
}
