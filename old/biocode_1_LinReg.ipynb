{
 "cells": [
  {
   "cell_type": "code",
   "execution_count": 1,
   "metadata": {
    "collapsed": false
   },
   "outputs": [
    {
     "name": "stderr",
     "output_type": "stream",
     "text": [
      "/home/danny/anaconda3/lib/python3.6/site-packages/sklearn/cross_validation.py:41: DeprecationWarning: This module was deprecated in version 0.18 in favor of the model_selection module into which all the refactored classes and functions are moved. Also note that the interface of the new CV iterators are different from that of this module. This module will be removed in 0.20.\n",
      "  \"This module will be removed in 0.20.\", DeprecationWarning)\n"
     ]
    }
   ],
   "source": [
    "%matplotlib inline\n",
    "import numpy as np\n",
    "import pandas as pd\n",
    "import matplotlib.pyplot as plt\n",
    "import scipy\n",
    "import sklearn as sk\n",
    "from __future__ import division\n",
    "from sklearn.cross_validation import train_test_split"
   ]
  },
  {
   "cell_type": "code",
   "execution_count": 2,
   "metadata": {
    "collapsed": true
   },
   "outputs": [],
   "source": [
    "df = pd.read_excel('./BioCode for Machine Learning.xlsx')"
   ]
  },
  {
   "cell_type": "code",
   "execution_count": 3,
   "metadata": {
    "collapsed": false
   },
   "outputs": [
    {
     "name": "stdout",
     "output_type": "stream",
     "text": [
      "               Name Specimen ID  Extraction ID                 Original ID  \\\n",
      "0     MBIO18045.1.2   MBIO18045  MBIO18045.1.2        Allograpta amphotera   \n",
      "1     MBIO18047.1.4   MBIO18047  MBIO18047.1.4              Oopsis nutator   \n",
      "2     MBIO18048.1.2   MBIO18048  MBIO18048.1.2                     Miridae   \n",
      "3     MBIO18049.1.2   MBIO18049  MBIO18049.1.2                   Gryllidae   \n",
      "4     MBIO18051.1.2   MBIO18051  MBIO18051.1.2                   Crambidae   \n",
      "5     MBIO18052.1.2   MBIO18052  MBIO18052.1.2        Allograpta amphotera   \n",
      "6     MBIO18057.1.2   MBIO18057  MBIO18057.1.2                     Miridae   \n",
      "7     MBIO18058.1.4   MBIO18058  MBIO18058.1.4                  Psocoptera   \n",
      "8     MBIO18059.1.2   MBIO18059  MBIO18059.1.2         Bactrocera perfusca   \n",
      "9     MBIO18060.1.2   MBIO18060  MBIO18060.1.2       Homoneura hawaiiensis   \n",
      "10    MBIO18062.1.2   MBIO18062  MBIO18062.1.2                    Muscidae   \n",
      "11    MBIO18063.1.4   MBIO18063  MBIO18063.1.4                  Termitidae   \n",
      "12    MBIO18063.1.4   MBIO18063  MBIO18063.1.4                  Termitidae   \n",
      "13    MBIO18064.1.2   MBIO18064  MBIO18064.1.2               Drosophilidae   \n",
      "14    MBIO18065.1.4   MBIO18065  MBIO18065.1.4                   Syrphidae   \n",
      "15    MBIO18066.1.2   MBIO18066  MBIO18066.1.2               Stratiomyidae   \n",
      "16    MBIO18067.1.2   MBIO18067  MBIO18067.1.2                  Tachinidae   \n",
      "17    MBIO18068.1.2   MBIO18068  MBIO18068.1.2               Drosophilidae   \n",
      "18    MBIO18069.1.4   MBIO18069  MBIO18069.1.4                   Syrphidae   \n",
      "19    MBIO18069.1.4   MBIO18069  MBIO18069.1.4                   Syrphidae   \n",
      "20    MBIO18070.1.4   MBIO18070  MBIO18070.1.4              Oopsis nutator   \n",
      "21    MBIO18071.1.2   MBIO18071  MBIO18071.1.2  Toxorhynchites brevipalpis   \n",
      "22    MBIO18072.1.2   MBIO18072  MBIO18072.1.2                   Homoneura   \n",
      "23    MBIO18073.1.4   MBIO18073  MBIO18073.1.4                   Ulidiidae   \n",
      "24    MBIO18074.1.2   MBIO18074  MBIO18074.1.2                 Milichiidae   \n",
      "25    MBIO18076.1.4   MBIO18076  MBIO18076.1.4                Gelechioidea   \n",
      "26    MBIO18079.1.4   MBIO18079  MBIO18079.1.4                  Cranopoeus   \n",
      "27    MBIO18080.1.2   MBIO18080  MBIO18080.1.2                     Miridae   \n",
      "28    MBIO18081.1.4   MBIO18081  MBIO18081.1.4                     Miridae   \n",
      "29    MBIO18082.1.4   MBIO18082  MBIO18082.1.4                     Miridae   \n",
      "...             ...         ...            ...                         ...   \n",
      "4847  MBIO53865.1.1   MBIO53865  MBIO53865.1.1                 Lepidoptera   \n",
      "4848  MBIO53866.1.1   MBIO53866  MBIO53866.1.1                 Lepidoptera   \n",
      "4849  MBIO53867.1.1   MBIO53867  MBIO53867.1.1                 Lepidoptera   \n",
      "4850  MBIO53875.1.1   MBIO53875  MBIO53875.1.1                 Lepidoptera   \n",
      "4851  MBIO53876.1.1   MBIO53876  MBIO53876.1.1                 Lepidoptera   \n",
      "4852  MBIO53877.1.1   MBIO53877  MBIO53877.1.1                 Lepidoptera   \n",
      "4853  MBIO53878.1.1   MBIO53878  MBIO53878.1.1                 Lepidoptera   \n",
      "4854  MBIO53879.1.1   MBIO53879  MBIO53879.1.1                 Lepidoptera   \n",
      "4855  MBIO53880.1.1   MBIO53880  MBIO53880.1.1                 Lepidoptera   \n",
      "4856  MBIO53881.1.1   MBIO53881  MBIO53881.1.1                 Lepidoptera   \n",
      "4857  MBIO53882.1.1   MBIO53882  MBIO53882.1.1                 Lepidoptera   \n",
      "4858  MBIO53883.1.1   MBIO53883  MBIO53883.1.1                 Geometridae   \n",
      "4859  MBIO53884.1.1   MBIO53884  MBIO53884.1.1                 Geometridae   \n",
      "4860  MBIO53886.1.1   MBIO53886  MBIO53886.1.1                 Lepidoptera   \n",
      "4861  MBIO53889.1.1   MBIO53889  MBIO53889.1.1   Xylosandrus crassiusculus   \n",
      "4862  MBIO53910.1.1   MBIO53910  MBIO53910.1.1                     Diptera   \n",
      "4863  MBIO53911.1.1   MBIO53911  MBIO53911.1.1                     Diptera   \n",
      "4864  MBIO53914.1.1   MBIO53914  MBIO53914.1.1               Cecidomyiidae   \n",
      "4865  MBIO53916.1.1   MBIO53916  MBIO53916.1.1               Cecidomyiidae   \n",
      "4866  MBIO53919.1.1   MBIO53919  MBIO53919.1.1          Anochetus graeffei   \n",
      "4867  MBIO53920.1.1   MBIO53920  MBIO53920.1.1          Anochetus graeffei   \n",
      "4868  MBIO53925.1.1   MBIO53925  MBIO53925.1.1                  Tachinidae   \n",
      "4869  MBIO53927.1.1   MBIO53927  MBIO53927.1.1                 Delphacidae   \n",
      "4870  MBIO53928.1.1   MBIO53928  MBIO53928.1.1                     Diptera   \n",
      "4871  MBIO53929.1.1   MBIO53929  MBIO53929.1.1                 Coleotichus   \n",
      "4872  MBIO53931.1.1   MBIO53931  MBIO53931.1.1               Entomobryidae   \n",
      "4873  MBIO53996.1.1   MBIO53996  MBIO53996.1.1                   Conoderus   \n",
      "4874  MBIO54007.1.1   MBIO54007  MBIO54007.1.1                Olla vnigrum   \n",
      "4875  MBIO54040.1.1   MBIO54040  MBIO54040.1.1             Musca domestica   \n",
      "4876  MBIO60708.1.2   MBIO60708  MBIO60708.1.2                Chironomidae   \n",
      "\n",
      "               Genus Specific Epithet        Common Name     Identified By  \\\n",
      "0         Allograpta        amphotera          hover fly      Jerome Petit   \n",
      "1             Oopsis          nutator  longhorned beetle      Jerome Petit   \n",
      "2                NaN              NaN          plant bug      Jerome Petit   \n",
      "3                NaN              NaN                NaN      Jerome Petit   \n",
      "4                NaN              NaN               moth      Jerome Petit   \n",
      "5         Allograpta        amphotera          hover fly      Jerome Petit   \n",
      "6                NaN              NaN          plant bug      Jerome Petit   \n",
      "7                NaN              NaN                NaN  Peter T. Oboyski   \n",
      "8         Bactrocera         perfusca   picture-wing fly      Jerome Petit   \n",
      "9          Homoneura      hawaiiensis                fly      Jerome Petit   \n",
      "10               NaN              NaN                fly      Jerome Petit   \n",
      "11               NaN              NaN                NaN      Jerome Petit   \n",
      "12               NaN              NaN                NaN      Jerome Petit   \n",
      "13               NaN              NaN                fly      Jerome Petit   \n",
      "14               NaN              NaN          hover fly      Jerome Petit   \n",
      "15               NaN              NaN                fly      Jerome Petit   \n",
      "16               NaN              NaN                fly      Jerome Petit   \n",
      "17               NaN              NaN                fly      Jerome Petit   \n",
      "18               NaN              NaN          hover fly      Jerome Petit   \n",
      "19               NaN              NaN          hover fly      Jerome Petit   \n",
      "20            Oopsis          nutator  longhorned beetle      Jerome Petit   \n",
      "21    Toxorhynchites      brevipalpis      mosquito, fly      Jerome Petit   \n",
      "22         Homoneura              NaN                fly      Jerome Petit   \n",
      "23               NaN              NaN                fly      Jerome Petit   \n",
      "24               NaN              NaN                fly      Jerome Petit   \n",
      "25               NaN              NaN               moth      Jerome Petit   \n",
      "26        Cranopoeus              NaN     weevil, beetle      Jerome Petit   \n",
      "27               NaN              NaN          plant bug      Jerome Petit   \n",
      "28               NaN              NaN          plant bug      Jerome Petit   \n",
      "29               NaN              NaN          plant bug      Jerome Petit   \n",
      "...              ...              ...                ...               ...   \n",
      "4847             NaN              NaN                NaN               NaN   \n",
      "4848             NaN              NaN                NaN               NaN   \n",
      "4849             NaN              NaN                NaN               NaN   \n",
      "4850             NaN              NaN                NaN               NaN   \n",
      "4851             NaN              NaN                NaN               NaN   \n",
      "4852             NaN              NaN                NaN               NaN   \n",
      "4853             NaN              NaN                NaN               NaN   \n",
      "4854             NaN              NaN                NaN               NaN   \n",
      "4855             NaN              NaN                NaN               NaN   \n",
      "4856             NaN              NaN                NaN               NaN   \n",
      "4857             NaN              NaN                NaN               NaN   \n",
      "4858             NaN              NaN                NaN               NaN   \n",
      "4859             NaN              NaN                NaN               NaN   \n",
      "4860             NaN              NaN                NaN               NaN   \n",
      "4861     Xylosandrus    crassiusculus                NaN               NaN   \n",
      "4862             NaN              NaN                NaN               NaN   \n",
      "4863             NaN              NaN                NaN               NaN   \n",
      "4864             NaN              NaN                NaN               NaN   \n",
      "4865             NaN              NaN                NaN               NaN   \n",
      "4866       Anochetus         graeffei                NaN               NaN   \n",
      "4867       Anochetus         graeffei                NaN               NaN   \n",
      "4868             NaN              NaN                NaN               NaN   \n",
      "4869             NaN              NaN                NaN               NaN   \n",
      "4870             NaN              NaN                NaN               NaN   \n",
      "4871     Coleotichus              NaN                NaN               NaN   \n",
      "4872             NaN              NaN                NaN               NaN   \n",
      "4873       Conoderus              NaN                NaN               NaN   \n",
      "4874            Olla          vnigrum                NaN               NaN   \n",
      "4875           Musca        domestica                NaN               NaN   \n",
      "4876             NaN              NaN                NaN               NaN   \n",
      "\n",
      "      LIMS Sequence ID  Catalog Number        ...         Order_Match  \\\n",
      "0                24355           18045        ...                   ?   \n",
      "1                40349           18047        ...                   ?   \n",
      "2                24363           18048        ...                   1   \n",
      "3                24351           18049        ...                   1   \n",
      "4                24353           18051        ...                   1   \n",
      "5                24368           18052        ...                   ?   \n",
      "6                24357           18057        ...                   0   \n",
      "7                40335           18058        ...                   0   \n",
      "8                24360           18059        ...                   ?   \n",
      "9                24371           18060        ...                   ?   \n",
      "10               24374           18062        ...                   1   \n",
      "11               40344           18063        ...                   1   \n",
      "12               40317           18063        ...                   1   \n",
      "13               24362           18064        ...                   1   \n",
      "14               40333           18065        ...                   1   \n",
      "15               24369           18066        ...                   1   \n",
      "16               24352           18067        ...                   1   \n",
      "17               24372           18068        ...                   1   \n",
      "18               40350           18069        ...                   1   \n",
      "19               40329           18069        ...                   1   \n",
      "20               40356           18070        ...                   ?   \n",
      "21               24361           18071        ...                   ?   \n",
      "22               24358           18072        ...                   ?   \n",
      "23               40314           18073        ...                   1   \n",
      "24               24366           18074        ...                   1   \n",
      "25               40355           18076        ...                   1   \n",
      "26               40322           18079        ...                   ?   \n",
      "27               24370           18080        ...                   1   \n",
      "28               40307           18081        ...                   1   \n",
      "29               40303           18082        ...                   1   \n",
      "...                ...             ...        ...                 ...   \n",
      "4847             29187           53865        ...                   1   \n",
      "4848             29090           53866        ...                   1   \n",
      "4849             30095           53867        ...                   1   \n",
      "4850             29221           53875        ...                   1   \n",
      "4851             31116           53876        ...                   1   \n",
      "4852             30554           53877        ...                   1   \n",
      "4853             30458           53878        ...                   1   \n",
      "4854             29741           53879        ...                   1   \n",
      "4855             29820           53880        ...                   1   \n",
      "4856             31284           53881        ...                   1   \n",
      "4857             30987           53882        ...                   1   \n",
      "4858             31341           53883        ...                   1   \n",
      "4859             30172           53884        ...                   1   \n",
      "4860             30318           53886        ...                   1   \n",
      "4861             29319           53889        ...                   ?   \n",
      "4862             31657           53910        ...                   1   \n",
      "4863             30401           53911        ...                   1   \n",
      "4864             30859           53914        ...                   1   \n",
      "4865             31448           53916        ...                   1   \n",
      "4866             29007           53919        ...                   ?   \n",
      "4867             31467           53920        ...                   ?   \n",
      "4868             29768           53925        ...                   1   \n",
      "4869             29660           53927        ...                   1   \n",
      "4870             30540           53928        ...                   1   \n",
      "4871             29413           53929        ...                   ?   \n",
      "4872             31772           53931        ...                   0   \n",
      "4873             28871           53996        ...                   ?   \n",
      "4874             29254           54007        ...                   ?   \n",
      "4875             28898           54040        ...                   ?   \n",
      "4876             33869           60708        ...                   0   \n",
      "\n",
      "     Family_Match? Genus_Match? Specimen ID or Molecular ID?  \\\n",
      "0                1            0                   Species_ID   \n",
      "1                1            0                   Species_ID   \n",
      "2                1            ?         Molecular_Generic_ID   \n",
      "3                0            ?         Molecular_Species_ID   \n",
      "4                0            ?         Molecular_Generic_ID   \n",
      "5                1            0                   Species_ID   \n",
      "6                0            ?                Contamination   \n",
      "7                0            ?                Contamination   \n",
      "8                1            1                   Species_ID   \n",
      "9                0            0                   Species_ID   \n",
      "10               1            ?         Molecular_Generic_ID   \n",
      "11               0            ?         Molecular_Generic_ID   \n",
      "12               0            ?         Molecular_Generic_ID   \n",
      "13               0            ?         Molecular_Generic_ID   \n",
      "14               0            ?         Molecular_Species_ID   \n",
      "15               1            ?         Molecular_Generic_ID   \n",
      "16               0            ?         Molecular_Species_ID   \n",
      "17               0            ?         Molecular_Generic_ID   \n",
      "18               0            ?         Molecular_Species_ID   \n",
      "19               0            ?         Molecular_Species_ID   \n",
      "20               1            0                   Species_ID   \n",
      "21               1            1                   Species_ID   \n",
      "22               0            0         Molecular_Species_ID   \n",
      "23               0            ?         Molecular_Species_ID   \n",
      "24               1            ?         Molecular_Generic_ID   \n",
      "25               0            ?         Molecular_Generic_ID   \n",
      "26               0            0         Molecular_Generic_ID   \n",
      "27               1            ?         Molecular_Generic_ID   \n",
      "28               0            ?         Molecular_Species_ID   \n",
      "29               0            ?         Molecular_Generic_ID   \n",
      "...            ...          ...                          ...   \n",
      "4847             0            ?         Molecular_Generic_ID   \n",
      "4848             0            ?         Molecular_Generic_ID   \n",
      "4849             0            ?         Molecular_Species_ID   \n",
      "4850             0            ?         Molecular_Species_ID   \n",
      "4851             0            ?         Molecular_Generic_ID   \n",
      "4852             0            ?         Molecular_Generic_ID   \n",
      "4853             0            ?         Molecular_Species_ID   \n",
      "4854             0            ?         Molecular_Generic_ID   \n",
      "4855             0            ?         Molecular_Generic_ID   \n",
      "4856             0            ?         Molecular_Generic_ID   \n",
      "4857             0            ?         Molecular_Generic_ID   \n",
      "4858             1            ?         Molecular_Generic_ID   \n",
      "4859             1            ?         Molecular_Generic_ID   \n",
      "4860             0            ?         Molecular_Generic_ID   \n",
      "4861             1            1                   Species_ID   \n",
      "4862             0            ?         Molecular_Generic_ID   \n",
      "4863             0            ?         Molecular_Species_ID   \n",
      "4864             1            ?         Molecular_Generic_ID   \n",
      "4865             1            ?         Molecular_Generic_ID   \n",
      "4866             1            1                   Species_ID   \n",
      "4867             1            1                   Species_ID   \n",
      "4868             0            ?         Molecular_Generic_ID   \n",
      "4869             1            ?         Molecular_Species_ID   \n",
      "4870             0            ?         Molecular_Species_ID   \n",
      "4871             0            0         Molecular_Generic_ID   \n",
      "4872             0            ?                Contamination   \n",
      "4873             1            0         Molecular_Generic_ID   \n",
      "4874             1            1                   Species_ID   \n",
      "4875             0            1                   Species_ID   \n",
      "4876             0            ?                Contamination   \n",
      "\n",
      "                         Species  \\\n",
      "0           Allograpta_amphotera   \n",
      "1                 Oopsis_nutator   \n",
      "2                    Stenotus_sp   \n",
      "3                            NaN   \n",
      "4                      Labdia_sp   \n",
      "5           Allograpta_amphotera   \n",
      "6                            NaN   \n",
      "7                            NaN   \n",
      "8            Bactrocera_perfusca   \n",
      "9          Homoneura_hawaiiensis   \n",
      "10                 Atherigona_sp   \n",
      "11             Kalotermitidae_sp   \n",
      "12             Kalotermitidae_sp   \n",
      "13                   Sepsidae_sp   \n",
      "14          Chrysomya_rufifacies   \n",
      "15          Cephalochrysa_maxima   \n",
      "16        Synthesiomyia_nudiseta   \n",
      "17                   Sepsidae_sp   \n",
      "18         Chrysomya_megacephala   \n",
      "19         Chrysomya_megacephala   \n",
      "20                Oopsis_nutator   \n",
      "21    Toxorhynchites_brevipalpis   \n",
      "22                 Tachinidae_sp   \n",
      "23          Chrysomya_rufifacies   \n",
      "24                Milichiidae_sp   \n",
      "25       Piletocera_signiferalis   \n",
      "26              Brachyceridae_sp   \n",
      "27                   Stenotus_sp   \n",
      "28             Nysius_caledoniae   \n",
      "29                 Oxycarenus_sp   \n",
      "...                          ...   \n",
      "4847      Hydrillodes_funestalis   \n",
      "4848      Hydrillodes_funestalis   \n",
      "4849      Hydrillodes_funestalis   \n",
      "4850           Tiracola_plagiata   \n",
      "4851           Tiracola_plagiata   \n",
      "4852           Tiracola_plagiata   \n",
      "4853           Bastilla_nielseni   \n",
      "4854                   Casbia_sp   \n",
      "4855                   Cleora_sp   \n",
      "4856                   Cleora_sp   \n",
      "4857                   Cleora_sp   \n",
      "4858              Sphacelodes_sp   \n",
      "4859              Sphacelodes_sp   \n",
      "4860                   Cleora_sp   \n",
      "4861   Xylosandrus_crassiusculus   \n",
      "4862               Rachispoda_sp   \n",
      "4863          Tricharaea_occidua   \n",
      "4864            Cecidomyiidae_sp   \n",
      "4865            Cecidomyiidae_sp   \n",
      "4866          Anochetus_graeffei   \n",
      "4867          Anochetus_graeffei   \n",
      "4868           Dolichopodidae_sp   \n",
      "4869             Sardia_rostrata   \n",
      "4870               Cricotopus_sp   \n",
      "4871        Coleotichus_adamsoni   \n",
      "4872                         NaN   \n",
      "4873               Elateridae_sp   \n",
      "4874                Olla_vnigrum   \n",
      "4875             Musca_domestica   \n",
      "4876                         NaN   \n",
      "\n",
      "                                       Aligned Sequence      Group  \\\n",
      "0     ACTTTATATTTTCTATTTGGAACATGAGCTGGAATAGTAGGAACAT...   Group_88   \n",
      "1     ----------------------------------------------...   Group_62   \n",
      "2     ACTTTATATTTTATTTTTGGAATATGGGCAGGAATATTAGGAACAT...  Group_136   \n",
      "3     ACCCTATATTTCGTACTGGGTGCATGATCTGGAATATTAGGAACAT...        NaN   \n",
      "4     ACATTATATTTTATTTTTGGTATTTGAGCAGGAATAGTTGGTACTT...    Group_1   \n",
      "5     ACTTTATATTTTCTATTTGGAACATGAGCTGGAATAGTAGGAACAT...   Group_88   \n",
      "6                                                   NaN        NaN   \n",
      "7                                                   NaN        NaN   \n",
      "8     ACCCTATATTTTATCTTCGGGGCCTGAGCAGGAATAGTTGGTACAT...   Group_13   \n",
      "9     ACACTTTACTTTTTATTTGGGGCTTGAGCTGGAATAGTAGGAACAT...   Group_35   \n",
      "10    ACTCTTTATTTTATTTTCGGAGCTTGATCTGGAATAGTAGGAACTT...  Group_147   \n",
      "11    ACTTTGTATTTCATCTTTGGCGCTTGATCAGGTATAGTAGGGACAT...    Group_2   \n",
      "12    ACTTTGTATTTCATCTTTGGCGCTTGATCAGGTATAGTAGGGACAT...    Group_2   \n",
      "13    ACTTTATATTTTATCTTCGGAGCATGAGCCGGTATAGTAGGGACAT...   Group_34   \n",
      "14    ----------------------------------------------...  Group_153   \n",
      "15    ACATTATATTTCATTTTTGGGGCATGAGCTGGAATAGTAGGGACAT...   Group_21   \n",
      "16    ACACTATACTTCATTTTTGGAGCATGATCCGGAATAGTAGGAACCT...  Group_136   \n",
      "17    ACTTTATATTTTATCTTCGGAGCATGAGCCGGTATAGTAGGGACAT...   Group_34   \n",
      "18    ACTTTATATTTCATTTTCGGAGCTTGATCCGGAATAGTAGGAACTT...  Group_152   \n",
      "19    ACTTTATATTTCATTTTCGGAGCTTGATCCGGAATAGTAGGAACTT...  Group_152   \n",
      "20    ----------------------------------------------...   Group_62   \n",
      "21    ACATTATATTTCATTTTTGGAGCATGAGCAGGAATAATTGGAACTT...  Group_194   \n",
      "22    ACTCTTTATTTTATTTTCGGAGCTTGATCAGGAATAGTAGGAACAT...  Group_148   \n",
      "23    ----------------------------------------------...  Group_153   \n",
      "24    ACTTTATATTTTATCTTTGGAGCTTGAGCAGGAATAGTGGGAACTT...   Group_75   \n",
      "25    ----------------------------------------------...    Group_2   \n",
      "26    ----------------------------------------------...   Group_83   \n",
      "27    ACTTTATATTTTATTTTTGGAATATGGGCAGGAATATTAGGAACAT...  Group_136   \n",
      "28    ----------------------------------------------...  Group_107   \n",
      "29    ----------------------------------------------...   Group_96   \n",
      "...                                                 ...        ...   \n",
      "4847  --------------------------AGCAGGAATAGTTGGAACTT...  Group_327   \n",
      "4848  ACATTATATTTTATTTTTGGAATTTGAGCAGGAATAGTTGGAACTT...  Group_327   \n",
      "4849  ACATTATATTTTATTTTTGGAATTTGAGCAGGAATAGTTGGAACTT...  Group_327   \n",
      "4850  ---------------------------GCTGGAATAGTAGGAACAT...  Group_191   \n",
      "4851  -------ATTTTATTTTTGGAATTTGAGCTGGAATAGTAGGAACAT...  Group_191   \n",
      "4852  ACATTATATTTTATTTTTGGAATTTGAGCTGGAATAGTAGGAACAT...  Group_191   \n",
      "4853  ACTTTATATTTTATTTTTGGTATTTGAGCAGGTATAGTAGGAACTT...  Group_328   \n",
      "4854  ACTTTATATTTTATTTTTGGAATCTGAGCAGGAATAATTGGAACTT...  Group_292   \n",
      "4855  ACTTTATATTTTATTTTTGGTATTTGAGCAGGAATAATTGGAACTT...  Group_293   \n",
      "4856  ACTTTATATTTTATTTTTGGTATTTGAGCAGGAATAATTGGAACTT...  Group_293   \n",
      "4857  ACTTTATATTTTATTTTTGGTATTTGAGCAGGAATAATTGGAACTT...  Group_293   \n",
      "4858  ACTTTATATTTTATTTTCGGAATTTGAGCAGGAATAATTGGAACTT...   Group_66   \n",
      "4859  ----------------------------------------------...   Group_66   \n",
      "4860  ----------------------------------------------...  Group_292   \n",
      "4861  ACTTTATATTTTATTTTTGGAGCCTGATCAGGAATAGTGGGAACCT...   Group_31   \n",
      "4862  ACCCTTTATTTTATATTTGGAGCTTGAGCTGGAATAGTAGGTACTT...  Group_274   \n",
      "4863  ACTTTATACTTTATTTTTGGAGCTTGATCTGGAATAGTAGGAACTT...  Group_271   \n",
      "4864  ATCTTGTATTTTATTTTTGGAATTTGAGCGGGAATAATTGGAACAT...  Group_175   \n",
      "4865  ACTTTATATTTTTTATTTGGGATATGGGCAGGAATAGTAGGAACTT...  Group_172   \n",
      "4866  ATATTATATTTTATTTTAGCTATTTGATCTGGTATAATTGGATCTT...  Group_157   \n",
      "4867  ATATTATATTTTATTTTAGCTATTTGATCTGGTATAATTGGATCTT...  Group_157   \n",
      "4868  ACTTTATATTTTATTTTTGGAGCTTGAGCAGGAATAGTTGGTACTT...   Group_60   \n",
      "4869  ACCCTATACTTTATTTTGGGGGTCTGATCTGGAATAATTGGCACTA...   Group_32   \n",
      "4870  ACTTTATATTTTATTTTCGGGGCTTGATCTGGAATAGTAGGGACTT...  Group_238   \n",
      "4871  ---------TTTCTATTCGGAATATGAGCAGGAATAGTAGGAACAT...  Group_190   \n",
      "4872                                                NaN        NaN   \n",
      "4873  ----------------------------------------------...  Group_100   \n",
      "4874  ACTTTATATTTTTTATTTGGTATATGAGCAGGCATAGTGGGAACAT...   Group_46   \n",
      "4875  ACTTTATATTTTATCTTTGGAGCATGATCTGGTATAGTAGGAACAT...  Group_295   \n",
      "4876                                                NaN        NaN   \n",
      "\n",
      "     Classification avg_Similarity Distance_of_Branch  \n",
      "0        Indigenous      99.975000             0.0477  \n",
      "1        Indigenous      98.360000             0.0682  \n",
      "2                 0      99.674242             0.0458  \n",
      "3               NaN            NaN                NaN  \n",
      "4                 0       0.000000             0.0354  \n",
      "5        Indigenous      99.975000             0.0477  \n",
      "6               NaN            NaN                NaN  \n",
      "7               NaN            NaN                NaN  \n",
      "8        Indigenous      97.110000             0.0272  \n",
      "9        Indigenous      99.319333             0.0757  \n",
      "10                0      99.966389             0.0281  \n",
      "11                0       0.000000             0.2131  \n",
      "12                0       0.000000             0.2131  \n",
      "13                0      97.570000             0.0779  \n",
      "14         Invasive      99.423333             0.0435  \n",
      "15       Introduced      99.872857             0.0951  \n",
      "16       Introduced      99.630000             0.0578  \n",
      "17                0      97.570000             0.0779  \n",
      "18       Introduced      99.922667             0.0279  \n",
      "19       Introduced      99.922667             0.0279  \n",
      "20       Indigenous      98.360000             0.0682  \n",
      "21       Introduced       0.000000             0.1065  \n",
      "22                0     100.000000             0.0266  \n",
      "23         Invasive      99.423333             0.0435  \n",
      "24                0      97.950000             0.0666  \n",
      "25       Introduced      99.956838             0.0388  \n",
      "26                0      95.010667             0.0531  \n",
      "27                0      99.674242             0.0458  \n",
      "28         Invasive      99.923801             0.0929  \n",
      "29                0      99.550714             0.1058  \n",
      "...             ...            ...                ...  \n",
      "4847     Introduced      99.480000             0.0116  \n",
      "4848     Introduced      99.480000             0.0116  \n",
      "4849     Introduced      99.480000             0.0116  \n",
      "4850     Introduced     100.000000             0.0407  \n",
      "4851     Introduced     100.000000             0.0407  \n",
      "4852     Introduced     100.000000             0.0407  \n",
      "4853     Introduced       0.000000             0.0091  \n",
      "4854              0      99.366667             0.0435  \n",
      "4855              0      99.880000             0.0264  \n",
      "4856              0      99.880000             0.0264  \n",
      "4857              0      99.880000             0.0264  \n",
      "4858              0      99.961381             0.0405  \n",
      "4859              0      99.961381             0.0405  \n",
      "4860              0      99.366667             0.0435  \n",
      "4861       Invasive      99.966786             0.0729  \n",
      "4862              0     100.000000             0.0502  \n",
      "4863     Introduced      99.946545             0.0693  \n",
      "4864              0       0.000000             0.0518  \n",
      "4865              0     100.000000             0.0445  \n",
      "4866     Introduced     100.000000             0.1020  \n",
      "4867     Introduced     100.000000             0.1020  \n",
      "4868              0      99.261754             0.0634  \n",
      "4869     Introduced      99.700000             0.0720  \n",
      "4870              0     100.000000             0.0870  \n",
      "4871     Indigenous     100.000000             0.1019  \n",
      "4872            NaN            NaN                NaN  \n",
      "4873              0      99.813333             0.0841  \n",
      "4874     Introduced      99.925000             0.0948  \n",
      "4875       Invasive      98.130000             0.0309  \n",
      "4876            NaN            NaN                NaN  \n",
      "\n",
      "[4877 rows x 72 columns]\n"
     ]
    }
   ],
   "source": [
    "print(df)"
   ]
  },
  {
   "cell_type": "code",
   "execution_count": 3,
   "metadata": {
    "collapsed": true
   },
   "outputs": [],
   "source": [
    "#Average similarity. One of the features used in Jeremy's original classifier\n",
    "avsim = df['avg_Similarity']\n",
    "#Classifications of species\n",
    "cls = df['Classification']\n",
    "#branch distance; also used by jeremy, apparently one of the better predictors\n",
    "bdist = df['Distance_of_Branch']"
   ]
  },
  {
   "cell_type": "markdown",
   "metadata": {},
   "source": [
    "## Simple Regression (one label at a time)"
   ]
  },
  {
   "cell_type": "code",
   "execution_count": 4,
   "metadata": {
    "collapsed": false
   },
   "outputs": [
    {
     "name": "stdout",
     "output_type": "stream",
     "text": [
      "0.345294238261\n"
     ]
    }
   ],
   "source": [
    "#How many of the classifications are known\n",
    "print((cls.fillna(0) != 0).sum()/cls.size)"
   ]
  },
  {
   "cell_type": "code",
   "execution_count": 5,
   "metadata": {
    "collapsed": true
   },
   "outputs": [],
   "source": [
    "#Samples where there are no NaNs\n",
    "valid_samples = np.array((cls.fillna(0) != 0) * (1 - bdist.isnull()) * (1 - avsim.isnull())).astype(np.bool)"
   ]
  },
  {
   "cell_type": "code",
   "execution_count": 6,
   "metadata": {
    "collapsed": false
   },
   "outputs": [
    {
     "data": {
      "text/plain": [
       "(1684, 4877, 0.34529423826122618)"
      ]
     },
     "execution_count": 6,
     "metadata": {},
     "output_type": "execute_result"
    }
   ],
   "source": [
    "#How many samples are usable\n",
    "valid_samples.sum(), avsim.size, valid_samples.sum()/avsim.size"
   ]
  },
  {
   "cell_type": "code",
   "execution_count": 7,
   "metadata": {
    "collapsed": true
   },
   "outputs": [],
   "source": [
    "# Turning 'Indigenous' to 1, and others to 0\n",
    "cls_binary = (cls == 'Indigenous')*1"
   ]
  },
  {
   "cell_type": "code",
   "execution_count": null,
   "metadata": {
    "collapsed": true
   },
   "outputs": [],
   "source": []
  },
  {
   "cell_type": "code",
   "execution_count": 8,
   "metadata": {
    "collapsed": true
   },
   "outputs": [],
   "source": [
    "#filter\n",
    "avsim_valid, cls_valid, bdist_valid = avsim[valid_samples], cls_binary[valid_samples], bdist[valid_samples]"
   ]
  },
  {
   "cell_type": "code",
   "execution_count": 9,
   "metadata": {
    "collapsed": true
   },
   "outputs": [],
   "source": [
    "#Split into test/train\n",
    "test_train_ratio = 0.9\n",
    "avs_train, avs_test, cls_train, cls_test, bdist_train, bdist_test = train_test_split(avsim_valid, cls_valid, bdist_valid, test_size=test_train_ratio)"
   ]
  },
  {
   "cell_type": "code",
   "execution_count": 10,
   "metadata": {
    "collapsed": false
   },
   "outputs": [
    {
     "data": {
      "text/plain": [
       "(168, 1516)"
      ]
     },
     "execution_count": 10,
     "metadata": {},
     "output_type": "execute_result"
    }
   ],
   "source": [
    "#Just to get an idea of test/train sizes:\n",
    "avs_train.size, avs_test.size"
   ]
  },
  {
   "cell_type": "code",
   "execution_count": 11,
   "metadata": {
    "collapsed": false
   },
   "outputs": [],
   "source": [
    "from sklearn.linear_model import LogisticRegression,ElasticNet,Lasso,LinearRegression\n",
    "from sklearn.metrics import zero_one_loss, mean_squared_error, mean_squared_log_error"
   ]
  },
  {
   "cell_type": "code",
   "execution_count": 12,
   "metadata": {
    "collapsed": true
   },
   "outputs": [],
   "source": [
    "clf = LinearRegression()"
   ]
  },
  {
   "cell_type": "code",
   "execution_count": 13,
   "metadata": {
    "collapsed": true
   },
   "outputs": [],
   "source": [
    "X = np.array([np.array(avs_train), np.array(cls_train)]).T\n",
    "y = cls_train\n",
    "X_test = np.array([np.array(avs_test), np.array(cls_test)]).T"
   ]
  },
  {
   "cell_type": "code",
   "execution_count": 14,
   "metadata": {
    "collapsed": false
   },
   "outputs": [
    {
     "data": {
      "text/plain": [
       "(0.11904761904761904, 0.17150395778364116)"
      ]
     },
     "execution_count": 14,
     "metadata": {},
     "output_type": "execute_result"
    }
   ],
   "source": [
    "# Making sure that class sizes are similar in test/train sets\n",
    "cls_train.sum()/cls_train.size, cls_test.sum()/cls_test.size"
   ]
  },
  {
   "cell_type": "code",
   "execution_count": 15,
   "metadata": {
    "collapsed": false
   },
   "outputs": [
    {
     "name": "stdout",
     "output_type": "stream",
     "text": [
      "Prediciton accuracy: 1.0\n",
      "Weights: [ 0.  1.]\n"
     ]
    }
   ],
   "source": [
    "#LinReg\n",
    "clf.fit(X, y)\n",
    "prediction = (clf.predict(X_test) > 0.5)*1 #Threshold\n",
    "#Prediction accuracy\n",
    "print('Prediciton accuracy:', np.mean((prediction == np.array(cls_test))*1))\n",
    "#Coefficients used by the classifier\n",
    "print(\"Weights:\", clf.coef_)"
   ]
  },
  {
   "cell_type": "code",
   "execution_count": 16,
   "metadata": {
    "collapsed": true
   },
   "outputs": [],
   "source": [
    "#Seems like branch distance is a much better predictor than avg sim. this matches Jeremy's observation"
   ]
  },
  {
   "cell_type": "code",
   "execution_count": 17,
   "metadata": {
    "collapsed": false
   },
   "outputs": [
    {
     "name": "stdout",
     "output_type": "stream",
     "text": [
      "Prediciton accuracy: 1.0\n",
      "Weights: [[-0.02397548  4.60395919]]\n"
     ]
    }
   ],
   "source": [
    "#LogReg\n",
    "clf = LogisticRegression()\n",
    "clf.fit(X, y)\n",
    "prediction = (clf.predict(X_test) > 0.5)*1\n",
    "#Prediction accuracy\n",
    "print('Prediciton accuracy:', np.mean((prediction == np.array(cls_test))*1))\n",
    "#Coefficients used by the classifier\n",
    "print(\"Weights:\", clf.coef_)"
   ]
  },
  {
   "cell_type": "code",
   "execution_count": 18,
   "metadata": {
    "collapsed": true
   },
   "outputs": [],
   "source": [
    "#These predictions look impressive until you realize that it is possible to get 83% By just predicting 0's."
   ]
  },
  {
   "cell_type": "code",
   "execution_count": 19,
   "metadata": {
    "collapsed": false
   },
   "outputs": [
    {
     "name": "stdout",
     "output_type": "stream",
     "text": [
      "Prediciton accuracy: 0.828496042216\n"
     ]
    }
   ],
   "source": [
    "print('Prediciton accuracy:', np.mean((cls_test == 0)))"
   ]
  },
  {
   "cell_type": "code",
   "execution_count": 20,
   "metadata": {
    "collapsed": true
   },
   "outputs": [],
   "source": [
    "#What about other labels?"
   ]
  },
  {
   "cell_type": "code",
   "execution_count": 21,
   "metadata": {
    "collapsed": false
   },
   "outputs": [
    {
     "name": "stdout",
     "output_type": "stream",
     "text": [
      "Prediciton accuracy: 0.828496042216\n",
      "Weights: [ 0.  0.]\n"
     ]
    }
   ],
   "source": [
    "clf = Lasso()\n",
    "clf.fit(X, y)\n",
    "prediction = (clf.predict(X_test) > 0.5)*1\n",
    "#Prediction accuracy\n",
    "print('Prediciton accuracy:', np.mean((prediction == np.array(cls_test))*1))\n",
    "#Coefficients used by the classifier\n",
    "print(\"Weights:\", clf.coef_)"
   ]
  },
  {
   "cell_type": "code",
   "execution_count": 22,
   "metadata": {
    "collapsed": false
   },
   "outputs": [
    {
     "name": "stdout",
     "output_type": "stream",
     "text": [
      "Prediciton accuracy: 0.828496042216\n",
      "Weights: [ 0.  0.]\n"
     ]
    }
   ],
   "source": [
    "clf = ElasticNet()\n",
    "clf.fit(X, y)\n",
    "prediction = (clf.predict(X_test) > 0.5)*1\n",
    "#Prediction accuracy\n",
    "print('Prediciton accuracy:', np.mean((prediction == np.array(cls_test))*1))\n",
    "#Coefficients used by the classifier\n",
    "print(\"Weights:\", clf.coef_)"
   ]
  },
  {
   "cell_type": "code",
   "execution_count": 23,
   "metadata": {
    "collapsed": true
   },
   "outputs": [],
   "source": [
    "#invasive"
   ]
  },
  {
   "cell_type": "code",
   "execution_count": 24,
   "metadata": {
    "collapsed": false
   },
   "outputs": [
    {
     "data": {
      "text/plain": [
       "(0.2976190476190476, 0.2869393139841689)"
      ]
     },
     "execution_count": 24,
     "metadata": {},
     "output_type": "execute_result"
    }
   ],
   "source": [
    "# Turning 'Invasive' to 1, and others to 0\n",
    "cls_binary = (cls == 'Invasive')*1\n",
    "avsim_valid, cls_valid, bdist_valid = avsim[valid_samples], cls_binary[valid_samples], bdist[valid_samples]\n",
    "#Split into test/train\n",
    "test_train_ratio = 0.9\n",
    "avs_train, avs_test, cls_train, cls_test, bdist_train, bdist_test = train_test_split(avsim_valid, cls_valid, bdist_valid, test_size=test_train_ratio)\n",
    "X = np.array([np.array(avs_train), np.array(cls_train)]).T\n",
    "y = cls_train\n",
    "X_test = np.array([np.array(avs_test), np.array(cls_test)]).T\n",
    "cls_train.sum()/cls_train.size, cls_test.sum()/cls_test.size"
   ]
  },
  {
   "cell_type": "code",
   "execution_count": 25,
   "metadata": {
    "collapsed": false,
    "scrolled": true
   },
   "outputs": [
    {
     "name": "stdout",
     "output_type": "stream",
     "text": [
      "Prediction accuracy: 1.0\n",
      "Weights: [  3.02437698e-19   1.00000000e+00]\n"
     ]
    }
   ],
   "source": [
    "#LinReg\n",
    "clf = LinearRegression()\n",
    "clf.fit(X, y)\n",
    "prediction = (clf.predict(X_test) > 0.5)*1 #Threshold\n",
    "#Prediction accuracy\n",
    "print('Prediction accuracy:', np.mean((prediction == np.array(cls_test))*1))\n",
    "#Coefficients used by the classifier\n",
    "print(\"Weights:\", clf.coef_)"
   ]
  },
  {
   "cell_type": "code",
   "execution_count": 26,
   "metadata": {
    "collapsed": false
   },
   "outputs": [
    {
     "name": "stdout",
     "output_type": "stream",
     "text": [
      "Prediction accuracy: 1.0\n",
      "Weights: [[-0.01769685  5.16119962]]\n"
     ]
    }
   ],
   "source": [
    "#LogReg\n",
    "clf = LogisticRegression()\n",
    "clf.fit(X, y)\n",
    "prediction = (clf.predict(X_test) > 0.5)*1\n",
    "#Prediction accuracy\n",
    "print('Prediction accuracy:', np.mean((prediction == np.array(cls_test))*1))\n",
    "#Coefficients used by the classifier\n",
    "print(\"Weights:\", clf.coef_)"
   ]
  },
  {
   "cell_type": "code",
   "execution_count": 27,
   "metadata": {
    "collapsed": false
   },
   "outputs": [
    {
     "name": "stdout",
     "output_type": "stream",
     "text": [
      "Prediction accuracy: 0.713060686016\n"
     ]
    }
   ],
   "source": [
    "print('Prediction accuracy:', np.mean((cls_test == 0)))"
   ]
  },
  {
   "cell_type": "code",
   "execution_count": 28,
   "metadata": {
    "collapsed": true
   },
   "outputs": [],
   "source": [
    "#Introduced"
   ]
  },
  {
   "cell_type": "code",
   "execution_count": 29,
   "metadata": {
    "collapsed": false
   },
   "outputs": [
    {
     "data": {
      "text/plain": [
       "(0.5059523809523809, 0.5501319261213721)"
      ]
     },
     "execution_count": 29,
     "metadata": {},
     "output_type": "execute_result"
    }
   ],
   "source": [
    "# Turning 'Introduced' to 1, and others to 0\n",
    "cls_binary = (cls == 'Introduced')*1\n",
    "avsim_valid, cls_valid, bdist_valid = avsim[valid_samples], cls_binary[valid_samples], bdist[valid_samples]\n",
    "#Split into test/train\n",
    "test_train_ratio = 0.9\n",
    "avs_train, avs_test, cls_train, cls_test, bdist_train, bdist_test = train_test_split(avsim_valid, cls_valid, bdist_valid, test_size=test_train_ratio)\n",
    "X = np.array([np.array(avs_train), np.array(cls_train)]).T\n",
    "y = cls_train\n",
    "X_test = np.array([np.array(avs_test), np.array(cls_test)]).T\n",
    "cls_train.sum()/cls_train.size, cls_test.sum()/cls_test.size"
   ]
  },
  {
   "cell_type": "code",
   "execution_count": null,
   "metadata": {
    "collapsed": true
   },
   "outputs": [],
   "source": []
  },
  {
   "cell_type": "code",
   "execution_count": 30,
   "metadata": {
    "collapsed": false
   },
   "outputs": [
    {
     "name": "stdout",
     "output_type": "stream",
     "text": [
      "Prediciton accuracy: 1.0\n",
      "Weights: [ -9.04064736e-19   1.00000000e+00]\n"
     ]
    }
   ],
   "source": [
    "#LinReg\n",
    "clf = LinearRegression()\n",
    "clf.fit(X, y)\n",
    "prediction = (clf.predict(X_test) > 0.5)*1 #Threshold\n",
    "#Prediction accuracy\n",
    "print('Prediciton accuracy:', np.mean((prediction == np.array(cls_test))*1))\n",
    "#Coefficients used by the classifier\n",
    "print(\"Weights:\", clf.coef_)"
   ]
  },
  {
   "cell_type": "code",
   "execution_count": 31,
   "metadata": {
    "collapsed": false,
    "scrolled": true
   },
   "outputs": [
    {
     "name": "stdout",
     "output_type": "stream",
     "text": [
      "Prediciton accuracy: 1.0\n",
      "Weights: [[-0.0170912   5.26821373]]\n"
     ]
    }
   ],
   "source": [
    "#LogReg\n",
    "clf = LogisticRegression()\n",
    "clf.fit(X, y)\n",
    "prediction = (clf.predict(X_test) > 0.5)*1\n",
    "#Prediction accuracy\n",
    "print('Prediciton accuracy:', np.mean((prediction == np.array(cls_test))*1))\n",
    "#Coefficients used by the classifier\n",
    "print(\"Weights:\", clf.coef_)"
   ]
  },
  {
   "cell_type": "code",
   "execution_count": 32,
   "metadata": {
    "collapsed": false
   },
   "outputs": [
    {
     "name": "stdout",
     "output_type": "stream",
     "text": [
      "Prediciton accuracy: 0.550131926121\n"
     ]
    }
   ],
   "source": [
    "print('Prediciton accuracy:', np.mean((cls_test == 1)))"
   ]
  },
  {
   "cell_type": "markdown",
   "metadata": {},
   "source": [
    "### In principle, one can train simple linear regression on 10% of data and get 100% accuracy. But note that we are only looking at results for ~1000 points. This is probably overfitting and we probably want a more principled approach that is robust to errors in sequencing and matching etc. Since the dataset already has information about those things, we should try to integrate it. Also, branch distance already includes a lot of preprocessing. Can we replicate its effectiveness, but with more robustness?\n",
    "\n",
    "Spoiler: Performance decreases"
   ]
  }
 ],
 "metadata": {
  "kernelspec": {
   "display_name": "Python 3",
   "language": "python",
   "name": "python3"
  },
  "language_info": {
   "codemirror_mode": {
    "name": "ipython",
    "version": 3
   },
   "file_extension": ".py",
   "mimetype": "text/x-python",
   "name": "python",
   "nbconvert_exporter": "python",
   "pygments_lexer": "ipython3",
   "version": "3.6.0"
  }
 },
 "nbformat": 4,
 "nbformat_minor": 2
}
