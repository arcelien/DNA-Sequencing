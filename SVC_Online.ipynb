{
 "cells": [
  {
   "cell_type": "markdown",
   "metadata": {},
   "source": [
    "# Classification of DNA Sequences to identify invasive species with semi-supervised training\n",
    "\n",
    "## Machine Learning at Berkeley Research Project\n",
    "\n",
    "### Background\n",
    "\n",
    "We attempt to solve the classification problem of identifying invasive species given binary labels and a DNA dataset from the island of Morea."
   ]
  },
  {
   "cell_type": "markdown",
   "metadata": {},
   "source": [
    "### Method\n",
    "\n",
    "We use a semi-supervised method to take advantage of unlabeled DNA, which makes up over 80% of the dataset.\n",
    "\n",
    "First, we load the DNA sequences and compute a similarity matrix which is easier for us to work with. We can add unlabeled data when creating this matrix, because it is not dependent on labels.\n",
    "\n",
    "We are losing infomation about the actual DNA sequences if we do this, so we can try a different method based on reading the ATCG bases in the future (RNNs?)\n",
    "\n",
    "Then, we can use a clustering algorithm like SVC to perform classification on the processed matrix. We are doing supervised learning, so we simply discard the unlabeled rows of our data matrix."
   ]
  },
  {
   "cell_type": "markdown",
   "metadata": {},
   "source": [
    "## Data processing "
   ]
  },
  {
   "cell_type": "code",
   "execution_count": 40,
   "metadata": {
    "collapsed": false
   },
   "outputs": [],
   "source": [
    "# import libraries\n",
    "%matplotlib inline\n",
    "import numpy as np\n",
    "import pandas as pd\n",
    "import matplotlib.pyplot as plt\n",
    "import scipy\n",
    "import sklearn as sk\n",
    "from __future__ import division\n",
    "from sklearn.cross_validation import train_test_split\n",
    "import math\n",
    "\n",
    "from tqdm import trange\n",
    "from sklearn.svm import SVC"
   ]
  },
  {
   "cell_type": "markdown",
   "metadata": {},
   "source": [
    "Here, we use pandas to read the excel sheet, and then extract features and convert the data to numpy arrays."
   ]
  },
  {
   "cell_type": "code",
   "execution_count": 41,
   "metadata": {
    "collapsed": true
   },
   "outputs": [],
   "source": [
    "# read the excel sheet \n",
    "df = pd.read_excel('./BioCode for Machine Learning.xlsx')\n",
    "\n",
    "# Read in the labels\n",
    "cls = df['Classification']\n",
    "\n",
    "# Read the DNA sequences, which are strings comprised of the letters ATCG\n",
    "seq = df['Aligned Sequence']"
   ]
  },
  {
   "cell_type": "markdown",
   "metadata": {},
   "source": [
    "The data we're working with are snippets of DNA a few hundred bases long."
   ]
  },
  {
   "cell_type": "code",
   "execution_count": 43,
   "metadata": {
    "collapsed": false
   },
   "outputs": [
    {
     "data": {
      "text/plain": [
       "'ACTTTATATTTTCTATTTGGAACATGAGCTGGAATAGTAGGAACATCTCTAAGA---ATTTTAATTCGTGCAGAACTTGGACATCCA---GGAGCTTTA------ATTGGAGATGATCAAATTTATAATGTAATTGTAACAGCTCATGCTTTTGTAATAATTTTTTTTATAGTAATACCTATTATAATTGGAGGATTTGGAAATTGATTAGTTCCTTTAATACTTGGAGCTCCTGATATAGCTTTTCCTCGAATAAACAATATAAGTTTTTGATTATTACCACCTTCTTTAACTTTATTATTAGTAAGAAGAATAGTTGAAAATGGAGCAGGAACTGGTTGAACAGTTTACCCTCCTCTTTCTGCTAGAATTGCACATGGAGGTGCATCTGTTGATTTAGCTATTTTTTCTCTTCATTTAGCTGGTATATCATCAATTTTAGGAGCAGTAAATTTTATTACTACAGTAATTAATATACGATCAAATGGAATTTCATATGATCGTATACCTTTATTTGTATGATCAGTTGTAATTACAGCTTTATTATTATTATTATCTTTACCTGTATTAGCAGGAGCTATTACTATACTTTTAACAGATCGAAATCTAAATACCTCATTTTTTGATCCTGCTGGAGGAGGAGATCCTATTTTATATCAACATTTATTT--------------------------------'"
      ]
     },
     "execution_count": 43,
     "metadata": {},
     "output_type": "execute_result"
    }
   ],
   "source": [
    "seq[0]"
   ]
  },
  {
   "cell_type": "markdown",
   "metadata": {},
   "source": [
    "We can visualize the labels below. As we can see, the labels are very messy. We can only use the values of `Indigenous`, `Invasive`, or `NaN` for supervised training. However, because most unlabeled data points still have an associated DNA sequence, we can still use them in an unsupervised pre-training stage."
   ]
  },
  {
   "cell_type": "code",
   "execution_count": 44,
   "metadata": {
    "collapsed": false
   },
   "outputs": [
    {
     "name": "stdout",
     "output_type": "stream",
     "text": [
      "0     Indigenous\n",
      "1     Indigenous\n",
      "2              0\n",
      "3            NaN\n",
      "4              0\n",
      "5     Indigenous\n",
      "6            NaN\n",
      "7            NaN\n",
      "8     Indigenous\n",
      "9     Indigenous\n",
      "10             0\n",
      "11             0\n",
      "12             0\n",
      "13             0\n",
      "14      Invasive\n",
      "15    Introduced\n",
      "16    Introduced\n",
      "17             0\n",
      "18    Introduced\n",
      "19    Introduced\n",
      "Name: Classification, dtype: object\n"
     ]
    }
   ],
   "source": [
    "print(cls[:20])"
   ]
  },
  {
   "cell_type": "markdown",
   "metadata": {},
   "source": [
    "However, some species don't even have associated DNA sequences. We have to discard these before we proceed."
   ]
  },
  {
   "cell_type": "code",
   "execution_count": 17,
   "metadata": {
    "collapsed": true
   },
   "outputs": [],
   "source": [
    "# Shuffles the data (to make sure)\n",
    "#cls = cls.sample(frac=1).reset_index(drop=True)"
   ]
  },
  {
   "cell_type": "code",
   "execution_count": 45,
   "metadata": {
    "collapsed": false
   },
   "outputs": [],
   "source": [
    "# Convert DNA data to numpy array, and convert NaNs to Nones\n",
    "\n",
    "seq = np.array(seq.fillna('None'))\n",
    "\n",
    "# Create a binary filter to eliminate invalid DNA sequences\n",
    "valid_idx = np.array([i for i in range(len(seq)) if seq[i] != 'None'])\n",
    "\n",
    "# Apply the filter\n",
    "valid_seq = seq[valid_idx]\n",
    "cls_valid = cls[valid_idx]\n",
    "cls_valid = np.array(cls_valid)"
   ]
  },
  {
   "cell_type": "markdown",
   "metadata": {},
   "source": [
    "Now, we process the DNA sequences by converting the string of bases into an array of characters."
   ]
  },
  {
   "cell_type": "code",
   "execution_count": 46,
   "metadata": {
    "collapsed": false
   },
   "outputs": [
    {
     "data": {
      "text/plain": [
       "'ACTTTATATTTTCTATTTGGAACATGAGCTGGAATAGTAGGAACATCTCTAAGA---ATTTTAATTCGTGCAGAACTTGGACATCCA---GGAGCTTTA------ATTGGAGATGATCAAATTTATAATGTAATTGTAACAGCTCATGCTTTTGTAATAATTTTTTTTATAGTAATACCTATTATAATTGGAGGATTTGGAAATTGATTAGTTCCTTTAATACTTGGAGCTCCTGATATAGCTTTTCCTCGAATAAACAATATAAGTTTTTGATTATTACCACCTTCTTTAACTTTATTATTAGTAAGAAGAATAGTTGAAAATGGAGCAGGAACTGGTTGAACAGTTTACCCTCCTCTTTCTGCTAGAATTGCACATGGAGGTGCATCTGTTGATTTAGCTATTTTTTCTCTTCATTTAGCTGGTATATCATCAATTTTAGGAGCAGTAAATTTTATTACTACAGTAATTAATATACGATCAAATGGAATTTCATATGATCGTATACCTTTATTTGTATGATCAGTTGTAATTACAGCTTTATTATTATTATTATCTTTACCTGTATTAGCAGGAGCTATTACTATACTTTTAACAGATCGAAATCTAAATACCTCATTTTTTGATCCTGCTGGAGGAGGAGATCCTATTTTATATCAACATTTATTT--------------------------------'"
      ]
     },
     "execution_count": 46,
     "metadata": {},
     "output_type": "execute_result"
    }
   ],
   "source": [
    "valid_seq[0]"
   ]
  },
  {
   "cell_type": "code",
   "execution_count": 49,
   "metadata": {
    "collapsed": false,
    "scrolled": true
   },
   "outputs": [
    {
     "name": "stdout",
     "output_type": "stream",
     "text": [
      "4639 4639 4639\n"
     ]
    }
   ],
   "source": [
    "# Seperate string into individual bases. So, each value in the array is a base. Stored in list\n",
    "seq_arr = [np.array([i for i in s]) for s in valid_seq]\n",
    "\n",
    "seq_mtx = len(seq_arr)\n",
    "\n",
    "print(len(valid_seq), len(cls_valid), seq_mtx)"
   ]
  },
  {
   "cell_type": "code",
   "execution_count": 140,
   "metadata": {
    "collapsed": false,
    "scrolled": true
   },
   "outputs": [
    {
     "name": "stdout",
     "output_type": "stream",
     "text": [
      "<class 'list'>\n",
      "<class 'list'>\n",
      "1684\n"
     ]
    }
   ],
   "source": [
    "valid_labels = ['Introduced', 'Invasive', 'Indigenous']\n",
    "cls_labeled = [label in valid_labels for label in cls_valid]\n",
    "#labeled_cls = (valid_labels[labeled_cls] == 'Indigenous').astype(int)\n",
    "\n",
    "# Create a filter telling us which points are valid to use for supervised training\n",
    "cls_labeled = np.array(cls_labeled)\n",
    "#print(len(labeled_cls))\n",
    "supervised_y = cls_valid[cls_labeled]\n",
    "\n",
    "print(type(seq_arr))\n",
    "\n",
    "seq_data = [i for i, validity in zip(seq_arr, cls_labeled) if validity]\n",
    "\n",
    "print(type(seq_data))\n",
    "print(len(seq_data))"
   ]
  },
  {
   "cell_type": "code",
   "execution_count": 64,
   "metadata": {
    "collapsed": false
   },
   "outputs": [
    {
     "name": "stdout",
     "output_type": "stream",
     "text": [
      "1684\n",
      "336\n",
      "336 1348\n"
     ]
    }
   ],
   "source": [
    "cls_valid_shuff, seq_data_shuff = sk.utils.shuffle(supervised_y, seq_data, random_state=0)\n",
    "\n",
    "print(len(cls_valid_shuff))\n",
    "\n",
    "# cls_train, cls_test, res_train, res_test = train_test_split(cls_valid_shuff, res_mat_shuff, test_size=0.2)\n",
    "train_test_split = int(len(cls_valid_shuff)*0.2)\n",
    "\n",
    "print(train_test_split)\n",
    "\n",
    "cls_test, cls_train = cls_valid_shuff[:train_test_split], cls_valid_shuff[train_test_split:]\n",
    "\n",
    "print(len(cls_test), len(cls_train))"
   ]
  },
  {
   "cell_type": "code",
   "execution_count": 87,
   "metadata": {
    "collapsed": false
   },
   "outputs": [
    {
     "name": "stdout",
     "output_type": "stream",
     "text": [
      "2955\n",
      "(4303, 701)\n"
     ]
    }
   ],
   "source": [
    "unlabeled_cls = 1 - labeled_cls\n",
    "\n",
    "seq_data_unlabeled = [i for i, validity in zip(seq_arr, unlabeled_cls) if validity]\n",
    "\n",
    "print(len(seq_data_unlabeled))\n",
    "\n",
    "# print(np.mean(unlabled_cls))\n",
    "sim_train = np.vstack((seq_data_unlabeled, seq_data_shuff[train_test_split:]))\n",
    "\n",
    "print(sim_train.shape)\n"
   ]
  },
  {
   "cell_type": "code",
   "execution_count": 78,
   "metadata": {
    "collapsed": false
   },
   "outputs": [
    {
     "name": "stdout",
     "output_type": "stream",
     "text": [
      "2955\n"
     ]
    }
   ],
   "source": [
    "num_unlabeled = np.sum(unlabeled_cls)\n",
    "print(num_unlabeled)"
   ]
  },
  {
   "cell_type": "markdown",
   "metadata": {},
   "source": [
    "## Unsupervised Training"
   ]
  },
  {
   "cell_type": "markdown",
   "metadata": {},
   "source": [
    "We create a similarity matrix, which is a pairwise comparison of DNA sequences and determining the percentage of base pairs that are the same.\n",
    "\n",
    "Because the DNA sequences have been pre-aligned, we can expect this to be mostly accurate and close to the true similiarity values. In some places, the DNA sequences have a '-' character where the base was not read correctly, or missed. We ignore these."
   ]
  },
  {
   "cell_type": "code",
   "execution_count": 116,
   "metadata": {
    "collapsed": true
   },
   "outputs": [],
   "source": [
    "sim_mat_train = -np.ones((mat_size, mat_size))"
   ]
  },
  {
   "cell_type": "code",
   "execution_count": 106,
   "metadata": {
    "collapsed": false
   },
   "outputs": [],
   "source": [
    "mat_size = len(sim_train)\n",
    "\n",
    "# Precompute no dashes\n",
    "dashes_train = []\n",
    "for i in range(mat_size):\n",
    "    dashes.append(sim_train[i] != '-')"
   ]
  },
  {
   "cell_type": "code",
   "execution_count": 117,
   "metadata": {
    "collapsed": false
   },
   "outputs": [
    {
     "data": {
      "text/plain": [
       "(4303, 4303)"
      ]
     },
     "execution_count": 117,
     "metadata": {},
     "output_type": "execute_result"
    }
   ],
   "source": [
    "sim_mat_train.shape"
   ]
  },
  {
   "cell_type": "code",
   "execution_count": 81,
   "metadata": {
    "collapsed": false
   },
   "outputs": [
    {
     "name": "stderr",
     "output_type": "stream",
     "text": [
      "100%|██████████| 4303/4303 [04:15<00:00, 16.87it/s]\n"
     ]
    }
   ],
   "source": [
    "# this will take a few minutes\n",
    "for i in trange(mat_size):\n",
    "    # clean up bad data\n",
    "    a = sim_train[i]\n",
    "    # iterate over DNA sequences and figure out the match\n",
    "    for j in range(i):\n",
    "        b = sim_train[j]\n",
    "        match = (a==b)\n",
    "        valid = (dashes[i] * dashes[j])\n",
    "        sim_mat[i,j] = np.mean(match[valid])\n",
    "        sim_mat[j,i] = sim_mat[i,j]\n",
    "    sim_mat[i,i] = 1"
   ]
  },
  {
   "cell_type": "code",
   "execution_count": 82,
   "metadata": {
    "collapsed": false
   },
   "outputs": [
    {
     "data": {
      "text/plain": [
       "array([[ 1.        ,  0.74272588,  0.76722818, ...,  0.77335375,\n",
       "         0.77947933,  0.7381317 ],\n",
       "       [ 0.74272588,  1.        ,  0.77625571, ...,  0.79147641,\n",
       "         0.80060883,  0.78995434],\n",
       "       [ 0.76722818,  0.77625571,  1.        , ...,  0.87519026,\n",
       "         0.88127854,  0.79452055],\n",
       "       ..., \n",
       "       [ 0.77335375,  0.79147641,  0.87519026, ...,  1.        ,\n",
       "         0.88127854,  0.78995434],\n",
       "       [ 0.77947933,  0.80060883,  0.88127854, ...,  0.88127854,\n",
       "         1.        ,  0.81126332],\n",
       "       [ 0.7381317 ,  0.78995434,  0.79452055, ...,  0.78995434,\n",
       "         0.81126332,  1.        ]])"
      ]
     },
     "execution_count": 82,
     "metadata": {},
     "output_type": "execute_result"
    }
   ],
   "source": [
    "sim_mat"
   ]
  },
  {
   "cell_type": "code",
   "execution_count": 83,
   "metadata": {
    "collapsed": true
   },
   "outputs": [],
   "source": [
    "valid_mat = sim_mat"
   ]
  },
  {
   "cell_type": "code",
   "execution_count": 84,
   "metadata": {
    "collapsed": false
   },
   "outputs": [
    {
     "data": {
      "text/plain": [
       "((4303, 4303), (4303, 4303))"
      ]
     },
     "execution_count": 84,
     "metadata": {},
     "output_type": "execute_result"
    }
   ],
   "source": [
    "sim_mat.shape, valid_mat.shape"
   ]
  },
  {
   "cell_type": "markdown",
   "metadata": {},
   "source": [
    "The similarity matrix is very big (100mb+), so we try PCA/SVD to extract the most useful features from the largest singular values."
   ]
  },
  {
   "cell_type": "code",
   "execution_count": 99,
   "metadata": {
    "collapsed": true
   },
   "outputs": [],
   "source": [
    "# %%time\n",
    "# u,s,v = np.linalg.svd(valid_mat, full_matrices=0)"
   ]
  },
  {
   "cell_type": "markdown",
   "metadata": {},
   "source": [
    "The rank / number of singular values we pick is a hyperparameter. We run the dimension reduction step."
   ]
  },
  {
   "cell_type": "code",
   "execution_count": 100,
   "metadata": {
    "collapsed": true
   },
   "outputs": [],
   "source": [
    "# rank = 1000\n",
    "# approx_1000 = u[:,:rank].dot(np.diag(s[:rank])).dot(v[:rank])\n",
    "# errors = ((approx_1000 - valid_mat)/valid_mat)\n",
    "# plt.hist(errors.flatten())"
   ]
  },
  {
   "cell_type": "markdown",
   "metadata": {},
   "source": [
    "## Test data projection\n",
    "\n",
    "We need to get the test data, which is currently still DNA bases, into sim matrix rows."
   ]
  },
  {
   "cell_type": "code",
   "execution_count": 130,
   "metadata": {
    "collapsed": false
   },
   "outputs": [
    {
     "name": "stdout",
     "output_type": "stream",
     "text": [
      "(3291, 701)\n",
      "(4303, 3291)\n"
     ]
    }
   ],
   "source": [
    "sim_test = np.vstack((seq_arr_unlabeled, seq_arr_shuff[:train_test_split]))\n",
    "#sim_test = seq_array_shuff[:train_test_split]\n",
    "\n",
    "sim_mat_test = -np.ones((mat_size, len(sim_test)))\n",
    "\n",
    "#print(sim_test.shape)\n",
    "print(sim_mat_test.shape)"
   ]
  },
  {
   "cell_type": "code",
   "execution_count": 131,
   "metadata": {
    "collapsed": false
   },
   "outputs": [
    {
     "name": "stderr",
     "output_type": "stream",
     "text": [
      "100%|██████████| 4303/4303 [06:06<00:00, 11.75it/s]\n"
     ]
    }
   ],
   "source": [
    "# Precompute no dashes\n",
    "dashes_test = []\n",
    "for j in range(len(sim_test)):\n",
    "    dashes_test.append(sim_test[j] != '-')\n",
    "\n",
    "# this will take a few minutes\n",
    "for i in trange(mat_size):\n",
    "    # clean up bad data\n",
    "    a = sim_train[i]\n",
    "    # iterate over DNA sequences and figure out the match\n",
    "    for j in range(len(sim_test)):\n",
    "        b = sim_test[j]\n",
    "        match = (a==b)\n",
    "        valid = (dashes[i] * dashes_test[j])\n",
    "        sim_mat_test[i,j] = np.mean(match[valid])\n",
    "        # sim_mat[j,i] = sim_mat[i,j]"
   ]
  },
  {
   "cell_type": "code",
   "execution_count": 132,
   "metadata": {
    "collapsed": false
   },
   "outputs": [
    {
     "name": "stdout",
     "output_type": "stream",
     "text": [
      "[[ 1.          0.74272588  0.76722818 ...,  0.70597243  0.71209801\n",
      "   0.79874214]\n",
      " [ 0.74272588  1.          0.77625571 ...,  0.71232877  0.68797565\n",
      "   0.72478992]\n",
      " [ 0.76722818  0.77625571  1.         ...,  0.74277017  0.75190259\n",
      "   0.7394958 ]\n",
      " ..., \n",
      " [ 0.77335375  0.79147641  0.87519026 ...,  0.73972603  0.74733638\n",
      "   0.74159664]\n",
      " [ 0.77947933  0.80060883  0.88127854 ...,  0.73515982  0.75038052\n",
      "   0.75210084]\n",
      " [ 0.7381317   0.78995434  0.79452055 ...,  0.7108067   0.72298326\n",
      "   0.71638655]]\n"
     ]
    }
   ],
   "source": [
    "print(sim_mat_test)"
   ]
  },
  {
   "cell_type": "code",
   "execution_count": 122,
   "metadata": {
    "collapsed": false
   },
   "outputs": [
    {
     "data": {
      "text/plain": [
       "(4303, 336)"
      ]
     },
     "execution_count": 122,
     "metadata": {},
     "output_type": "execute_result"
    }
   ],
   "source": [
    "sim_mat_test.shape"
   ]
  },
  {
   "cell_type": "markdown",
   "metadata": {},
   "source": [
    "## Supervised Training"
   ]
  },
  {
   "cell_type": "markdown",
   "metadata": {},
   "source": [
    "Now, we have a set of features from our pre-training step, and we're ready to run supervised training. Before we start, we need to first remove data that don't have valid labels. We can't use them anymore!"
   ]
  },
  {
   "cell_type": "code",
   "execution_count": null,
   "metadata": {
    "collapsed": true
   },
   "outputs": [],
   "source": []
  },
  {
   "cell_type": "markdown",
   "metadata": {},
   "source": [
    "We see that 36% of the data have associated labels."
   ]
  },
  {
   "cell_type": "code",
   "execution_count": 133,
   "metadata": {
    "collapsed": false
   },
   "outputs": [
    {
     "data": {
      "text/plain": [
       "0.36300926923906013"
      ]
     },
     "execution_count": 133,
     "metadata": {},
     "output_type": "execute_result"
    }
   ],
   "source": [
    "np.mean(labeled_cls)"
   ]
  },
  {
   "cell_type": "code",
   "execution_count": 142,
   "metadata": {
    "collapsed": false
   },
   "outputs": [
    {
     "name": "stdout",
     "output_type": "stream",
     "text": [
      "[1 1 1 ..., 1 0 0]\n"
     ]
    }
   ],
   "source": [
    "print(supervised_y)"
   ]
  },
  {
   "cell_type": "code",
   "execution_count": 141,
   "metadata": {
    "collapsed": false
   },
   "outputs": [
    {
     "name": "stdout",
     "output_type": "stream",
     "text": [
      "(1348, 4303) (1684,)\n"
     ]
    }
   ],
   "source": [
    "# apply the filter over our features and labels\n",
    "# supervised_X = approx[labeled_cls]\n",
    "supervised_X = valid_mat[num_unlabeled:]\n",
    "# supervised_y = cls_valid[labeled_cls]\n",
    "\n",
    "supervised_y = (supervised_y == 'Indigenous').astype(int)\n",
    "\n",
    "print(supervised_X.shape, supervised_y.shape)"
   ]
  },
  {
   "cell_type": "code",
   "execution_count": 144,
   "metadata": {
    "collapsed": false
   },
   "outputs": [
    {
     "name": "stdout",
     "output_type": "stream",
     "text": [
      "[1 1 1 ..., 1 0 0]\n",
      "['Indigenous' 'Indigenous' 'Indigenous' ..., 'Indigenous' 'Introduced'\n",
      " 'Invasive']\n"
     ]
    }
   ],
   "source": [
    "print (supervised_y)\n",
    "print (cls_valid[cls_labeled])"
   ]
  },
  {
   "cell_type": "markdown",
   "metadata": {},
   "source": [
    "Below, we run Support Vector Clustering (SVC). We shuffle the data first, and then split our data into testing and training splits.\n",
    "\n",
    "There is somewhat large variance inbetween runs, so we take the average for a more accurate score."
   ]
  },
  {
   "cell_type": "code",
   "execution_count": 145,
   "metadata": {
    "collapsed": false
   },
   "outputs": [
    {
     "name": "stdout",
     "output_type": "stream",
     "text": [
      "(1348, 4303) (1348,)\n"
     ]
    },
    {
     "ename": "ValueError",
     "evalue": "X.shape[1] = 3291 should be equal to 4303, the number of features at training time",
     "output_type": "error",
     "traceback": [
      "\u001b[0;31m---------------------------------------------------------------------------\u001b[0m",
      "\u001b[0;31mValueError\u001b[0m                                Traceback (most recent call last)",
      "\u001b[0;32m<ipython-input-145-a0e33c4618c8>\u001b[0m in \u001b[0;36m<module>\u001b[0;34m()\u001b[0m\n\u001b[1;32m     23\u001b[0m     \u001b[0mclf\u001b[0m\u001b[0;34m.\u001b[0m\u001b[0mfit\u001b[0m\u001b[0;34m(\u001b[0m\u001b[0mX\u001b[0m\u001b[0;34m,\u001b[0m \u001b[0my\u001b[0m\u001b[0;34m)\u001b[0m\u001b[0;34m\u001b[0m\u001b[0m\n\u001b[1;32m     24\u001b[0m \u001b[0;34m\u001b[0m\u001b[0m\n\u001b[0;32m---> 25\u001b[0;31m     \u001b[0mpredict\u001b[0m \u001b[0;34m=\u001b[0m \u001b[0mclf\u001b[0m\u001b[0;34m.\u001b[0m\u001b[0mpredict\u001b[0m\u001b[0;34m(\u001b[0m\u001b[0mX_test\u001b[0m\u001b[0;34m)\u001b[0m\u001b[0;34m\u001b[0m\u001b[0m\n\u001b[0m\u001b[1;32m     26\u001b[0m \u001b[0;34m\u001b[0m\u001b[0m\n\u001b[1;32m     27\u001b[0m     \u001b[0;31m# print(predict == np.array(cls_test))\u001b[0m\u001b[0;34m\u001b[0m\u001b[0;34m\u001b[0m\u001b[0m\n",
      "\u001b[0;32m/Users/Tracy/anaconda3/lib/python3.5/site-packages/sklearn/svm/base.py\u001b[0m in \u001b[0;36mpredict\u001b[0;34m(self, X)\u001b[0m\n\u001b[1;32m    546\u001b[0m             \u001b[0mClass\u001b[0m \u001b[0mlabels\u001b[0m \u001b[0;32mfor\u001b[0m \u001b[0msamples\u001b[0m \u001b[0;32min\u001b[0m \u001b[0mX\u001b[0m\u001b[0;34m.\u001b[0m\u001b[0;34m\u001b[0m\u001b[0m\n\u001b[1;32m    547\u001b[0m         \"\"\"\n\u001b[0;32m--> 548\u001b[0;31m         \u001b[0my\u001b[0m \u001b[0;34m=\u001b[0m \u001b[0msuper\u001b[0m\u001b[0;34m(\u001b[0m\u001b[0mBaseSVC\u001b[0m\u001b[0;34m,\u001b[0m \u001b[0mself\u001b[0m\u001b[0;34m)\u001b[0m\u001b[0;34m.\u001b[0m\u001b[0mpredict\u001b[0m\u001b[0;34m(\u001b[0m\u001b[0mX\u001b[0m\u001b[0;34m)\u001b[0m\u001b[0;34m\u001b[0m\u001b[0m\n\u001b[0m\u001b[1;32m    549\u001b[0m         \u001b[0;32mreturn\u001b[0m \u001b[0mself\u001b[0m\u001b[0;34m.\u001b[0m\u001b[0mclasses_\u001b[0m\u001b[0;34m.\u001b[0m\u001b[0mtake\u001b[0m\u001b[0;34m(\u001b[0m\u001b[0mnp\u001b[0m\u001b[0;34m.\u001b[0m\u001b[0masarray\u001b[0m\u001b[0;34m(\u001b[0m\u001b[0my\u001b[0m\u001b[0;34m,\u001b[0m \u001b[0mdtype\u001b[0m\u001b[0;34m=\u001b[0m\u001b[0mnp\u001b[0m\u001b[0;34m.\u001b[0m\u001b[0mintp\u001b[0m\u001b[0;34m)\u001b[0m\u001b[0;34m)\u001b[0m\u001b[0;34m\u001b[0m\u001b[0m\n\u001b[1;32m    550\u001b[0m \u001b[0;34m\u001b[0m\u001b[0m\n",
      "\u001b[0;32m/Users/Tracy/anaconda3/lib/python3.5/site-packages/sklearn/svm/base.py\u001b[0m in \u001b[0;36mpredict\u001b[0;34m(self, X)\u001b[0m\n\u001b[1;32m    306\u001b[0m         \u001b[0my_pred\u001b[0m \u001b[0;34m:\u001b[0m \u001b[0marray\u001b[0m\u001b[0;34m,\u001b[0m \u001b[0mshape\u001b[0m \u001b[0;34m(\u001b[0m\u001b[0mn_samples\u001b[0m\u001b[0;34m,\u001b[0m\u001b[0;34m)\u001b[0m\u001b[0;34m\u001b[0m\u001b[0m\n\u001b[1;32m    307\u001b[0m         \"\"\"\n\u001b[0;32m--> 308\u001b[0;31m         \u001b[0mX\u001b[0m \u001b[0;34m=\u001b[0m \u001b[0mself\u001b[0m\u001b[0;34m.\u001b[0m\u001b[0m_validate_for_predict\u001b[0m\u001b[0;34m(\u001b[0m\u001b[0mX\u001b[0m\u001b[0;34m)\u001b[0m\u001b[0;34m\u001b[0m\u001b[0m\n\u001b[0m\u001b[1;32m    309\u001b[0m         \u001b[0mpredict\u001b[0m \u001b[0;34m=\u001b[0m \u001b[0mself\u001b[0m\u001b[0;34m.\u001b[0m\u001b[0m_sparse_predict\u001b[0m \u001b[0;32mif\u001b[0m \u001b[0mself\u001b[0m\u001b[0;34m.\u001b[0m\u001b[0m_sparse\u001b[0m \u001b[0;32melse\u001b[0m \u001b[0mself\u001b[0m\u001b[0;34m.\u001b[0m\u001b[0m_dense_predict\u001b[0m\u001b[0;34m\u001b[0m\u001b[0m\n\u001b[1;32m    310\u001b[0m         \u001b[0;32mreturn\u001b[0m \u001b[0mpredict\u001b[0m\u001b[0;34m(\u001b[0m\u001b[0mX\u001b[0m\u001b[0;34m)\u001b[0m\u001b[0;34m\u001b[0m\u001b[0m\n",
      "\u001b[0;32m/Users/Tracy/anaconda3/lib/python3.5/site-packages/sklearn/svm/base.py\u001b[0m in \u001b[0;36m_validate_for_predict\u001b[0;34m(self, X)\u001b[0m\n\u001b[1;32m    457\u001b[0m             raise ValueError(\"X.shape[1] = %d should be equal to %d, \"\n\u001b[1;32m    458\u001b[0m                              \u001b[0;34m\"the number of features at training time\"\u001b[0m \u001b[0;34m%\u001b[0m\u001b[0;34m\u001b[0m\u001b[0m\n\u001b[0;32m--> 459\u001b[0;31m                              (n_features, self.shape_fit_[1]))\n\u001b[0m\u001b[1;32m    460\u001b[0m         \u001b[0;32mreturn\u001b[0m \u001b[0mX\u001b[0m\u001b[0;34m\u001b[0m\u001b[0m\n\u001b[1;32m    461\u001b[0m \u001b[0;34m\u001b[0m\u001b[0m\n",
      "\u001b[0;31mValueError\u001b[0m: X.shape[1] = 3291 should be equal to 4303, the number of features at training time"
     ]
    }
   ],
   "source": [
    "# 10/18\n",
    "\n",
    "c = 1e15\n",
    "\n",
    "avg_score = []\n",
    "\n",
    "\n",
    "for _ in range(2):\n",
    "#     res_mat_shuff, cls_valid_shuff = sk.utils.shuffle(supervised_X, supervised_y, random_state=0)\n",
    "\n",
    "#     cls_train, cls_test, res_train, res_test = train_test_split(cls_valid_shuff, res_mat_shuff, test_size=0.2)\n",
    "\n",
    "    # print(len(cls_train), len(cls_test))\n",
    "\n",
    "    X = supervised_X\n",
    "    y = cls_train #.reshape(-1, 1)\n",
    "    X_test = sim_mat_test\n",
    "    \n",
    "    print(X.shape, y.shape)\n",
    "\n",
    "    clf = SVC(C=c, kernel='poly', degree=2, coef0=0)\n",
    "\n",
    "    clf.fit(X, y)\n",
    "\n",
    "    predict = clf.predict(X_test)\n",
    "\n",
    "    # print(predict == np.array(cls_test))\n",
    "\n",
    "    score = np.mean((predict == np.array(cls_test))*1)\n",
    "    avg_score.append(score)\n",
    "\n",
    "print(avg_score, np.mean(avg_score))\n",
    "\n",
    "# print 'Approximated similarity matrix: \\n'\n",
    "# test_and_score(supervised_X, supervised_y)\n",
    "# print 'Full similarity matrix: \\n'\n",
    "# test_and_score(full_supervised_X, supervised_y)"
   ]
  },
  {
   "cell_type": "markdown",
   "metadata": {},
   "source": [
    "We see the results are very competitive.\n",
    "\n",
    "Now, we use cross validation method get another take on our performance."
   ]
  },
  {
   "cell_type": "code",
   "execution_count": 44,
   "metadata": {
    "collapsed": false
   },
   "outputs": [
    {
     "name": "stdout",
     "output_type": "stream",
     "text": [
      "Approximated similarity matrix: \n",
      "\n",
      "[array([ 0.99644128,  0.98576512,  0.98932384,  0.99644128,  1.        ,\n",
      "        0.98928571])]\n",
      "('mean scores:', [0.99287620742247074])\n",
      "\n",
      "Full similarity matrix: \n",
      "\n",
      "[array([ 0.99644128,  0.98576512,  0.98932384,  0.99644128,  1.        ,\n",
      "        0.98928571])]\n",
      "('mean scores:', [0.99287620742247074])\n"
     ]
    }
   ],
   "source": [
    "# cross validation method\n",
    "# SVM\n",
    "\n",
    "# tricks: shuffling data, cross validation, balanced classes, hyperparam tuning\n",
    "\n",
    "def cv_test_and_score(supervised_X, supervised_y, c=1e14):\n",
    "    scores = []\n",
    "    param_vals = []\n",
    "    \n",
    "    # shuffle the data\n",
    "    res_mat_shuff, cls_valid_shuff = sk.utils.shuffle(supervised_X, supervised_y, random_state=0)\n",
    "\n",
    "    c = 10*c\n",
    "    clf = SVC(C=c,kernel='poly', degree=2, coef0=0) #, gamma=i)\n",
    "\n",
    "    score = sk.cross_validation.cross_val_score(clf, res_mat_shuff, cls_valid_shuff, cv=6) #, n_jobs=-1)\n",
    "    # print('Prediction accuracy:', np.mean((prediction == np.array(cls_test))*1))\n",
    "    #Coefficients used by the classifier\n",
    "\n",
    "    scores.append(score)\n",
    "    param_vals.append(i)\n",
    "\n",
    "    print(scores)\n",
    "\n",
    "    mn_scores = [np.mean(score) for score in scores]\n",
    "\n",
    "    print('mean scores:', mn_scores)\n",
    "\n",
    "print 'Approximated similarity matrix: \\n'\n",
    "cv_test_and_score(supervised_X, supervised_y)\n",
    "print '\\nFull similarity matrix: \\n'\n",
    "cv_test_and_score(full_supervised_X, supervised_y)"
   ]
  },
  {
   "cell_type": "markdown",
   "metadata": {
    "collapsed": true
   },
   "source": [
    "Notice that we included our testing data when creating the similiarity matrix, because we first create the matrix and then separate the data into train and test sets. This is somewhat unsatisfying, and very anonying if we want to do on the fly predictions. We have to recompute the simliarity matrix every time.\n",
    "\n",
    "We now try excluding the test data from computing the similarity matrix. Instead, we can compute the values for the test data afterwards. We then also need to project the similiarity values for the test data to the SVD space, before we can run SVC."
   ]
  },
  {
   "cell_type": "code",
   "execution_count": null,
   "metadata": {
    "collapsed": true
   },
   "outputs": [],
   "source": [
    "\n"
   ]
  },
  {
   "cell_type": "code",
   "execution_count": null,
   "metadata": {
    "collapsed": true
   },
   "outputs": [],
   "source": []
  }
 ],
 "metadata": {
  "anaconda-cloud": {},
  "kernelspec": {
   "display_name": "Python [default]",
   "language": "python",
   "name": "python3"
  },
  "language_info": {
   "codemirror_mode": {
    "name": "ipython",
    "version": 3
   },
   "file_extension": ".py",
   "mimetype": "text/x-python",
   "name": "python",
   "nbconvert_exporter": "python",
   "pygments_lexer": "ipython3",
   "version": "3.5.2"
  }
 },
 "nbformat": 4,
 "nbformat_minor": 2
}
