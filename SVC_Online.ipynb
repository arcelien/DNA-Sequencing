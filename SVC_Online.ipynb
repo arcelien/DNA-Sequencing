{
 "cells": [
  {
   "cell_type": "markdown",
   "metadata": {},
   "source": [
    "# Classification of DNA Sequences to identify invasive species with semi-supervised training\n",
    "\n",
    "## Machine Learning at Berkeley Research Project\n",
    "\n",
    "### Background\n",
    "\n",
    "We attempt to solve the classification problem of identifying invasive species given binary labels and a DNA dataset from the island of Morea."
   ]
  },
  {
   "cell_type": "markdown",
   "metadata": {},
   "source": [
    "### Method\n",
    "\n",
    "We separate training and testing data completely. Otherwise, same as `SVC_Final.ipynb`"
   ]
  },
  {
   "cell_type": "markdown",
   "metadata": {},
   "source": [
    "## Data processing "
   ]
  },
  {
   "cell_type": "code",
   "execution_count": 151,
   "metadata": {},
   "outputs": [],
   "source": [
    "# import libraries\n",
    "%matplotlib inline\n",
    "import numpy as np\n",
    "import pandas as pd\n",
    "import matplotlib.pyplot as plt\n",
    "import scipy\n",
    "import sklearn as sk\n",
    "from __future__ import division\n",
    "from sklearn.cross_validation import train_test_split\n",
    "import math\n",
    "\n",
    "from tqdm import trange\n",
    "from sklearn.svm import SVC"
   ]
  },
  {
   "cell_type": "markdown",
   "metadata": {},
   "source": [
    "Here, we use pandas to read the excel sheet, and then extract features and convert the data to numpy arrays."
   ]
  },
  {
   "cell_type": "code",
   "execution_count": 152,
   "metadata": {
    "collapsed": true
   },
   "outputs": [],
   "source": [
    "# read the excel sheet \n",
    "df = pd.read_excel('./BioCode for Machine Learning.xlsx')\n",
    "\n",
    "# Read in the labels\n",
    "cls = df['Classification']\n",
    "\n",
    "# Read the DNA sequences, which are strings comprised of the letters ATCG\n",
    "seq = df['Aligned Sequence']"
   ]
  },
  {
   "cell_type": "markdown",
   "metadata": {},
   "source": [
    "The data we're working with are snippets of DNA a few hundred bases long."
   ]
  },
  {
   "cell_type": "code",
   "execution_count": 153,
   "metadata": {},
   "outputs": [
    {
     "data": {
      "text/plain": [
       "'ACTTTATATTTTCTATTTGGAACATGAGCTGGAATAGTAGGAACATCTCTAAGA---ATTTTAATTCGTGCAGAACTTGGACATCCA---GGAGCTTTA------ATTGGAGATGATCAAATTTATAATGTAATTGTAACAGCTCATGCTTTTGTAATAATTTTTTTTATAGTAATACCTATTATAATTGGAGGATTTGGAAATTGATTAGTTCCTTTAATACTTGGAGCTCCTGATATAGCTTTTCCTCGAATAAACAATATAAGTTTTTGATTATTACCACCTTCTTTAACTTTATTATTAGTAAGAAGAATAGTTGAAAATGGAGCAGGAACTGGTTGAACAGTTTACCCTCCTCTTTCTGCTAGAATTGCACATGGAGGTGCATCTGTTGATTTAGCTATTTTTTCTCTTCATTTAGCTGGTATATCATCAATTTTAGGAGCAGTAAATTTTATTACTACAGTAATTAATATACGATCAAATGGAATTTCATATGATCGTATACCTTTATTTGTATGATCAGTTGTAATTACAGCTTTATTATTATTATTATCTTTACCTGTATTAGCAGGAGCTATTACTATACTTTTAACAGATCGAAATCTAAATACCTCATTTTTTGATCCTGCTGGAGGAGGAGATCCTATTTTATATCAACATTTATTT--------------------------------'"
      ]
     },
     "execution_count": 153,
     "metadata": {},
     "output_type": "execute_result"
    }
   ],
   "source": [
    "seq[0]"
   ]
  },
  {
   "cell_type": "markdown",
   "metadata": {},
   "source": [
    "We can visualize the labels below. As we can see, the labels are very messy. We can only use the values of `Indigenous`, `Invasive`, or `NaN` for supervised training. However, because most unlabeled data points still have an associated DNA sequence, we can still use them in an unsupervised pre-training stage."
   ]
  },
  {
   "cell_type": "code",
   "execution_count": 154,
   "metadata": {},
   "outputs": [
    {
     "name": "stdout",
     "output_type": "stream",
     "text": [
      "0     Indigenous\n",
      "1     Indigenous\n",
      "2              0\n",
      "3            NaN\n",
      "4              0\n",
      "5     Indigenous\n",
      "6            NaN\n",
      "7            NaN\n",
      "8     Indigenous\n",
      "9     Indigenous\n",
      "10             0\n",
      "11             0\n",
      "12             0\n",
      "13             0\n",
      "14      Invasive\n",
      "15    Introduced\n",
      "16    Introduced\n",
      "17             0\n",
      "18    Introduced\n",
      "19    Introduced\n",
      "Name: Classification, dtype: object\n"
     ]
    }
   ],
   "source": [
    "print(cls[:20])"
   ]
  },
  {
   "cell_type": "markdown",
   "metadata": {},
   "source": [
    "However, some species don't even have associated DNA sequences. We have to discard these before we proceed."
   ]
  },
  {
   "cell_type": "code",
   "execution_count": 155,
   "metadata": {
    "collapsed": true
   },
   "outputs": [],
   "source": [
    "# Shuffles the data (to make sure)\n",
    "#cls = cls.sample(frac=1).reset_index(drop=True)"
   ]
  },
  {
   "cell_type": "code",
   "execution_count": 156,
   "metadata": {},
   "outputs": [],
   "source": [
    "# Convert DNA data to numpy array, and convert NaNs to Nones\n",
    "\n",
    "seq = np.array(seq.fillna('None'))\n",
    "\n",
    "# Create a binary filter to eliminate invalid DNA sequences\n",
    "valid_idx = np.array([i for i in range(len(seq)) if seq[i] != 'None'])\n",
    "\n",
    "# Apply the filter\n",
    "valid_seq = seq[valid_idx]\n",
    "cls_valid = cls[valid_idx]\n",
    "cls_valid = np.array(cls_valid)"
   ]
  },
  {
   "cell_type": "markdown",
   "metadata": {},
   "source": [
    "Now, we process the DNA sequences by converting the string of bases into an array of characters."
   ]
  },
  {
   "cell_type": "code",
   "execution_count": 157,
   "metadata": {},
   "outputs": [
    {
     "data": {
      "text/plain": [
       "'ACTTTATATTTTCTATTTGGAACATGAGCTGGAATAGTAGGAACATCTCTAAGA---ATTTTAATTCGTGCAGAACTTGGACATCCA---GGAGCTTTA------ATTGGAGATGATCAAATTTATAATGTAATTGTAACAGCTCATGCTTTTGTAATAATTTTTTTTATAGTAATACCTATTATAATTGGAGGATTTGGAAATTGATTAGTTCCTTTAATACTTGGAGCTCCTGATATAGCTTTTCCTCGAATAAACAATATAAGTTTTTGATTATTACCACCTTCTTTAACTTTATTATTAGTAAGAAGAATAGTTGAAAATGGAGCAGGAACTGGTTGAACAGTTTACCCTCCTCTTTCTGCTAGAATTGCACATGGAGGTGCATCTGTTGATTTAGCTATTTTTTCTCTTCATTTAGCTGGTATATCATCAATTTTAGGAGCAGTAAATTTTATTACTACAGTAATTAATATACGATCAAATGGAATTTCATATGATCGTATACCTTTATTTGTATGATCAGTTGTAATTACAGCTTTATTATTATTATTATCTTTACCTGTATTAGCAGGAGCTATTACTATACTTTTAACAGATCGAAATCTAAATACCTCATTTTTTGATCCTGCTGGAGGAGGAGATCCTATTTTATATCAACATTTATTT--------------------------------'"
      ]
     },
     "execution_count": 157,
     "metadata": {},
     "output_type": "execute_result"
    }
   ],
   "source": [
    "valid_seq[0]"
   ]
  },
  {
   "cell_type": "code",
   "execution_count": 158,
   "metadata": {
    "scrolled": true
   },
   "outputs": [
    {
     "name": "stdout",
     "output_type": "stream",
     "text": [
      "4639 4639\n"
     ]
    }
   ],
   "source": [
    "# Seperate string into individual bases. So, each value in the array is a base. Stored in list\n",
    "seq_arr = [np.array([i for i in s]) for s in valid_seq]\n",
    "\n",
    "#seq_mtx = len(seq_arr)\n",
    "\n",
    "print(len(valid_seq), len(cls_valid)) #, seq_mtx)"
   ]
  },
  {
   "cell_type": "code",
   "execution_count": 159,
   "metadata": {
    "scrolled": true
   },
   "outputs": [
    {
     "name": "stdout",
     "output_type": "stream",
     "text": [
      "<class 'list'>\n",
      "<class 'list'>\n",
      "1684\n"
     ]
    }
   ],
   "source": [
    "valid_labels = ['Introduced', 'Invasive', 'Indigenous']\n",
    "cls_labeled = [label in valid_labels for label in cls_valid]\n",
    "#labeled_cls = (valid_labels[labeled_cls] == 'Indigenous').astype(int)\n",
    "\n",
    "# Create a filter telling us which points are valid to use for supervised training\n",
    "cls_labeled = np.array(cls_labeled)\n",
    "#print(len(labeled_cls))\n",
    "unshuffled_labels = cls_valid[cls_labeled]\n",
    "\n",
    "print(type(seq_arr))\n",
    "\n",
    "seq_data = [i for i, validity in zip(seq_arr, cls_labeled) if validity]\n",
    "\n",
    "print(type(seq_data))\n",
    "print(len(seq_data))"
   ]
  },
  {
   "cell_type": "code",
   "execution_count": 160,
   "metadata": {},
   "outputs": [
    {
     "name": "stdout",
     "output_type": "stream",
     "text": [
      "1684\n",
      "336\n",
      "336 1348\n"
     ]
    }
   ],
   "source": [
    "cls_valid_shuff, seq_data_shuff = sk.utils.shuffle(unshuffled_labels, seq_data, random_state=1337)\n",
    "\n",
    "print(len(cls_valid_shuff))\n",
    "\n",
    "# cls_train, cls_test, res_train, res_test = train_test_split(cls_valid_shuff, res_mat_shuff, test_size=0.2)\n",
    "train_test_split = int(len(cls_valid_shuff)*0.2)\n",
    "\n",
    "print(train_test_split)\n",
    "\n",
    "cls_test, cls_train = cls_valid_shuff[:train_test_split], cls_valid_shuff[train_test_split:]\n",
    "\n",
    "print(len(cls_test), len(cls_train))"
   ]
  },
  {
   "cell_type": "code",
   "execution_count": 161,
   "metadata": {},
   "outputs": [
    {
     "name": "stdout",
     "output_type": "stream",
     "text": [
      "2955\n"
     ]
    }
   ],
   "source": [
    "cls_unlabeled = 1 - cls_labeled\n",
    "\n",
    "seq_data_unlabeled = [i for i, validity in zip(seq_arr, cls_unlabeled) if validity]\n",
    "\n",
    "print(len(seq_data_unlabeled))\n",
    "\n",
    "# print(np.mean(unlabled_cls))"
   ]
  },
  {
   "cell_type": "code",
   "execution_count": 162,
   "metadata": {},
   "outputs": [
    {
     "name": "stdout",
     "output_type": "stream",
     "text": [
      "2955\n"
     ]
    }
   ],
   "source": [
    "num_unlabeled = np.sum(cls_unlabeled)\n",
    "print(num_unlabeled)"
   ]
  },
  {
   "cell_type": "markdown",
   "metadata": {},
   "source": [
    "## Unsupervised Training"
   ]
  },
  {
   "cell_type": "markdown",
   "metadata": {},
   "source": [
    "We create a similarity matrix, which is a pairwise comparison of DNA sequences and determining the percentage of base pairs that are the same.\n",
    "\n",
    "Because the DNA sequences have been pre-aligned, we can expect this to be mostly accurate and close to the true similiarity values. In some places, the DNA sequences have a '-' character where the base was not read correctly, or missed. We ignore these."
   ]
  },
  {
   "cell_type": "code",
   "execution_count": 163,
   "metadata": {},
   "outputs": [
    {
     "name": "stdout",
     "output_type": "stream",
     "text": [
      "(4303, 701)\n",
      "4303\n"
     ]
    }
   ],
   "source": [
    "sim_train = np.vstack((seq_data_unlabeled, seq_data_shuff[train_test_split:]))\n",
    "print(sim_train.shape)\n",
    "\n",
    "mat_size = len(sim_train)\n",
    "print(mat_size)\n",
    "\n",
    "sim_mat_train = -np.ones((mat_size, mat_size))"
   ]
  },
  {
   "cell_type": "code",
   "execution_count": 164,
   "metadata": {},
   "outputs": [],
   "source": [
    "# Precompute no dashes\n",
    "dashes_train = []\n",
    "for i in range(mat_size):\n",
    "    dashes_train.append(sim_train[i] != '-')"
   ]
  },
  {
   "cell_type": "code",
   "execution_count": 165,
   "metadata": {},
   "outputs": [
    {
     "name": "stdout",
     "output_type": "stream",
     "text": [
      "(4303, 4303)\n"
     ]
    }
   ],
   "source": [
    "print(sim_mat_train.shape)"
   ]
  },
  {
   "cell_type": "code",
   "execution_count": 178,
   "metadata": {},
   "outputs": [],
   "source": [
    "try:\n",
    "    np.load('sim_mat_train.npy')\n",
    "\n",
    "except:\n",
    "    # this will take a few minutes\n",
    "    for i in trange(mat_size):\n",
    "        # clean up bad data\n",
    "        a = sim_train[i]\n",
    "        # iterate over DNA sequences and figure out the match\n",
    "        for j in range(i):\n",
    "            b = sim_train[j]\n",
    "            match = (a==b)\n",
    "            valid = (dashes_train[i] * dashes_train[j])\n",
    "            sim_mat_train[i,j] = np.mean(match[valid])\n",
    "            sim_mat_train[j,i] = sim_mat_train[i,j]\n",
    "        sim_mat_train[i,i] = 1\n",
    "    np.save('sim_mat_train.npy', sim_mat_train)"
   ]
  },
  {
   "cell_type": "code",
   "execution_count": 177,
   "metadata": {},
   "outputs": [],
   "source": []
  },
  {
   "cell_type": "code",
   "execution_count": 169,
   "metadata": {
    "collapsed": true
   },
   "outputs": [],
   "source": [
    "valid_mat_train = sim_mat_train"
   ]
  },
  {
   "cell_type": "code",
   "execution_count": 170,
   "metadata": {},
   "outputs": [
    {
     "data": {
      "text/plain": [
       "((4303, 4303), (4303, 4303))"
      ]
     },
     "execution_count": 170,
     "metadata": {},
     "output_type": "execute_result"
    }
   ],
   "source": [
    "sim_mat_train.shape, valid_mat_train.shape"
   ]
  },
  {
   "cell_type": "markdown",
   "metadata": {},
   "source": [
    "The similarity matrix is very big (100mb+), so we try PCA/SVD to extract the most useful features from the largest singular values."
   ]
  },
  {
   "cell_type": "code",
   "execution_count": 171,
   "metadata": {
    "collapsed": true
   },
   "outputs": [],
   "source": [
    "# %%time\n",
    "# u,s,v = np.linalg.svd(valid_mat, full_matrices=0)"
   ]
  },
  {
   "cell_type": "markdown",
   "metadata": {},
   "source": [
    "The rank / number of singular values we pick is a hyperparameter. We run the dimension reduction step."
   ]
  },
  {
   "cell_type": "code",
   "execution_count": 172,
   "metadata": {
    "collapsed": true
   },
   "outputs": [],
   "source": [
    "# rank = 1000\n",
    "# approx_1000 = u[:,:rank].dot(np.diag(s[:rank])).dot(v[:rank])\n",
    "# errors = ((approx_1000 - valid_mat)/valid_mat)\n",
    "# plt.hist(errors.flatten())"
   ]
  },
  {
   "cell_type": "markdown",
   "metadata": {},
   "source": [
    "## Test data projection\n",
    "\n",
    "We need to get the test data, which is currently still DNA bases, into sim matrix rows."
   ]
  },
  {
   "cell_type": "code",
   "execution_count": 173,
   "metadata": {},
   "outputs": [
    {
     "name": "stdout",
     "output_type": "stream",
     "text": [
      "(336, 701)\n",
      "(4303, 336)\n"
     ]
    }
   ],
   "source": [
    "#sim_test = np.vstack((seq_arr_unlabeled, seq_arr_shuff[:train_test_split]))\n",
    "sim_test = np.array(seq_data_shuff[:train_test_split])\n",
    "\n",
    "sim_mat_test = -np.ones((mat_size, len(sim_test)))\n",
    "\n",
    "print(sim_test.shape)\n",
    "print(sim_mat_test.shape)"
   ]
  },
  {
   "cell_type": "code",
   "execution_count": 174,
   "metadata": {
    "collapsed": true
   },
   "outputs": [],
   "source": [
    "# Precompute no dashes\n",
    "dashes_test = []\n",
    "for j in range(len(sim_test)):\n",
    "    dashes_test.append(sim_test[j] != '-')"
   ]
  },
  {
   "cell_type": "code",
   "execution_count": 175,
   "metadata": {},
   "outputs": [
    {
     "name": "stdout",
     "output_type": "stream",
     "text": [
      "336\n"
     ]
    }
   ],
   "source": [
    "print(len(dashes_test))"
   ]
  },
  {
   "cell_type": "code",
   "execution_count": 176,
   "metadata": {
    "scrolled": true
   },
   "outputs": [
    {
     "name": "stderr",
     "output_type": "stream",
     "text": [
      "100%|██████████| 4303/4303 [00:46<00:00, 92.92it/s] \n"
     ]
    }
   ],
   "source": [
    "# this will take a few minutes\n",
    "for i in trange(mat_size):\n",
    "    # clean up bad data\n",
    "    a = sim_train[i]\n",
    "    # iterate over DNA sequences and figure out the match\n",
    "    for j in range(len(sim_test)):\n",
    "        b = sim_test[j]\n",
    "        match = (a==b)\n",
    "        valid = (dashes_train[i] * dashes_test[j])\n",
    "        sim_mat_test[i,j] = np.mean(match[valid])\n",
    "        # sim_mat_test[j,i] = sim_mat_test[i,j]\n",
    "    # sim_mat_test[i,i] = 1"
   ]
  },
  {
   "cell_type": "code",
   "execution_count": 179,
   "metadata": {},
   "outputs": [
    {
     "name": "stdout",
     "output_type": "stream",
     "text": [
      "[[ 0.77947933  0.77758621  0.69072165 ...,  0.75990676  0.79173047\n",
      "   0.79019908]\n",
      " [ 0.79299848  0.78253425  0.70360825 ...,  0.78554779  0.80060883\n",
      "   0.81582953]\n",
      " [ 0.87975647  0.81164384  0.67783505 ...,  0.80652681  0.89497717\n",
      "   0.8934551 ]\n",
      " ..., \n",
      " [ 0.85502959  0.83136095  0.66541353 ...,  0.80909091  0.87869822\n",
      "   0.85207101]\n",
      " [ 0.7412481   0.72431507  0.67525773 ...,  0.70862471  0.75799087\n",
      "   0.75038052]\n",
      " [ 0.75342466  0.74315068  0.64948454 ...,  0.69230769  0.75038052\n",
      "   0.74885845]]\n"
     ]
    }
   ],
   "source": [
    "print(sim_mat_test)"
   ]
  },
  {
   "cell_type": "code",
   "execution_count": 180,
   "metadata": {},
   "outputs": [
    {
     "data": {
      "text/plain": [
       "(4303, 336)"
      ]
     },
     "execution_count": 180,
     "metadata": {},
     "output_type": "execute_result"
    }
   ],
   "source": [
    "sim_mat_test.shape"
   ]
  },
  {
   "cell_type": "markdown",
   "metadata": {},
   "source": [
    "## Supervised Training"
   ]
  },
  {
   "cell_type": "markdown",
   "metadata": {},
   "source": [
    "Now, we have a set of features from our pre-training step, and we're ready to run supervised training. Before we start, we need to first remove data that don't have valid labels. We can't use them anymore!"
   ]
  },
  {
   "cell_type": "code",
   "execution_count": null,
   "metadata": {
    "collapsed": true
   },
   "outputs": [],
   "source": []
  },
  {
   "cell_type": "markdown",
   "metadata": {},
   "source": [
    "We see that 36% of the data have associated labels."
   ]
  },
  {
   "cell_type": "code",
   "execution_count": 181,
   "metadata": {},
   "outputs": [
    {
     "data": {
      "text/plain": [
       "0.36300926923906013"
      ]
     },
     "execution_count": 181,
     "metadata": {},
     "output_type": "execute_result"
    }
   ],
   "source": [
    "np.mean(cls_labeled)"
   ]
  },
  {
   "cell_type": "code",
   "execution_count": 182,
   "metadata": {},
   "outputs": [
    {
     "name": "stdout",
     "output_type": "stream",
     "text": [
      "[1 1 0 ..., 0 0 0]\n"
     ]
    }
   ],
   "source": [
    "print(supervised_y)"
   ]
  },
  {
   "cell_type": "code",
   "execution_count": 189,
   "metadata": {},
   "outputs": [
    {
     "name": "stdout",
     "output_type": "stream",
     "text": [
      "(1348,) (336,)\n"
     ]
    }
   ],
   "source": [
    "# apply the filter over our features and labels\n",
    "# supervised_X = approx[labeled_cls]\n",
    "supervised_X = valid_mat_train[num_unlabeled:]\n",
    "# supervised_y = cls_valid[labeled_cls]\n",
    "\n",
    "supervised_y_train = (cls_train == 'Indigenous').astype(int)\n",
    "\n",
    "supervised_y_test = (cls_test == 'Indigenous').astype(int)\n",
    "\n",
    "print(supervised_y_train.shape, supervised_y_test.shape)"
   ]
  },
  {
   "cell_type": "code",
   "execution_count": null,
   "metadata": {},
   "outputs": [],
   "source": []
  },
  {
   "cell_type": "markdown",
   "metadata": {},
   "source": [
    "Below, we run Support Vector Clustering (SVC). We shuffle the data first, and then split our data into testing and training splits.\n",
    "\n",
    "There is somewhat large variance inbetween runs, so we take the average for a more accurate score."
   ]
  },
  {
   "cell_type": "code",
   "execution_count": null,
   "metadata": {},
   "outputs": [],
   "source": []
  },
  {
   "cell_type": "code",
   "execution_count": 190,
   "metadata": {},
   "outputs": [
    {
     "name": "stdout",
     "output_type": "stream",
     "text": [
      "(1348, 4303) (1348,) (336, 4303)\n",
      "[0 0 1 0 0 1 0 0 0 0 0 0 1 0 1 0 0 1 0 0]\n",
      "['Invasive' 'Introduced' 'Introduced' 'Introduced' 'Invasive' 'Indigenous'\n",
      " 'Indigenous' 'Indigenous' 'Invasive' 'Introduced' 'Invasive' 'Invasive'\n",
      " 'Indigenous' 'Introduced' 'Indigenous' 'Invasive' 'Invasive' 'Indigenous'\n",
      " 'Introduced' 'Invasive']\n",
      "(1348, 4303) (1348,) (336, 4303)\n",
      "[0 0 1 0 0 1 0 0 0 0 0 0 1 0 1 0 0 1 0 0]\n",
      "['Invasive' 'Introduced' 'Introduced' 'Introduced' 'Invasive' 'Indigenous'\n",
      " 'Indigenous' 'Indigenous' 'Invasive' 'Introduced' 'Invasive' 'Invasive'\n",
      " 'Indigenous' 'Introduced' 'Indigenous' 'Invasive' 'Invasive' 'Indigenous'\n",
      " 'Introduced' 'Invasive']\n",
      "[0.9821428571428571, 0.9821428571428571] 0.982142857143\n"
     ]
    }
   ],
   "source": [
    "# 10/18\n",
    "\n",
    "c = 1e15\n",
    "\n",
    "avg_score = []\n",
    "\n",
    "\n",
    "for _ in range(2):\n",
    "#     res_mat_shuff, cls_valid_shuff = sk.utils.shuffle(supervised_X, supervised_y, random_state=0)\n",
    "\n",
    "#     cls_train, cls_test, res_train, res_test = train_test_split(cls_valid_shuff, res_mat_shuff, test_size=0.2)\n",
    "\n",
    "    # print(len(cls_train), len(cls_test))\n",
    "\n",
    "    X = supervised_X\n",
    "    y = supervised_y_train #.reshape(-1, 1)\n",
    "    X_test = sim_mat_test.T\n",
    "    \n",
    "    print(X.shape, y.shape, X_test.shape)\n",
    "\n",
    "    clf = SVC(C=c, kernel='poly', degree=2, coef0=0)\n",
    "\n",
    "    clf.fit(X, y)\n",
    "\n",
    "    predict = clf.predict(X_test)\n",
    "    \n",
    "    print(predict[:20])\n",
    "    # print(predict == np.array(cls_test))\n",
    "    print(cls_test[:20])\n",
    "    score = np.mean((predict == np.array(supervised_y_test))*1)\n",
    "    avg_score.append(score)\n",
    "\n",
    "print(avg_score, np.mean(avg_score))\n",
    "\n",
    "# print 'Approximated similarity matrix: \\n'\n",
    "# test_and_score(supervised_X, supervised_y)\n",
    "# print 'Full similarity matrix: \\n'\n",
    "# test_and_score(full_supervised_X, supervised_y)"
   ]
  },
  {
   "cell_type": "markdown",
   "metadata": {},
   "source": [
    "We see the results are very competitive.\n",
    "\n",
    "Now, we use cross validation method get another take on our performance."
   ]
  },
  {
   "cell_type": "code",
   "execution_count": 101,
   "metadata": {},
   "outputs": [],
   "source": [
    "# # cross validation method\n",
    "# # SVM\n",
    "\n",
    "# # tricks: shuffling data, cross validation, balanced classes, hyperparam tuning\n",
    "\n",
    "# def cv_test_and_score(supervised_X_train, supervised_y, c=1e14):\n",
    "#     scores = []\n",
    "#     param_vals = []\n",
    "    \n",
    "#     # shuffle the data\n",
    "#     # res_mat_shuff, cls_valid_shuff = sk.utils.shuffle(supervised_X, supervised_y, random_state=0)\n",
    "\n",
    "#     c = 10*c\n",
    "#     clf = SVC(C=c,kernel='poly', degree=2, coef0=0) #, gamma=i)\n",
    "\n",
    "#     score = sk.cross_validation.cross_val_score(clf, res_mat_shuff, cls_valid_shuff, cv=6) #, n_jobs=-1)\n",
    "#     # print('Prediction accuracy:', np.mean((prediction == np.array(cls_test))*1))\n",
    "#     #Coefficients used by the classifier\n",
    "\n",
    "#     scores.append(score)\n",
    "#     param_vals.append(i)\n",
    "\n",
    "#     print(scores)\n",
    "\n",
    "#     mn_scores = [np.mean(score) for score in scores]\n",
    "\n",
    "#     print('mean scores:', mn_scores)\n",
    "\n",
    "# print ('Approximated similarity matrix: \\n')\n",
    "# cv_test_and_score(supervised_X, supervised_y)\n",
    "# # print ('\\nFull similarity matrix: \\n')\n",
    "# # cv_test_and_score(full_supervised_X, supervised_y)"
   ]
  },
  {
   "cell_type": "markdown",
   "metadata": {
    "collapsed": true
   },
   "source": [
    "Notice that we included our testing data when creating the similiarity matrix, because we first create the matrix and then separate the data into train and test sets. This is somewhat unsatisfying, and very anonying if we want to do on the fly predictions. We have to recompute the simliarity matrix every time.\n",
    "\n",
    "We now try excluding the test data from computing the similarity matrix. Instead, we can compute the values for the test data afterwards. We then also need to project the similiarity values for the test data to the SVD space, before we can run SVC."
   ]
  },
  {
   "cell_type": "code",
   "execution_count": null,
   "metadata": {
    "collapsed": true
   },
   "outputs": [],
   "source": [
    "\n"
   ]
  },
  {
   "cell_type": "code",
   "execution_count": null,
   "metadata": {
    "collapsed": true
   },
   "outputs": [],
   "source": []
  }
 ],
 "metadata": {
  "anaconda-cloud": {},
  "kernelspec": {
   "display_name": "Python 3",
   "language": "python",
   "name": "python3"
  },
  "language_info": {
   "codemirror_mode": {
    "name": "ipython",
    "version": 3
   },
   "file_extension": ".py",
   "mimetype": "text/x-python",
   "name": "python",
   "nbconvert_exporter": "python",
   "pygments_lexer": "ipython3",
   "version": "3.6.1"
  }
 },
 "nbformat": 4,
 "nbformat_minor": 2
}
